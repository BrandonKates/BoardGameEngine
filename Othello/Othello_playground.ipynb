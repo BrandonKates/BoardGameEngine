{
 "cells": [
  {
   "cell_type": "code",
   "execution_count": 8,
   "metadata": {},
   "outputs": [],
   "source": [
    "from enum import Enum\n",
    "from typing import NamedTuple\n",
    "from collections import namedtuple\n",
    "\n",
    "from tqdm.notebook import tqdm\n",
    "\n",
    "import numpy as np\n",
    "\n",
    "from Othello import Othello"
   ]
  },
  {
   "cell_type": "code",
   "execution_count": 13,
   "metadata": {},
   "outputs": [
    {
     "data": {
      "application/vnd.jupyter.widget-view+json": {
       "model_id": "c876ddbd78004b9aa82ec6a4b64141b2",
       "version_major": 2,
       "version_minor": 0
      },
      "text/plain": [
       "HBox(children=(HTML(value=''), FloatProgress(value=0.0, max=5000.0), HTML(value='')))"
      ]
     },
     "metadata": {},
     "output_type": "display_data"
    },
    {
     "name": "stdout",
     "output_type": "stream",
     "text": [
      "\n"
     ]
    }
   ],
   "source": [
    "scores = []\n",
    "final_boards = []\n",
    "players = []\n",
    "for i in tqdm(range(5000)):\n",
    "    game = Othello(print_board=False)\n",
    "    score, final_board, player = game.play_random_game()\n",
    "    scores.append(score)\n",
    "    final_boards.append(final_board)\n",
    "    players.append(player)\n",
    "scores = np.array(scores)"
   ]
  },
  {
   "cell_type": "code",
   "execution_count": 14,
   "metadata": {},
   "outputs": [
    {
     "data": {
      "text/plain": [
       "(array([32.1204, 31.8568]), array([61, 64]), array([0, 2]))"
      ]
     },
     "execution_count": 14,
     "metadata": {},
     "output_type": "execute_result"
    }
   ],
   "source": [
    "scores.mean(0), scores.max(0), scores.min(0)"
   ]
  },
  {
   "cell_type": "code",
   "execution_count": 16,
   "metadata": {},
   "outputs": [
    {
     "data": {
      "text/plain": [
       "2542"
      ]
     },
     "execution_count": 16,
     "metadata": {},
     "output_type": "execute_result"
    }
   ],
   "source": [
    "sum([p.value for p in players])\n"
   ]
  },
  {
   "cell_type": "code",
   "execution_count": 18,
   "metadata": {},
   "outputs": [
    {
     "data": {
      "text/plain": [
       "array([3639, 1708])"
      ]
     },
     "execution_count": 18,
     "metadata": {},
     "output_type": "execute_result"
    }
   ],
   "source": [
    "scores.argmin(0)"
   ]
  },
  {
   "cell_type": "code",
   "execution_count": 21,
   "metadata": {},
   "outputs": [
    {
     "name": "stdout",
     "output_type": "stream",
     "text": [
      "\n",
      "\n",
      "White: 61\tBlack: 2\n",
      "- ⚪ ⚪ ⚪ ⚪ ⚪ ⚪ ⚪\n",
      "⚪ ⚪ ⚪ ⚪ ⚫ ⚫ ⚪ ⚪\n",
      "⚪ ⚪ ⚪ ⚪ ⚪ ⚪ ⚪ ⚪\n",
      "⚪ ⚪ ⚪ ⚪ ⚪ ⚪ ⚪ ⚪\n",
      "⚪ ⚪ ⚪ ⚪ ⚪ ⚪ ⚪ ⚪\n",
      "⚪ ⚪ ⚪ ⚪ ⚪ ⚪ ⚪ ⚪\n",
      "⚪ ⚪ ⚪ ⚪ ⚪ ⚪ ⚪ ⚪\n",
      "⚪ ⚪ ⚪ ⚪ ⚪ ⚪ ⚪ ⚪\n",
      "Color.WHITE: {}\n",
      "True\n"
     ]
    }
   ],
   "source": [
    "print(final_boards[1708])"
   ]
  },
  {
   "cell_type": "code",
   "execution_count": null,
   "metadata": {},
   "outputs": [],
   "source": [
    "# I can start plugging in strategies for selecting the next valid move\n",
    "# First ideas: choose move that flip the least pieces\n",
    "# Ignore corners: program the `tips to win` into this\n",
    "# then do actual algorithmic selection: alpha-beta pruning\n",
    "# DEEP RL: DQN, DDQN (use my own architecture from OpenSpiel tasks)"
   ]
  }
 ],
 "metadata": {
  "kernelspec": {
   "display_name": "Python 3",
   "language": "python",
   "name": "python3"
  },
  "language_info": {
   "codemirror_mode": {
    "name": "ipython",
    "version": 3
   },
   "file_extension": ".py",
   "mimetype": "text/x-python",
   "name": "python",
   "nbconvert_exporter": "python",
   "pygments_lexer": "ipython3",
   "version": "3.7.7"
  }
 },
 "nbformat": 4,
 "nbformat_minor": 4
}

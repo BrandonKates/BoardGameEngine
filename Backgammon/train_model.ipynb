{
 "cells": [
  {
   "cell_type": "code",
   "execution_count": 1,
   "metadata": {},
   "outputs": [],
   "source": [
    "from BackgammonModel import *"
   ]
  },
  {
   "cell_type": "code",
   "execution_count": 2,
   "metadata": {},
   "outputs": [
    {
     "name": "stdout",
     "output_type": "stream",
     "text": [
      "Loading saved model: ./checkpoints/50/checkpoint_358000.pt\n"
     ]
    }
   ],
   "source": [
    "model = BackgammonModel( \\\n",
    "    input_size = 198,\n",
    "    hidden_size = 50,\n",
    "    output_size = 1,\n",
    "    trace_decay = 0.7,\n",
    "    alpha = 0.1,\n",
    "    save_interval = 1000,\n",
    "    saved_model = './checkpoints/50/checkpoint_358000.pt',\n",
    "    eval_interval = 100\n",
    ")"
   ]
  },
  {
   "cell_type": "code",
   "execution_count": 3,
   "metadata": {},
   "outputs": [
    {
     "name": "stdout",
     "output_type": "stream",
     "text": [
      "Loading saved model: ./checkpoints/100/checkpoint_75000.pt\n"
     ]
    }
   ],
   "source": [
    "model2 = BackgammonModel( \\\n",
    "    input_size = 198,\n",
    "    hidden_size = 100,\n",
    "    output_size = 1,\n",
    "    trace_decay = 0.7,\n",
    "    alpha = 0.1,\n",
    "    save_interval = 1000,\n",
    "    saved_model = './checkpoints/100/checkpoint_75000.pt',\n",
    "    eval_interval = 1000\n",
    ")"
   ]
  },
  {
   "cell_type": "code",
   "execution_count": 4,
   "metadata": {},
   "outputs": [
    {
     "name": "stderr",
     "output_type": "stream",
     "text": [
      "100%|██████████| 100/100 [00:07<00:00, 14.10it/s]\n"
     ]
    },
    {
     "data": {
      "text/plain": [
       "{0: 49, 1: 51, <Player.EMPTY: 2>: 0}"
      ]
     },
     "execution_count": 4,
     "metadata": {},
     "output_type": "execute_result"
    }
   ],
   "source": [
    "env = Env()\n",
    "model.evaluate(env, [RandomAgent(player = 0), \n",
    "                     RandomAgent(player = 1)])"
   ]
  },
  {
   "cell_type": "code",
   "execution_count": 5,
   "metadata": {},
   "outputs": [
    {
     "name": "stderr",
     "output_type": "stream",
     "text": [
      "100%|██████████| 100/100 [00:13<00:00,  7.48it/s]\n"
     ]
    },
    {
     "data": {
      "text/plain": [
       "{0: 94, 1: 5, <Player.EMPTY: 2>: 1}"
      ]
     },
     "execution_count": 5,
     "metadata": {},
     "output_type": "execute_result"
    }
   ],
   "source": [
    "model.evaluate(env, [TDAgent(player = 0, net = model2, env = env),\n",
    "                     RandomAgent(player = 1),\n",
    "                     ])"
   ]
  },
  {
   "cell_type": "code",
   "execution_count": 6,
   "metadata": {},
   "outputs": [
    {
     "name": "stderr",
     "output_type": "stream",
     "text": [
      "100%|██████████| 100/100 [00:28<00:00,  3.48it/s]\n"
     ]
    },
    {
     "data": {
      "text/plain": [
       "{0: 54, 1: 6, <Player.EMPTY: 2>: 40}"
      ]
     },
     "execution_count": 6,
     "metadata": {},
     "output_type": "execute_result"
    }
   ],
   "source": [
    "env = Env()\n",
    "model.evaluate(env, [RandomAgent(player = 0),\n",
    "                     TDAgent(player = 1, net = model2, env = env)])"
   ]
  },
  {
   "cell_type": "code",
   "execution_count": null,
   "metadata": {},
   "outputs": [
    {
     "name": "stderr",
     "output_type": "stream",
     "text": [
      " 48%|████▊     | 48/100 [00:09<00:11,  4.68it/s]"
     ]
    }
   ],
   "source": [
    "env = Env()\n",
    "model.evaluate(env, [TDAgent(player = 0, net = model2, env = env),\n",
    "                     TDAgent(player = 1, net = model, env = env)])"
   ]
  },
  {
   "cell_type": "code",
   "execution_count": null,
   "metadata": {},
   "outputs": [],
   "source": [
    "env = Env()\n",
    "model.evaluate(env, [TDAgent(player = 0, net = model, env = env),\n",
    "                     TDAgent(player = 1, net = model2, env = env)])"
   ]
  },
  {
   "cell_type": "code",
   "execution_count": null,
   "metadata": {},
   "outputs": [],
   "source": [
    "%load_ext line_profiler\n",
    "model = BackgammonModel( \\\n",
    "    input_size = 198,\n",
    "    hidden_size = 50,\n",
    "    output_size = 1,\n",
    "    trace_decay = 0.7,\n",
    "    alpha = 0.1,\n",
    "    save_interval = 1000,\n",
    "    saved_model = './checkpoints/50/checkpoint_358000.pt',\n",
    "    eval_interval = 100\n",
    ")\n",
    "env = Env()\n",
    "agents = [RandomAgent(player = 0), TDAgent(player = 1, net = model, env = env)]"
   ]
  },
  {
   "cell_type": "code",
   "execution_count": null,
   "metadata": {},
   "outputs": [],
   "source": [
    "p, _, _, _ = env.reset()\n",
    "agent = agents[p]\n",
    "legal_actions = env.get_legal_actions()\n",
    "print(legal_actions)\n",
    "game = env.game"
   ]
  },
  {
   "cell_type": "code",
   "execution_count": null,
   "metadata": {},
   "outputs": [],
   "source": [
    "%lprun -f game.observation_tensor game.observation_tensor(0)"
   ]
  },
  {
   "cell_type": "code",
   "execution_count": null,
   "metadata": {},
   "outputs": [],
   "source": [
    "%lprun -f game.step game.step(legal_actions[0])"
   ]
  },
  {
   "cell_type": "code",
   "execution_count": null,
   "metadata": {},
   "outputs": [],
   "source": [
    "%lprun -f agent.choose_best_action agent.choose_best_action(legal_actions)"
   ]
  },
  {
   "cell_type": "code",
   "execution_count": null,
   "metadata": {},
   "outputs": [],
   "source": [
    "%lprun -f model.evaluate model.evaluate(env, agents, num_episodes = 1)\n"
   ]
  },
  {
   "cell_type": "code",
   "execution_count": null,
   "metadata": {},
   "outputs": [],
   "source": [
    "from Backgammon import *\n",
    "game = Backgammon(verbose=False, max_turns = 200)\n"
   ]
  },
  {
   "cell_type": "code",
   "execution_count": null,
   "metadata": {},
   "outputs": [],
   "source": [
    "%lprun -f game.get_legal_actions game.get_legal_actions()"
   ]
  },
  {
   "cell_type": "code",
   "execution_count": null,
   "metadata": {},
   "outputs": [],
   "source": [
    "%lprun -f game.legal_checker_moves_outer game.legal_checker_moves_outer(0, game.dice)"
   ]
  },
  {
   "cell_type": "code",
   "execution_count": null,
   "metadata": {},
   "outputs": [],
   "source": [
    "%lprun -f game.legal_checker_moves game.legal_checker_moves(game.cur_player, game.dice)"
   ]
  },
  {
   "cell_type": "code",
   "execution_count": null,
   "metadata": {},
   "outputs": [],
   "source": [
    "a = game.legal_checker_moves(game.cur_player, game.dice)[0]\n",
    "a"
   ]
  },
  {
   "cell_type": "code",
   "execution_count": null,
   "metadata": {},
   "outputs": [],
   "source": [
    "%lprun -f game.apply_move game.apply_move(a)"
   ]
  },
  {
   "cell_type": "code",
   "execution_count": null,
   "metadata": {},
   "outputs": [],
   "source": [
    "%lprun -f game.update_board_pos game.update_board_pos(15, 1, 1)"
   ]
  },
  {
   "cell_type": "code",
   "execution_count": null,
   "metadata": {},
   "outputs": [],
   "source": []
  },
  {
   "cell_type": "code",
   "execution_count": null,
   "metadata": {},
   "outputs": [],
   "source": [
    "env = Env()\n",
    "env.reset()\n",
    "legal_actions = env.get_legal_actions()\n",
    "print(legal_actions)"
   ]
  },
  {
   "cell_type": "code",
   "execution_count": null,
   "metadata": {},
   "outputs": [],
   "source": [
    "def choose_best_action(actions):\n",
    "    obs_ = []\n",
    "    tots = []\n",
    "    for a in actions:\n",
    "        _, _, obs, _, _ = env.step(a)\n",
    "        _ = env.step_back(a)\n",
    "        tot = 0\n",
    "        for i in range(len(obs)):\n",
    "            tot +=  obs[i]*i\n",
    "        tots.append(tot)\n",
    "    return tots\n",
    "tots_no_pool = choose_best_action(legal_actions)\n",
    "print(tots_no_pool)"
   ]
  },
  {
   "cell_type": "code",
   "execution_count": null,
   "metadata": {},
   "outputs": [],
   "source": [
    "from multiprocessing import Pool\n",
    "\n",
    "def g(a):\n",
    "    _, _, obs, _, _ = env.step(a)\n",
    "    _ = env.step_back(a)\n",
    "    tot = 0\n",
    "    for i in range(len(obs)):\n",
    "        tot +=  obs[i]*i\n",
    "    return tot\n",
    "def f(x):\n",
    "    return x*x\n",
    "\n",
    "with Pool(5) as p:\n",
    "    tots_pool = p.map(g, legal_actions)\n",
    "print(tots_pool)"
   ]
  },
  {
   "cell_type": "code",
   "execution_count": null,
   "metadata": {},
   "outputs": [],
   "source": [
    "%%timeit\n",
    "_ = choose_best_action(legal_actions)\n"
   ]
  },
  {
   "cell_type": "code",
   "execution_count": null,
   "metadata": {},
   "outputs": [],
   "source": [
    "%%timeit\n",
    "with Pool(5) as p:\n",
    "    _ = p.map(g, legal_actions)"
   ]
  },
  {
   "cell_type": "code",
   "execution_count": null,
   "metadata": {},
   "outputs": [],
   "source": [
    "p = Pool(4)"
   ]
  },
  {
   "cell_type": "code",
   "execution_count": null,
   "metadata": {},
   "outputs": [],
   "source": [
    "%%timeit\n",
    "_ = p.map(g, legal_actions)"
   ]
  },
  {
   "cell_type": "code",
   "execution_count": null,
   "metadata": {},
   "outputs": [],
   "source": []
  }
 ],
 "metadata": {
  "kernelspec": {
   "display_name": "Python 3",
   "language": "python",
   "name": "python3"
  },
  "language_info": {
   "codemirror_mode": {
    "name": "ipython",
    "version": 3
   },
   "file_extension": ".py",
   "mimetype": "text/x-python",
   "name": "python",
   "nbconvert_exporter": "python",
   "pygments_lexer": "ipython3",
   "version": "3.7.4"
  }
 },
 "nbformat": 4,
 "nbformat_minor": 2
}

{
 "cells": [
  {
   "cell_type": "code",
   "execution_count": 1,
   "metadata": {},
   "outputs": [],
   "source": [
    "from BackgammonRLEnv import Env\n",
    "from BackgammonModel import BackgammonModel"
   ]
  },
  {
   "cell_type": "code",
   "execution_count": 2,
   "metadata": {},
   "outputs": [],
   "source": [
    "import torch\n",
    "import random\n",
    "import numpy as np"
   ]
  },
  {
   "cell_type": "code",
   "execution_count": 3,
   "metadata": {},
   "outputs": [],
   "source": [
    "game = Env()"
   ]
  },
  {
   "cell_type": "code",
   "execution_count": 4,
   "metadata": {},
   "outputs": [
    {
     "name": "stdout",
     "output_type": "stream",
     "text": [
      "Player 1 (white) rolled: 2\n",
      "Player 2 (black) rolled: 2\n",
      "Players rolled same numbers, rolling again...\n",
      "Player 1 (white) rolled: 6\n",
      "Player 2 (black) rolled: 3\n",
      "Player 1 (white) goes first.\n",
      "---UNDO---\n"
     ]
    }
   ],
   "source": [
    "player, obs, actions, _ = game.reset()\n",
    "assert game.game.cur_player.value == player\n",
    "chosen_list = []\n",
    "obs_list = [obs]\n",
    "for i in range(10):\n",
    "    chosen = actions[0]\n",
    "    chosen_list.append(chosen)\n",
    "    prev_player, prev_obs, prev_actions = player, obs, actions\n",
    "    #player, obs, legal_actions, reward = \n",
    "    player, obs, actions, _ = game.step(chosen)\n",
    "    obs_list.append(obs)\n",
    "    #player, obs, actions, _ = game.step_back(chosen, prev_player)\n",
    "    #assert prev_player == player\n",
    "    #assert prev_obs == obs\n",
    "    #print(game.game.turn_history[-1])\n",
    "print('---UNDO---')\n",
    "#print(game.game.turn_history)\n",
    "\n",
    "for i in range(len(chosen_list)-1,-1,-1):\n",
    "    chosen = chosen_list[i]\n",
    "    prev_player, obs, actions, _ = game.step_back(chosen)\n",
    "    assert (np.array(obs) == np.array(obs_list[i])).all()\n",
    "    assert obs == obs_list[i]\n"
   ]
  },
  {
   "cell_type": "code",
   "execution_count": 5,
   "metadata": {},
   "outputs": [],
   "source": [
    "obs = [float(o) for o in obs]\n",
    "obs = torch.FloatTensor(obs)"
   ]
  },
  {
   "cell_type": "code",
   "execution_count": 6,
   "metadata": {},
   "outputs": [],
   "source": [
    "a = actions[0]"
   ]
  },
  {
   "cell_type": "code",
   "execution_count": 7,
   "metadata": {},
   "outputs": [],
   "source": [
    "model = BackgammonModel(198, 50, 1)"
   ]
  },
  {
   "cell_type": "code",
   "execution_count": 8,
   "metadata": {},
   "outputs": [
    {
     "name": "stdout",
     "output_type": "stream",
     "text": [
      "38\n"
     ]
    }
   ],
   "source": [
    "obs_list = []\n",
    "for a in actions:\n",
    "    _, obs, legal_actions, reward = game.step(a)\n",
    "    obs_list.append(obs)\n",
    "    _ = game.step_back(a)\n",
    "print(len(obs_list))"
   ]
  },
  {
   "cell_type": "code",
   "execution_count": 9,
   "metadata": {},
   "outputs": [
    {
     "data": {
      "text/plain": [
       "486"
      ]
     },
     "execution_count": 9,
     "metadata": {},
     "output_type": "execute_result"
    }
   ],
   "source": [
    "game.agents[0].choose_best_action(actions)"
   ]
  },
  {
   "cell_type": "code",
   "execution_count": 10,
   "metadata": {
    "collapsed": true
   },
   "outputs": [
    {
     "name": "stdout",
     "output_type": "stream",
     "text": [
      "tensor([[0.5088],\n",
      "        [0.5075],\n",
      "        [0.5117],\n",
      "        [0.5098],\n",
      "        [0.5116],\n",
      "        [0.5088],\n",
      "        [0.5075],\n",
      "        [0.5117],\n",
      "        [0.5098],\n",
      "        [0.5116],\n",
      "        [0.5117],\n",
      "        [0.5148],\n",
      "        [0.5166],\n",
      "        [0.5116],\n",
      "        [0.5134],\n",
      "        [0.5117],\n",
      "        [0.5148],\n",
      "        [0.5166],\n",
      "        [0.5116],\n",
      "        [0.5134],\n",
      "        [0.5098],\n",
      "        [0.5116],\n",
      "        [0.5127],\n",
      "        [0.5115],\n",
      "        [0.5098],\n",
      "        [0.5116],\n",
      "        [0.5127],\n",
      "        [0.5115],\n",
      "        [0.5116],\n",
      "        [0.5134],\n",
      "        [0.5115],\n",
      "        [0.5181],\n",
      "        [0.5137],\n",
      "        [0.5116],\n",
      "        [0.5134],\n",
      "        [0.5115],\n",
      "        [0.5181],\n",
      "        [0.5137]], grad_fn=<SigmoidBackward>)\n"
     ]
    }
   ],
   "source": [
    "out = model(torch.FloatTensor(obs_list))\n",
    "print(out)"
   ]
  },
  {
   "cell_type": "code",
   "execution_count": 31,
   "metadata": {},
   "outputs": [],
   "source": [
    "model(torch.FloatTensor(obs)).backward()"
   ]
  },
  {
   "cell_type": "code",
   "execution_count": 33,
   "metadata": {},
   "outputs": [
    {
     "name": "stdout",
     "output_type": "stream",
     "text": [
      "tensor([[-0.0000e+00, -6.0811e-03, -0.0000e+00,  ..., -0.0000e+00,\n",
      "         -0.0000e+00, -0.0000e+00],\n",
      "        [-0.0000e+00, -5.0153e-03, -0.0000e+00,  ..., -0.0000e+00,\n",
      "         -0.0000e+00, -0.0000e+00],\n",
      "        [ 0.0000e+00,  8.3688e-04,  0.0000e+00,  ...,  0.0000e+00,\n",
      "          0.0000e+00,  0.0000e+00],\n",
      "        ...,\n",
      "        [-0.0000e+00, -6.9007e-03, -0.0000e+00,  ..., -0.0000e+00,\n",
      "         -0.0000e+00, -0.0000e+00],\n",
      "        [-0.0000e+00, -8.2806e-05, -0.0000e+00,  ..., -0.0000e+00,\n",
      "         -0.0000e+00, -0.0000e+00],\n",
      "        [ 0.0000e+00,  6.1024e-03,  0.0000e+00,  ...,  0.0000e+00,\n",
      "          0.0000e+00,  0.0000e+00]])\n",
      "torch.Size([50, 198])\n",
      "tensor([-6.0811e-03, -5.0153e-03,  8.3688e-04, -1.3632e-03, -3.2388e-03,\n",
      "        -3.4526e-03,  8.1014e-03, -8.4998e-03, -7.4729e-03, -3.9661e-03,\n",
      "        -7.5794e-03,  7.3715e-03,  8.3652e-03, -7.7233e-03, -2.3664e-03,\n",
      "         6.2565e-03, -1.0966e-03,  7.9414e-03, -9.2497e-04, -8.5037e-03,\n",
      "        -7.9226e-03, -4.6776e-03,  8.0672e-03,  3.1146e-03,  5.5891e-03,\n",
      "         3.4045e-03, -3.0549e-03, -4.1706e-03,  8.6859e-03,  3.4748e-03,\n",
      "        -4.6877e-03,  5.3968e-03,  5.5226e-03, -9.3795e-04, -6.3770e-03,\n",
      "        -3.5952e-03,  2.1922e-03,  1.0769e-03,  5.9037e-03, -8.6918e-03,\n",
      "         5.6875e-03,  5.8507e-03,  3.4950e-03,  6.0694e-03,  6.5239e-03,\n",
      "        -6.8232e-03,  4.6251e-03, -6.9007e-03, -8.2806e-05,  6.1024e-03])\n",
      "torch.Size([50])\n",
      "tensor([[0.1207, 0.1147, 0.1147, 0.1168, 0.1108, 0.1044, 0.1135, 0.1360, 0.1172,\n",
      "         0.1304, 0.1223, 0.1209, 0.1257, 0.1158, 0.1284, 0.1386, 0.1231, 0.1061,\n",
      "         0.1357, 0.1197, 0.1368, 0.1384, 0.1062, 0.1367, 0.1114, 0.1134, 0.1228,\n",
      "         0.1144, 0.1319, 0.1164, 0.1387, 0.1308, 0.1305, 0.1429, 0.1281, 0.1358,\n",
      "         0.1363, 0.1281, 0.1053, 0.1299, 0.1175, 0.1340, 0.1286, 0.1278, 0.1422,\n",
      "         0.1218, 0.1147, 0.1232, 0.1381, 0.1250]])\n",
      "torch.Size([1, 50])\n",
      "tensor([0.2498])\n",
      "torch.Size([1])\n"
     ]
    }
   ],
   "source": [
    "for i,j in enumerate(list(model.parameters())):\n",
    "    print(j.grad)\n",
    "    print(j.shape)"
   ]
  }
 ],
 "metadata": {
  "kernelspec": {
   "display_name": "Python 3",
   "language": "python",
   "name": "python3"
  },
  "language_info": {
   "codemirror_mode": {
    "name": "ipython",
    "version": 3
   },
   "file_extension": ".py",
   "mimetype": "text/x-python",
   "name": "python",
   "nbconvert_exporter": "python",
   "pygments_lexer": "ipython3",
   "version": "3.7.4"
  }
 },
 "nbformat": 4,
 "nbformat_minor": 2
}

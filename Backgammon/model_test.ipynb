{
 "cells": [
  {
   "cell_type": "code",
   "execution_count": 1,
   "metadata": {},
   "outputs": [],
   "source": [
    "from BackgammonRLEnv import Env\n",
    "from BackgammonModel import BackgammonModel"
   ]
  },
  {
   "cell_type": "code",
   "execution_count": 2,
   "metadata": {},
   "outputs": [],
   "source": [
    "import torch\n",
    "import random"
   ]
  },
  {
   "cell_type": "code",
   "execution_count": 3,
   "metadata": {},
   "outputs": [],
   "source": [
    "game = Env()"
   ]
  },
  {
   "cell_type": "code",
   "execution_count": 6,
   "metadata": {},
   "outputs": [
    {
     "name": "stdout",
     "output_type": "stream",
     "text": [
      "Player 1 (white) rolled: 2\n",
      "Player 2 (black) rolled: 4\n",
      "Player 2 (black) goes first.\n",
      "Turn(player=<Player.DARK: 1>, prev_player=<Player.DARK: 1>, dice=(3, 1), action=621, double_turn=False, first_move_hit=False, second_move_hit=False)\n",
      "Turn(player=<Player.LIGHT: 0>, prev_player=<Player.DARK: 1>, dice=(2, 1), action=0, double_turn=False, first_move_hit=False, second_move_hit=False)\n",
      "Turn(player=<Player.DARK: 1>, prev_player=<Player.LIGHT: 0>, dice=(4, 2), action=1010, double_turn=False, first_move_hit=False, second_move_hit=False)\n",
      "Turn(player=<Player.LIGHT: 0>, prev_player=<Player.DARK: 1>, dice=(6, 2), action=729, double_turn=False, first_move_hit=False, second_move_hit=True)\n",
      "Turn(player=<Player.DARK: 1>, prev_player=<Player.LIGHT: 0>, dice=(4, 3), action=544, double_turn=False, first_move_hit=False, second_move_hit=False)\n",
      "Turn(player=<Player.LIGHT: 0>, prev_player=<Player.DARK: 1>, dice=(4, 3), action=835, double_turn=False, first_move_hit=False, second_move_hit=False)\n",
      "Turn(player=<Player.DARK: 1>, prev_player=<Player.LIGHT: 0>, dice=(4, 4), action=355, double_turn=False, first_move_hit=False, second_move_hit=False)\n",
      "Turn(player=<Player.DARK: 1>, prev_player=<Player.LIGHT: 0>, dice=(4, 4), action=324, double_turn=True, first_move_hit=True, second_move_hit=False)\n",
      "Turn(player=<Player.LIGHT: 0>, prev_player=<Player.DARK: 1>, dice=(1, 1), action=24, double_turn=False, first_move_hit=False, second_move_hit=False)\n",
      "Turn(player=<Player.LIGHT: 0>, prev_player=<Player.DARK: 1>, dice=(1, 1), action=53, double_turn=True, first_move_hit=False, second_move_hit=False)\n",
      "---UNDO---\n",
      "Turn(player=<Player.LIGHT: 0>, prev_player=<Player.DARK: 1>, dice=(1, 1), action=53, double_turn=True, first_move_hit=False, second_move_hit=False)\n",
      "Turn(player=<Player.LIGHT: 0>, prev_player=<Player.DARK: 1>, dice=(1, 1), action=24, double_turn=False, first_move_hit=False, second_move_hit=False)\n",
      "Turn(player=<Player.DARK: 1>, prev_player=<Player.LIGHT: 0>, dice=(4, 4), action=324, double_turn=True, first_move_hit=True, second_move_hit=False)\n"
     ]
    },
    {
     "ename": "AssertionError",
     "evalue": "",
     "output_type": "error",
     "traceback": [
      "\u001b[0;31m---------------------------------------------------------------------------\u001b[0m",
      "\u001b[0;31mAssertionError\u001b[0m                            Traceback (most recent call last)",
      "\u001b[0;32m<ipython-input-6-7780af514472>\u001b[0m in \u001b[0;36m<module>\u001b[0;34m\u001b[0m\n\u001b[1;32m     20\u001b[0m     \u001b[0mchosen\u001b[0m \u001b[0;34m=\u001b[0m \u001b[0mchosen_list\u001b[0m\u001b[0;34m[\u001b[0m\u001b[0mi\u001b[0m\u001b[0;34m]\u001b[0m\u001b[0;34m\u001b[0m\u001b[0;34m\u001b[0m\u001b[0m\n\u001b[1;32m     21\u001b[0m     \u001b[0mprev_player\u001b[0m\u001b[0;34m,\u001b[0m \u001b[0mobs\u001b[0m\u001b[0;34m,\u001b[0m \u001b[0mactions\u001b[0m\u001b[0;34m,\u001b[0m \u001b[0m_\u001b[0m \u001b[0;34m=\u001b[0m \u001b[0mgame\u001b[0m\u001b[0;34m.\u001b[0m\u001b[0mstep_back\u001b[0m\u001b[0;34m(\u001b[0m\u001b[0mchosen\u001b[0m\u001b[0;34m,\u001b[0m \u001b[0mprev_player\u001b[0m\u001b[0;34m)\u001b[0m\u001b[0;34m\u001b[0m\u001b[0;34m\u001b[0m\u001b[0m\n\u001b[0;32m---> 22\u001b[0;31m     \u001b[0;32massert\u001b[0m \u001b[0mobs\u001b[0m \u001b[0;34m==\u001b[0m \u001b[0mobs_list\u001b[0m\u001b[0;34m[\u001b[0m\u001b[0mi\u001b[0m\u001b[0;34m]\u001b[0m\u001b[0;34m\u001b[0m\u001b[0;34m\u001b[0m\u001b[0m\n\u001b[0m",
      "\u001b[0;31mAssertionError\u001b[0m: "
     ]
    }
   ],
   "source": [
    "player, obs, actions, _ = game.reset()\n",
    "assert game.game.cur_player.value == player\n",
    "chosen_list = []\n",
    "obs_list = [obs]\n",
    "for i in range(10):\n",
    "    chosen = actions[0]\n",
    "    chosen_list.append(chosen)\n",
    "    prev_player, prev_obs, prev_actions = player, obs, actions\n",
    "    #player, obs, legal_actions, reward = \n",
    "    player, obs, actions, _ = game.step(chosen)\n",
    "    obs_list.append(obs)\n",
    "    #player, obs, actions, _ = game.step_back(chosen, prev_player)\n",
    "    #assert prev_player == player\n",
    "    #assert prev_obs == obs\n",
    "    print(game.game.turn_history[-1])\n",
    "print('---UNDO---')\n",
    "#print(game.game.turn_history)\n",
    "    \n",
    "for i in range(len(chosen_list)-1,-1,-1):\n",
    "    chosen = chosen_list[i]\n",
    "    prev_player, obs, actions, _ = game.step_back(chosen, prev_player)\n",
    "    assert obs == obs_list[i]"
   ]
  },
  {
   "cell_type": "code",
   "execution_count": null,
   "metadata": {},
   "outputs": [],
   "source": [
    "chosen_list"
   ]
  },
  {
   "cell_type": "code",
   "execution_count": null,
   "metadata": {},
   "outputs": [],
   "source": [
    "print(game.game)"
   ]
  },
  {
   "cell_type": "code",
   "execution_count": null,
   "metadata": {},
   "outputs": [],
   "source": [
    "obs = [float(o) for o in obs]\n",
    "obs = torch.FloatTensor(obs)"
   ]
  },
  {
   "cell_type": "code",
   "execution_count": null,
   "metadata": {},
   "outputs": [],
   "source": [
    "a = actions[0]"
   ]
  },
  {
   "cell_type": "code",
   "execution_count": null,
   "metadata": {},
   "outputs": [],
   "source": [
    "model = BackgammonModel(198, 50, 4)\n",
    "model.forward(obs)"
   ]
  },
  {
   "cell_type": "code",
   "execution_count": null,
   "metadata": {},
   "outputs": [],
   "source": [
    "for a in actions:\n",
    "    model(obs)"
   ]
  }
 ],
 "metadata": {
  "kernelspec": {
   "display_name": "Python 3",
   "language": "python",
   "name": "python3"
  },
  "language_info": {
   "codemirror_mode": {
    "name": "ipython",
    "version": 3
   },
   "file_extension": ".py",
   "mimetype": "text/x-python",
   "name": "python",
   "nbconvert_exporter": "python",
   "pygments_lexer": "ipython3",
   "version": "3.7.4"
  }
 },
 "nbformat": 4,
 "nbformat_minor": 2
}

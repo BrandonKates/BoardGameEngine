{
 "cells": [
  {
   "cell_type": "code",
   "execution_count": 1,
   "metadata": {},
   "outputs": [],
   "source": [
    "from BackgammonModel import *"
   ]
  },
  {
   "cell_type": "code",
   "execution_count": 2,
   "metadata": {},
   "outputs": [],
   "source": [
    "model = BackgammonModel( \\\n",
    "    input_size = 198,\n",
    "    hidden_size = 50,\n",
    "    output_size = 1,\n",
    "    trace_decay = 0,\n",
    "    alpha = 0.1,\n",
    "    save_interval = 1000,\n",
    "    saved_model = './checkpoints/checkpoint_72000.pt',\n",
    "    eval_interval = 1000\n",
    ")"
   ]
  },
  {
   "cell_type": "code",
   "execution_count": 3,
   "metadata": {},
   "outputs": [
    {
     "data": {
      "application/vnd.jupyter.widget-view+json": {
       "model_id": "cf8633461d80469ca38489dd25c43db1",
       "version_major": 2,
       "version_minor": 0
      },
      "text/plain": [
       "HBox(children=(IntProgress(value=0, max=300001), HTML(value='')))"
      ]
     },
     "metadata": {},
     "output_type": "display_data"
    },
    {
     "name": "stdout",
     "output_type": "stream",
     "text": [
      "loading saved model: ./checkpoints/checkpoint_72000.pt\n"
     ]
    },
    {
     "data": {
      "application/vnd.jupyter.widget-view+json": {
       "model_id": "9f969500dae0428cb781eef41eaf4be7",
       "version_major": 2,
       "version_minor": 0
      },
      "text/plain": [
       "HBox(children=(IntProgress(value=0), HTML(value='')))"
      ]
     },
     "metadata": {},
     "output_type": "display_data"
    },
    {
     "name": "stdout",
     "output_type": "stream",
     "text": [
      "\n",
      "Eval, Episode: 73000, Wins: {<Player.LIGHT: 0>: 57, <Player.DARK: 1>: 15, <Player.EMPTY: 2>: 28}\n",
      "loading saved model: ./checkpoints/checkpoint_72000.pt\n"
     ]
    },
    {
     "data": {
      "application/vnd.jupyter.widget-view+json": {
       "model_id": "7a9b8e364b8e4fb7aca5a88fabf1710f",
       "version_major": 2,
       "version_minor": 0
      },
      "text/plain": [
       "HBox(children=(IntProgress(value=0), HTML(value='')))"
      ]
     },
     "metadata": {},
     "output_type": "display_data"
    },
    {
     "name": "stdout",
     "output_type": "stream",
     "text": [
      "\n",
      "Eval, Episode: 74000, Wins: {<Player.LIGHT: 0>: 61, <Player.DARK: 1>: 18, <Player.EMPTY: 2>: 21}\n",
      "loading saved model: ./checkpoints/checkpoint_72000.pt\n"
     ]
    },
    {
     "data": {
      "application/vnd.jupyter.widget-view+json": {
       "model_id": "c2009aade2fc464bae42b76cf5ae50b6",
       "version_major": 2,
       "version_minor": 0
      },
      "text/plain": [
       "HBox(children=(IntProgress(value=0), HTML(value='')))"
      ]
     },
     "metadata": {},
     "output_type": "display_data"
    },
    {
     "name": "stdout",
     "output_type": "stream",
     "text": [
      "\n",
      "Eval, Episode: 75000, Wins: {<Player.LIGHT: 0>: 62, <Player.DARK: 1>: 15, <Player.EMPTY: 2>: 23}\n",
      "loading saved model: ./checkpoints/checkpoint_72000.pt\n"
     ]
    },
    {
     "data": {
      "application/vnd.jupyter.widget-view+json": {
       "model_id": "132331e3676d48c3addea57e73899301",
       "version_major": 2,
       "version_minor": 0
      },
      "text/plain": [
       "HBox(children=(IntProgress(value=0), HTML(value='')))"
      ]
     },
     "metadata": {},
     "output_type": "display_data"
    },
    {
     "name": "stdout",
     "output_type": "stream",
     "text": [
      "\n",
      "Eval, Episode: 76000, Wins: {<Player.LIGHT: 0>: 50, <Player.DARK: 1>: 16, <Player.EMPTY: 2>: 34}\n",
      "loading saved model: ./checkpoints/checkpoint_72000.pt\n"
     ]
    },
    {
     "data": {
      "application/vnd.jupyter.widget-view+json": {
       "model_id": "b1377c38906a4324bd304326d3d9686a",
       "version_major": 2,
       "version_minor": 0
      },
      "text/plain": [
       "HBox(children=(IntProgress(value=0), HTML(value='')))"
      ]
     },
     "metadata": {},
     "output_type": "display_data"
    },
    {
     "name": "stdout",
     "output_type": "stream",
     "text": [
      "\n",
      "Eval, Episode: 77000, Wins: {<Player.LIGHT: 0>: 50, <Player.DARK: 1>: 12, <Player.EMPTY: 2>: 38}\n",
      "loading saved model: ./checkpoints/checkpoint_72000.pt\n"
     ]
    },
    {
     "data": {
      "application/vnd.jupyter.widget-view+json": {
       "model_id": "36492de79aff44f3a2c78f1b01e2c681",
       "version_major": 2,
       "version_minor": 0
      },
      "text/plain": [
       "HBox(children=(IntProgress(value=0), HTML(value='')))"
      ]
     },
     "metadata": {},
     "output_type": "display_data"
    },
    {
     "name": "stdout",
     "output_type": "stream",
     "text": [
      "\n",
      "Eval, Episode: 78000, Wins: {<Player.LIGHT: 0>: 58, <Player.DARK: 1>: 11, <Player.EMPTY: 2>: 31}\n",
      "loading saved model: ./checkpoints/checkpoint_72000.pt\n"
     ]
    },
    {
     "data": {
      "application/vnd.jupyter.widget-view+json": {
       "model_id": "9d9fcd77e77840d493a657c8141c8a01",
       "version_major": 2,
       "version_minor": 0
      },
      "text/plain": [
       "HBox(children=(IntProgress(value=0), HTML(value='')))"
      ]
     },
     "metadata": {},
     "output_type": "display_data"
    },
    {
     "name": "stdout",
     "output_type": "stream",
     "text": [
      "\n",
      "Eval, Episode: 79000, Wins: {<Player.LIGHT: 0>: 65, <Player.DARK: 1>: 10, <Player.EMPTY: 2>: 25}\n",
      "loading saved model: ./checkpoints/checkpoint_72000.pt\n"
     ]
    },
    {
     "data": {
      "application/vnd.jupyter.widget-view+json": {
       "model_id": "8a39d8d720504552bb8795a737a936ba",
       "version_major": 2,
       "version_minor": 0
      },
      "text/plain": [
       "HBox(children=(IntProgress(value=0), HTML(value='')))"
      ]
     },
     "metadata": {},
     "output_type": "display_data"
    },
    {
     "name": "stdout",
     "output_type": "stream",
     "text": [
      "\n",
      "Eval, Episode: 80000, Wins: {<Player.LIGHT: 0>: 76, <Player.DARK: 1>: 8, <Player.EMPTY: 2>: 16}\n",
      "loading saved model: ./checkpoints/checkpoint_72000.pt\n"
     ]
    },
    {
     "data": {
      "application/vnd.jupyter.widget-view+json": {
       "model_id": "99b451410ab24e5eb11283c8d871429f",
       "version_major": 2,
       "version_minor": 0
      },
      "text/plain": [
       "HBox(children=(IntProgress(value=0), HTML(value='')))"
      ]
     },
     "metadata": {},
     "output_type": "display_data"
    },
    {
     "name": "stdout",
     "output_type": "stream",
     "text": [
      "\n",
      "Eval, Episode: 81000, Wins: {<Player.LIGHT: 0>: 55, <Player.DARK: 1>: 8, <Player.EMPTY: 2>: 37}\n",
      "loading saved model: ./checkpoints/checkpoint_72000.pt\n"
     ]
    },
    {
     "data": {
      "application/vnd.jupyter.widget-view+json": {
       "model_id": "6fa14f6704ea417d89ad6ed4d71e75cd",
       "version_major": 2,
       "version_minor": 0
      },
      "text/plain": [
       "HBox(children=(IntProgress(value=0), HTML(value='')))"
      ]
     },
     "metadata": {},
     "output_type": "display_data"
    },
    {
     "name": "stdout",
     "output_type": "stream",
     "text": [
      "\n",
      "Eval, Episode: 82000, Wins: {<Player.LIGHT: 0>: 69, <Player.DARK: 1>: 10, <Player.EMPTY: 2>: 21}\n",
      "loading saved model: ./checkpoints/checkpoint_72000.pt\n"
     ]
    },
    {
     "data": {
      "application/vnd.jupyter.widget-view+json": {
       "model_id": "57568b262315495eab4b5f354e9b5b7c",
       "version_major": 2,
       "version_minor": 0
      },
      "text/plain": [
       "HBox(children=(IntProgress(value=0), HTML(value='')))"
      ]
     },
     "metadata": {},
     "output_type": "display_data"
    },
    {
     "name": "stdout",
     "output_type": "stream",
     "text": [
      "\n",
      "Eval, Episode: 83000, Wins: {<Player.LIGHT: 0>: 49, <Player.DARK: 1>: 14, <Player.EMPTY: 2>: 37}\n",
      "loading saved model: ./checkpoints/checkpoint_72000.pt\n"
     ]
    },
    {
     "data": {
      "application/vnd.jupyter.widget-view+json": {
       "model_id": "4190274055554d24a0ef890694147658",
       "version_major": 2,
       "version_minor": 0
      },
      "text/plain": [
       "HBox(children=(IntProgress(value=0), HTML(value='')))"
      ]
     },
     "metadata": {},
     "output_type": "display_data"
    },
    {
     "name": "stdout",
     "output_type": "stream",
     "text": [
      "\n",
      "Eval, Episode: 84000, Wins: {<Player.LIGHT: 0>: 58, <Player.DARK: 1>: 16, <Player.EMPTY: 2>: 26}\n",
      "loading saved model: ./checkpoints/checkpoint_72000.pt\n"
     ]
    },
    {
     "data": {
      "application/vnd.jupyter.widget-view+json": {
       "model_id": "f276df117b3244eabb8fb92a56ba3fd8",
       "version_major": 2,
       "version_minor": 0
      },
      "text/plain": [
       "HBox(children=(IntProgress(value=0), HTML(value='')))"
      ]
     },
     "metadata": {},
     "output_type": "display_data"
    },
    {
     "name": "stdout",
     "output_type": "stream",
     "text": [
      "\n",
      "Eval, Episode: 85000, Wins: {<Player.LIGHT: 0>: 59, <Player.DARK: 1>: 16, <Player.EMPTY: 2>: 25}\n",
      "loading saved model: ./checkpoints/checkpoint_72000.pt\n"
     ]
    },
    {
     "data": {
      "application/vnd.jupyter.widget-view+json": {
       "model_id": "9ccd98e6f6ed42f98497f6306f1dc1ec",
       "version_major": 2,
       "version_minor": 0
      },
      "text/plain": [
       "HBox(children=(IntProgress(value=0), HTML(value='')))"
      ]
     },
     "metadata": {},
     "output_type": "display_data"
    },
    {
     "name": "stdout",
     "output_type": "stream",
     "text": [
      "\n",
      "Eval, Episode: 86000, Wins: {<Player.LIGHT: 0>: 63, <Player.DARK: 1>: 18, <Player.EMPTY: 2>: 19}\n",
      "loading saved model: ./checkpoints/checkpoint_72000.pt\n"
     ]
    },
    {
     "data": {
      "application/vnd.jupyter.widget-view+json": {
       "model_id": "d66a68ec05664639948a45879b815ceb",
       "version_major": 2,
       "version_minor": 0
      },
      "text/plain": [
       "HBox(children=(IntProgress(value=0), HTML(value='')))"
      ]
     },
     "metadata": {},
     "output_type": "display_data"
    },
    {
     "name": "stdout",
     "output_type": "stream",
     "text": [
      "\n",
      "Eval, Episode: 87000, Wins: {<Player.LIGHT: 0>: 64, <Player.DARK: 1>: 6, <Player.EMPTY: 2>: 30}\n",
      "loading saved model: ./checkpoints/checkpoint_72000.pt\n"
     ]
    },
    {
     "data": {
      "application/vnd.jupyter.widget-view+json": {
       "model_id": "fbbdc2e9e1104114831a6ea718808c06",
       "version_major": 2,
       "version_minor": 0
      },
      "text/plain": [
       "HBox(children=(IntProgress(value=0), HTML(value='')))"
      ]
     },
     "metadata": {},
     "output_type": "display_data"
    },
    {
     "name": "stdout",
     "output_type": "stream",
     "text": [
      "\n",
      "Eval, Episode: 88000, Wins: {<Player.LIGHT: 0>: 54, <Player.DARK: 1>: 13, <Player.EMPTY: 2>: 33}\n",
      "loading saved model: ./checkpoints/checkpoint_72000.pt\n"
     ]
    },
    {
     "data": {
      "application/vnd.jupyter.widget-view+json": {
       "model_id": "c43c40d8433a4111bef5a25794e75b43",
       "version_major": 2,
       "version_minor": 0
      },
      "text/plain": [
       "HBox(children=(IntProgress(value=0), HTML(value='')))"
      ]
     },
     "metadata": {},
     "output_type": "display_data"
    },
    {
     "name": "stdout",
     "output_type": "stream",
     "text": [
      "\n",
      "Eval, Episode: 89000, Wins: {<Player.LIGHT: 0>: 66, <Player.DARK: 1>: 11, <Player.EMPTY: 2>: 23}\n",
      "loading saved model: ./checkpoints/checkpoint_72000.pt\n"
     ]
    },
    {
     "data": {
      "application/vnd.jupyter.widget-view+json": {
       "model_id": "6b88f66b5120450ca6328db13c8be621",
       "version_major": 2,
       "version_minor": 0
      },
      "text/plain": [
       "HBox(children=(IntProgress(value=0), HTML(value='')))"
      ]
     },
     "metadata": {},
     "output_type": "display_data"
    },
    {
     "name": "stdout",
     "output_type": "stream",
     "text": [
      "\n",
      "Eval, Episode: 90000, Wins: {<Player.LIGHT: 0>: 66, <Player.DARK: 1>: 11, <Player.EMPTY: 2>: 23}\n",
      "loading saved model: ./checkpoints/checkpoint_72000.pt\n"
     ]
    },
    {
     "data": {
      "application/vnd.jupyter.widget-view+json": {
       "model_id": "276f22e7cf084dbf9cd76d838e8d2861",
       "version_major": 2,
       "version_minor": 0
      },
      "text/plain": [
       "HBox(children=(IntProgress(value=0), HTML(value='')))"
      ]
     },
     "metadata": {},
     "output_type": "display_data"
    },
    {
     "name": "stdout",
     "output_type": "stream",
     "text": [
      "\n",
      "Eval, Episode: 91000, Wins: {<Player.LIGHT: 0>: 53, <Player.DARK: 1>: 15, <Player.EMPTY: 2>: 32}\n",
      "loading saved model: ./checkpoints/checkpoint_72000.pt\n"
     ]
    },
    {
     "data": {
      "application/vnd.jupyter.widget-view+json": {
       "model_id": "4ff9875fa0c345f8a2e227fd8f354228",
       "version_major": 2,
       "version_minor": 0
      },
      "text/plain": [
       "HBox(children=(IntProgress(value=0), HTML(value='')))"
      ]
     },
     "metadata": {},
     "output_type": "display_data"
    },
    {
     "name": "stdout",
     "output_type": "stream",
     "text": [
      "\n",
      "Eval, Episode: 92000, Wins: {<Player.LIGHT: 0>: 58, <Player.DARK: 1>: 14, <Player.EMPTY: 2>: 28}\n",
      "loading saved model: ./checkpoints/checkpoint_72000.pt\n"
     ]
    },
    {
     "data": {
      "application/vnd.jupyter.widget-view+json": {
       "model_id": "b81c666032f54fab9562d1cf37ef3913",
       "version_major": 2,
       "version_minor": 0
      },
      "text/plain": [
       "HBox(children=(IntProgress(value=0), HTML(value='')))"
      ]
     },
     "metadata": {},
     "output_type": "display_data"
    },
    {
     "name": "stdout",
     "output_type": "stream",
     "text": [
      "\n",
      "Eval, Episode: 93000, Wins: {<Player.LIGHT: 0>: 62, <Player.DARK: 1>: 16, <Player.EMPTY: 2>: 22}\n",
      "loading saved model: ./checkpoints/checkpoint_72000.pt\n"
     ]
    },
    {
     "data": {
      "application/vnd.jupyter.widget-view+json": {
       "model_id": "4008341520f34672aeed0d2bef244484",
       "version_major": 2,
       "version_minor": 0
      },
      "text/plain": [
       "HBox(children=(IntProgress(value=0), HTML(value='')))"
      ]
     },
     "metadata": {},
     "output_type": "display_data"
    },
    {
     "name": "stdout",
     "output_type": "stream",
     "text": [
      "\n",
      "Eval, Episode: 94000, Wins: {<Player.LIGHT: 0>: 62, <Player.DARK: 1>: 13, <Player.EMPTY: 2>: 25}\n",
      "loading saved model: ./checkpoints/checkpoint_72000.pt\n"
     ]
    },
    {
     "data": {
      "application/vnd.jupyter.widget-view+json": {
       "model_id": "842dd404b3c8467fbfb7e1d5ae0e3fc2",
       "version_major": 2,
       "version_minor": 0
      },
      "text/plain": [
       "HBox(children=(IntProgress(value=0), HTML(value='')))"
      ]
     },
     "metadata": {},
     "output_type": "display_data"
    },
    {
     "name": "stdout",
     "output_type": "stream",
     "text": [
      "\n",
      "Eval, Episode: 95000, Wins: {<Player.LIGHT: 0>: 52, <Player.DARK: 1>: 10, <Player.EMPTY: 2>: 38}\n",
      "loading saved model: ./checkpoints/checkpoint_72000.pt\n"
     ]
    },
    {
     "data": {
      "application/vnd.jupyter.widget-view+json": {
       "model_id": "9491f98ebb1440d3ae9bda4ee8a265ee",
       "version_major": 2,
       "version_minor": 0
      },
      "text/plain": [
       "HBox(children=(IntProgress(value=0), HTML(value='')))"
      ]
     },
     "metadata": {},
     "output_type": "display_data"
    },
    {
     "name": "stdout",
     "output_type": "stream",
     "text": [
      "\n",
      "Eval, Episode: 96000, Wins: {<Player.LIGHT: 0>: 62, <Player.DARK: 1>: 11, <Player.EMPTY: 2>: 27}\n",
      "loading saved model: ./checkpoints/checkpoint_72000.pt\n"
     ]
    },
    {
     "data": {
      "application/vnd.jupyter.widget-view+json": {
       "model_id": "b32f52ab22fe45fdb3dc1baad4dae072",
       "version_major": 2,
       "version_minor": 0
      },
      "text/plain": [
       "HBox(children=(IntProgress(value=0), HTML(value='')))"
      ]
     },
     "metadata": {},
     "output_type": "display_data"
    },
    {
     "name": "stdout",
     "output_type": "stream",
     "text": [
      "\n",
      "Eval, Episode: 97000, Wins: {<Player.LIGHT: 0>: 62, <Player.DARK: 1>: 18, <Player.EMPTY: 2>: 20}\n",
      "loading saved model: ./checkpoints/checkpoint_72000.pt\n"
     ]
    },
    {
     "data": {
      "application/vnd.jupyter.widget-view+json": {
       "model_id": "f4ccd999e4a84dba9b488961413aa96c",
       "version_major": 2,
       "version_minor": 0
      },
      "text/plain": [
       "HBox(children=(IntProgress(value=0), HTML(value='')))"
      ]
     },
     "metadata": {},
     "output_type": "display_data"
    },
    {
     "name": "stdout",
     "output_type": "stream",
     "text": [
      "\n",
      "Eval, Episode: 98000, Wins: {<Player.LIGHT: 0>: 56, <Player.DARK: 1>: 13, <Player.EMPTY: 2>: 31}\n",
      "loading saved model: ./checkpoints/checkpoint_72000.pt\n"
     ]
    },
    {
     "data": {
      "application/vnd.jupyter.widget-view+json": {
       "model_id": "2a5c9a0cba7744fcb6fb8e9ed4182dcd",
       "version_major": 2,
       "version_minor": 0
      },
      "text/plain": [
       "HBox(children=(IntProgress(value=0), HTML(value='')))"
      ]
     },
     "metadata": {},
     "output_type": "display_data"
    },
    {
     "name": "stdout",
     "output_type": "stream",
     "text": [
      "\n",
      "Eval, Episode: 99000, Wins: {<Player.LIGHT: 0>: 74, <Player.DARK: 1>: 8, <Player.EMPTY: 2>: 18}\n",
      "loading saved model: ./checkpoints/checkpoint_72000.pt\n"
     ]
    },
    {
     "data": {
      "application/vnd.jupyter.widget-view+json": {
       "model_id": "ba7a49b7dfe844cbb1ea6598fcfaff4f",
       "version_major": 2,
       "version_minor": 0
      },
      "text/plain": [
       "HBox(children=(IntProgress(value=0), HTML(value='')))"
      ]
     },
     "metadata": {},
     "output_type": "display_data"
    },
    {
     "name": "stdout",
     "output_type": "stream",
     "text": [
      "\n",
      "Eval, Episode: 100000, Wins: {<Player.LIGHT: 0>: 57, <Player.DARK: 1>: 16, <Player.EMPTY: 2>: 27}\n",
      "loading saved model: ./checkpoints/checkpoint_72000.pt\n"
     ]
    },
    {
     "data": {
      "application/vnd.jupyter.widget-view+json": {
       "model_id": "bcd50d7490f044e7b1fced7d32ee2698",
       "version_major": 2,
       "version_minor": 0
      },
      "text/plain": [
       "HBox(children=(IntProgress(value=0), HTML(value='')))"
      ]
     },
     "metadata": {},
     "output_type": "display_data"
    },
    {
     "name": "stdout",
     "output_type": "stream",
     "text": [
      "\n",
      "Eval, Episode: 101000, Wins: {<Player.LIGHT: 0>: 55, <Player.DARK: 1>: 13, <Player.EMPTY: 2>: 32}\n",
      "loading saved model: ./checkpoints/checkpoint_72000.pt\n"
     ]
    },
    {
     "data": {
      "application/vnd.jupyter.widget-view+json": {
       "model_id": "d3c8f4763a5e4097bc2e3006fda9efb7",
       "version_major": 2,
       "version_minor": 0
      },
      "text/plain": [
       "HBox(children=(IntProgress(value=0), HTML(value='')))"
      ]
     },
     "metadata": {},
     "output_type": "display_data"
    },
    {
     "name": "stdout",
     "output_type": "stream",
     "text": [
      "\n",
      "Eval, Episode: 102000, Wins: {<Player.LIGHT: 0>: 57, <Player.DARK: 1>: 14, <Player.EMPTY: 2>: 29}\n",
      "loading saved model: ./checkpoints/checkpoint_72000.pt\n"
     ]
    },
    {
     "data": {
      "application/vnd.jupyter.widget-view+json": {
       "model_id": "dc4f9f19541e4c0a857c8aedc0426b4a",
       "version_major": 2,
       "version_minor": 0
      },
      "text/plain": [
       "HBox(children=(IntProgress(value=0), HTML(value='')))"
      ]
     },
     "metadata": {},
     "output_type": "display_data"
    },
    {
     "name": "stdout",
     "output_type": "stream",
     "text": [
      "\n",
      "Eval, Episode: 103000, Wins: {<Player.LIGHT: 0>: 63, <Player.DARK: 1>: 16, <Player.EMPTY: 2>: 21}\n",
      "loading saved model: ./checkpoints/checkpoint_72000.pt\n"
     ]
    },
    {
     "data": {
      "application/vnd.jupyter.widget-view+json": {
       "model_id": "af1aa341882a4028a145517d39401efd",
       "version_major": 2,
       "version_minor": 0
      },
      "text/plain": [
       "HBox(children=(IntProgress(value=0), HTML(value='')))"
      ]
     },
     "metadata": {},
     "output_type": "display_data"
    },
    {
     "name": "stdout",
     "output_type": "stream",
     "text": [
      "\n",
      "Eval, Episode: 104000, Wins: {<Player.LIGHT: 0>: 62, <Player.DARK: 1>: 10, <Player.EMPTY: 2>: 28}\n",
      "loading saved model: ./checkpoints/checkpoint_72000.pt\n"
     ]
    },
    {
     "data": {
      "application/vnd.jupyter.widget-view+json": {
       "model_id": "eb2643f22a314474bb06de46e57bec1a",
       "version_major": 2,
       "version_minor": 0
      },
      "text/plain": [
       "HBox(children=(IntProgress(value=0), HTML(value='')))"
      ]
     },
     "metadata": {},
     "output_type": "display_data"
    },
    {
     "name": "stdout",
     "output_type": "stream",
     "text": [
      "\n",
      "Eval, Episode: 105000, Wins: {<Player.LIGHT: 0>: 64, <Player.DARK: 1>: 15, <Player.EMPTY: 2>: 21}\n",
      "loading saved model: ./checkpoints/checkpoint_72000.pt\n"
     ]
    },
    {
     "data": {
      "application/vnd.jupyter.widget-view+json": {
       "model_id": "e5879c3b7d2f4401bd5dca62aa563f77",
       "version_major": 2,
       "version_minor": 0
      },
      "text/plain": [
       "HBox(children=(IntProgress(value=0), HTML(value='')))"
      ]
     },
     "metadata": {},
     "output_type": "display_data"
    },
    {
     "name": "stdout",
     "output_type": "stream",
     "text": [
      "\n",
      "Eval, Episode: 106000, Wins: {<Player.LIGHT: 0>: 58, <Player.DARK: 1>: 15, <Player.EMPTY: 2>: 27}\n",
      "loading saved model: ./checkpoints/checkpoint_72000.pt\n"
     ]
    },
    {
     "data": {
      "application/vnd.jupyter.widget-view+json": {
       "model_id": "ceeda60edd2146cc89e86ea5db172aa3",
       "version_major": 2,
       "version_minor": 0
      },
      "text/plain": [
       "HBox(children=(IntProgress(value=0), HTML(value='')))"
      ]
     },
     "metadata": {},
     "output_type": "display_data"
    },
    {
     "name": "stdout",
     "output_type": "stream",
     "text": [
      "\n",
      "Eval, Episode: 107000, Wins: {<Player.LIGHT: 0>: 51, <Player.DARK: 1>: 16, <Player.EMPTY: 2>: 33}\n",
      "loading saved model: ./checkpoints/checkpoint_72000.pt\n"
     ]
    },
    {
     "data": {
      "application/vnd.jupyter.widget-view+json": {
       "model_id": "18ebd2d56d3c424381be7566af3e722a",
       "version_major": 2,
       "version_minor": 0
      },
      "text/plain": [
       "HBox(children=(IntProgress(value=0), HTML(value='')))"
      ]
     },
     "metadata": {},
     "output_type": "display_data"
    },
    {
     "name": "stdout",
     "output_type": "stream",
     "text": [
      "\n",
      "Eval, Episode: 108000, Wins: {<Player.LIGHT: 0>: 52, <Player.DARK: 1>: 16, <Player.EMPTY: 2>: 32}\n",
      "loading saved model: ./checkpoints/checkpoint_72000.pt\n"
     ]
    },
    {
     "data": {
      "application/vnd.jupyter.widget-view+json": {
       "model_id": "0c505c8bcff44cd69ad83cea29001220",
       "version_major": 2,
       "version_minor": 0
      },
      "text/plain": [
       "HBox(children=(IntProgress(value=0), HTML(value='')))"
      ]
     },
     "metadata": {},
     "output_type": "display_data"
    },
    {
     "name": "stdout",
     "output_type": "stream",
     "text": [
      "\n",
      "Eval, Episode: 109000, Wins: {<Player.LIGHT: 0>: 60, <Player.DARK: 1>: 12, <Player.EMPTY: 2>: 28}\n",
      "loading saved model: ./checkpoints/checkpoint_72000.pt\n"
     ]
    },
    {
     "data": {
      "application/vnd.jupyter.widget-view+json": {
       "model_id": "97b3ff4680ec46cbbcf77e634c5c9eb4",
       "version_major": 2,
       "version_minor": 0
      },
      "text/plain": [
       "HBox(children=(IntProgress(value=0), HTML(value='')))"
      ]
     },
     "metadata": {},
     "output_type": "display_data"
    },
    {
     "name": "stdout",
     "output_type": "stream",
     "text": [
      "\n",
      "Eval, Episode: 110000, Wins: {<Player.LIGHT: 0>: 70, <Player.DARK: 1>: 7, <Player.EMPTY: 2>: 23}\n",
      "loading saved model: ./checkpoints/checkpoint_72000.pt\n"
     ]
    },
    {
     "data": {
      "application/vnd.jupyter.widget-view+json": {
       "model_id": "044c65cf08614e838e2af08a4b6cb477",
       "version_major": 2,
       "version_minor": 0
      },
      "text/plain": [
       "HBox(children=(IntProgress(value=0), HTML(value='')))"
      ]
     },
     "metadata": {},
     "output_type": "display_data"
    },
    {
     "name": "stdout",
     "output_type": "stream",
     "text": [
      "\n",
      "Eval, Episode: 111000, Wins: {<Player.LIGHT: 0>: 59, <Player.DARK: 1>: 13, <Player.EMPTY: 2>: 28}\n",
      "loading saved model: ./checkpoints/checkpoint_72000.pt\n"
     ]
    },
    {
     "data": {
      "application/vnd.jupyter.widget-view+json": {
       "model_id": "34b0b9fd826f4ab3be930852d9fd4e7f",
       "version_major": 2,
       "version_minor": 0
      },
      "text/plain": [
       "HBox(children=(IntProgress(value=0), HTML(value='')))"
      ]
     },
     "metadata": {},
     "output_type": "display_data"
    },
    {
     "name": "stdout",
     "output_type": "stream",
     "text": [
      "\n",
      "Eval, Episode: 112000, Wins: {<Player.LIGHT: 0>: 61, <Player.DARK: 1>: 12, <Player.EMPTY: 2>: 27}\n",
      "loading saved model: ./checkpoints/checkpoint_72000.pt\n"
     ]
    },
    {
     "data": {
      "application/vnd.jupyter.widget-view+json": {
       "model_id": "776e1aa6a0f94ef685a4298e28d4a2e3",
       "version_major": 2,
       "version_minor": 0
      },
      "text/plain": [
       "HBox(children=(IntProgress(value=0), HTML(value='')))"
      ]
     },
     "metadata": {},
     "output_type": "display_data"
    },
    {
     "name": "stdout",
     "output_type": "stream",
     "text": [
      "\n",
      "Eval, Episode: 113000, Wins: {<Player.LIGHT: 0>: 53, <Player.DARK: 1>: 16, <Player.EMPTY: 2>: 31}\n",
      "loading saved model: ./checkpoints/checkpoint_72000.pt\n"
     ]
    },
    {
     "data": {
      "application/vnd.jupyter.widget-view+json": {
       "model_id": "9219ed91e5e642d590908fd08e79c865",
       "version_major": 2,
       "version_minor": 0
      },
      "text/plain": [
       "HBox(children=(IntProgress(value=0), HTML(value='')))"
      ]
     },
     "metadata": {},
     "output_type": "display_data"
    },
    {
     "name": "stdout",
     "output_type": "stream",
     "text": [
      "\n",
      "Eval, Episode: 114000, Wins: {<Player.LIGHT: 0>: 59, <Player.DARK: 1>: 10, <Player.EMPTY: 2>: 31}\n",
      "loading saved model: ./checkpoints/checkpoint_72000.pt\n"
     ]
    },
    {
     "data": {
      "application/vnd.jupyter.widget-view+json": {
       "model_id": "a3233656c66242e3a96f2614194bc2dd",
       "version_major": 2,
       "version_minor": 0
      },
      "text/plain": [
       "HBox(children=(IntProgress(value=0), HTML(value='')))"
      ]
     },
     "metadata": {},
     "output_type": "display_data"
    },
    {
     "name": "stdout",
     "output_type": "stream",
     "text": [
      "\n",
      "Eval, Episode: 115000, Wins: {<Player.LIGHT: 0>: 59, <Player.DARK: 1>: 17, <Player.EMPTY: 2>: 24}\n",
      "loading saved model: ./checkpoints/checkpoint_72000.pt\n"
     ]
    },
    {
     "data": {
      "application/vnd.jupyter.widget-view+json": {
       "model_id": "5045835a7dae428e9233f3e8344bb5c4",
       "version_major": 2,
       "version_minor": 0
      },
      "text/plain": [
       "HBox(children=(IntProgress(value=0), HTML(value='')))"
      ]
     },
     "metadata": {},
     "output_type": "display_data"
    },
    {
     "name": "stdout",
     "output_type": "stream",
     "text": [
      "\n",
      "Eval, Episode: 116000, Wins: {<Player.LIGHT: 0>: 57, <Player.DARK: 1>: 15, <Player.EMPTY: 2>: 28}\n",
      "loading saved model: ./checkpoints/checkpoint_72000.pt\n"
     ]
    },
    {
     "data": {
      "application/vnd.jupyter.widget-view+json": {
       "model_id": "def1342755dd4b009c148713df94b95d",
       "version_major": 2,
       "version_minor": 0
      },
      "text/plain": [
       "HBox(children=(IntProgress(value=0), HTML(value='')))"
      ]
     },
     "metadata": {},
     "output_type": "display_data"
    },
    {
     "name": "stdout",
     "output_type": "stream",
     "text": [
      "\n",
      "Eval, Episode: 117000, Wins: {<Player.LIGHT: 0>: 53, <Player.DARK: 1>: 12, <Player.EMPTY: 2>: 35}\n",
      "loading saved model: ./checkpoints/checkpoint_72000.pt\n"
     ]
    },
    {
     "data": {
      "application/vnd.jupyter.widget-view+json": {
       "model_id": "e2a1b3f641704fe382c2ef124daaf770",
       "version_major": 2,
       "version_minor": 0
      },
      "text/plain": [
       "HBox(children=(IntProgress(value=0), HTML(value='')))"
      ]
     },
     "metadata": {},
     "output_type": "display_data"
    },
    {
     "name": "stdout",
     "output_type": "stream",
     "text": [
      "\n",
      "Eval, Episode: 118000, Wins: {<Player.LIGHT: 0>: 69, <Player.DARK: 1>: 6, <Player.EMPTY: 2>: 25}\n",
      "loading saved model: ./checkpoints/checkpoint_72000.pt\n"
     ]
    },
    {
     "data": {
      "application/vnd.jupyter.widget-view+json": {
       "model_id": "50435d650ed64076aec82bbedcc36330",
       "version_major": 2,
       "version_minor": 0
      },
      "text/plain": [
       "HBox(children=(IntProgress(value=0), HTML(value='')))"
      ]
     },
     "metadata": {},
     "output_type": "display_data"
    },
    {
     "name": "stdout",
     "output_type": "stream",
     "text": [
      "\n",
      "Eval, Episode: 119000, Wins: {<Player.LIGHT: 0>: 62, <Player.DARK: 1>: 10, <Player.EMPTY: 2>: 28}\n",
      "loading saved model: ./checkpoints/checkpoint_72000.pt\n"
     ]
    },
    {
     "data": {
      "application/vnd.jupyter.widget-view+json": {
       "model_id": "320959d2e1c645d8a1a9a9f0c35630d7",
       "version_major": 2,
       "version_minor": 0
      },
      "text/plain": [
       "HBox(children=(IntProgress(value=0), HTML(value='')))"
      ]
     },
     "metadata": {},
     "output_type": "display_data"
    },
    {
     "name": "stdout",
     "output_type": "stream",
     "text": [
      "\n",
      "Eval, Episode: 120000, Wins: {<Player.LIGHT: 0>: 63, <Player.DARK: 1>: 12, <Player.EMPTY: 2>: 25}\n",
      "loading saved model: ./checkpoints/checkpoint_72000.pt\n"
     ]
    },
    {
     "data": {
      "application/vnd.jupyter.widget-view+json": {
       "model_id": "346c96ec42744757abd2a080e98d3941",
       "version_major": 2,
       "version_minor": 0
      },
      "text/plain": [
       "HBox(children=(IntProgress(value=0), HTML(value='')))"
      ]
     },
     "metadata": {},
     "output_type": "display_data"
    },
    {
     "name": "stdout",
     "output_type": "stream",
     "text": [
      "\n",
      "Eval, Episode: 121000, Wins: {<Player.LIGHT: 0>: 59, <Player.DARK: 1>: 15, <Player.EMPTY: 2>: 26}\n",
      "loading saved model: ./checkpoints/checkpoint_72000.pt\n"
     ]
    },
    {
     "data": {
      "application/vnd.jupyter.widget-view+json": {
       "model_id": "21a990452f60442ab32a45563c8678ca",
       "version_major": 2,
       "version_minor": 0
      },
      "text/plain": [
       "HBox(children=(IntProgress(value=0), HTML(value='')))"
      ]
     },
     "metadata": {},
     "output_type": "display_data"
    },
    {
     "name": "stdout",
     "output_type": "stream",
     "text": [
      "\n",
      "Eval, Episode: 122000, Wins: {<Player.LIGHT: 0>: 64, <Player.DARK: 1>: 8, <Player.EMPTY: 2>: 28}\n",
      "loading saved model: ./checkpoints/checkpoint_72000.pt\n"
     ]
    },
    {
     "data": {
      "application/vnd.jupyter.widget-view+json": {
       "model_id": "ca37fc3b56b0408cb4f8ecbe12f19460",
       "version_major": 2,
       "version_minor": 0
      },
      "text/plain": [
       "HBox(children=(IntProgress(value=0), HTML(value='')))"
      ]
     },
     "metadata": {},
     "output_type": "display_data"
    },
    {
     "name": "stdout",
     "output_type": "stream",
     "text": [
      "\n",
      "Eval, Episode: 123000, Wins: {<Player.LIGHT: 0>: 65, <Player.DARK: 1>: 11, <Player.EMPTY: 2>: 24}\n",
      "loading saved model: ./checkpoints/checkpoint_72000.pt\n"
     ]
    },
    {
     "data": {
      "application/vnd.jupyter.widget-view+json": {
       "model_id": "c47f095f27da4960b82779a657daebbe",
       "version_major": 2,
       "version_minor": 0
      },
      "text/plain": [
       "HBox(children=(IntProgress(value=0), HTML(value='')))"
      ]
     },
     "metadata": {},
     "output_type": "display_data"
    },
    {
     "name": "stdout",
     "output_type": "stream",
     "text": [
      "\n",
      "Eval, Episode: 124000, Wins: {<Player.LIGHT: 0>: 56, <Player.DARK: 1>: 13, <Player.EMPTY: 2>: 31}\n",
      "loading saved model: ./checkpoints/checkpoint_72000.pt\n"
     ]
    },
    {
     "data": {
      "application/vnd.jupyter.widget-view+json": {
       "model_id": "994f468622044f12b627124e84332d58",
       "version_major": 2,
       "version_minor": 0
      },
      "text/plain": [
       "HBox(children=(IntProgress(value=0), HTML(value='')))"
      ]
     },
     "metadata": {},
     "output_type": "display_data"
    },
    {
     "name": "stdout",
     "output_type": "stream",
     "text": [
      "\n",
      "Eval, Episode: 125000, Wins: {<Player.LIGHT: 0>: 65, <Player.DARK: 1>: 13, <Player.EMPTY: 2>: 22}\n",
      "loading saved model: ./checkpoints/checkpoint_72000.pt\n"
     ]
    },
    {
     "data": {
      "application/vnd.jupyter.widget-view+json": {
       "model_id": "ec93d79744e94e73a4f2ad410d7256e8",
       "version_major": 2,
       "version_minor": 0
      },
      "text/plain": [
       "HBox(children=(IntProgress(value=0), HTML(value='')))"
      ]
     },
     "metadata": {},
     "output_type": "display_data"
    },
    {
     "name": "stdout",
     "output_type": "stream",
     "text": [
      "\n",
      "Eval, Episode: 126000, Wins: {<Player.LIGHT: 0>: 57, <Player.DARK: 1>: 11, <Player.EMPTY: 2>: 32}\n",
      "loading saved model: ./checkpoints/checkpoint_72000.pt\n"
     ]
    },
    {
     "data": {
      "application/vnd.jupyter.widget-view+json": {
       "model_id": "975564a0a07d469e8879ad5e7fa1bdea",
       "version_major": 2,
       "version_minor": 0
      },
      "text/plain": [
       "HBox(children=(IntProgress(value=0), HTML(value='')))"
      ]
     },
     "metadata": {},
     "output_type": "display_data"
    },
    {
     "name": "stdout",
     "output_type": "stream",
     "text": [
      "\n",
      "Eval, Episode: 127000, Wins: {<Player.LIGHT: 0>: 56, <Player.DARK: 1>: 11, <Player.EMPTY: 2>: 33}\n",
      "loading saved model: ./checkpoints/checkpoint_72000.pt\n"
     ]
    },
    {
     "data": {
      "application/vnd.jupyter.widget-view+json": {
       "model_id": "57d21fb87ed84663b31638e90ea56cb0",
       "version_major": 2,
       "version_minor": 0
      },
      "text/plain": [
       "HBox(children=(IntProgress(value=0), HTML(value='')))"
      ]
     },
     "metadata": {},
     "output_type": "display_data"
    },
    {
     "name": "stdout",
     "output_type": "stream",
     "text": [
      "\n",
      "Eval, Episode: 128000, Wins: {<Player.LIGHT: 0>: 62, <Player.DARK: 1>: 13, <Player.EMPTY: 2>: 25}\n",
      "loading saved model: ./checkpoints/checkpoint_72000.pt\n"
     ]
    },
    {
     "data": {
      "application/vnd.jupyter.widget-view+json": {
       "model_id": "8a5931387d564fab9cfe054a1b99258a",
       "version_major": 2,
       "version_minor": 0
      },
      "text/plain": [
       "HBox(children=(IntProgress(value=0), HTML(value='')))"
      ]
     },
     "metadata": {},
     "output_type": "display_data"
    },
    {
     "name": "stdout",
     "output_type": "stream",
     "text": [
      "\n",
      "Eval, Episode: 129000, Wins: {<Player.LIGHT: 0>: 61, <Player.DARK: 1>: 13, <Player.EMPTY: 2>: 26}\n",
      "loading saved model: ./checkpoints/checkpoint_72000.pt\n"
     ]
    },
    {
     "data": {
      "application/vnd.jupyter.widget-view+json": {
       "model_id": "98d99d04d4d64668aab9aa473a2747a2",
       "version_major": 2,
       "version_minor": 0
      },
      "text/plain": [
       "HBox(children=(IntProgress(value=0), HTML(value='')))"
      ]
     },
     "metadata": {},
     "output_type": "display_data"
    },
    {
     "name": "stdout",
     "output_type": "stream",
     "text": [
      "\n",
      "Eval, Episode: 130000, Wins: {<Player.LIGHT: 0>: 54, <Player.DARK: 1>: 14, <Player.EMPTY: 2>: 32}\n",
      "loading saved model: ./checkpoints/checkpoint_72000.pt\n"
     ]
    },
    {
     "data": {
      "application/vnd.jupyter.widget-view+json": {
       "model_id": "d0720b0017b94d9fb25106eaa7356bb3",
       "version_major": 2,
       "version_minor": 0
      },
      "text/plain": [
       "HBox(children=(IntProgress(value=0), HTML(value='')))"
      ]
     },
     "metadata": {},
     "output_type": "display_data"
    },
    {
     "name": "stdout",
     "output_type": "stream",
     "text": [
      "\n",
      "Eval, Episode: 131000, Wins: {<Player.LIGHT: 0>: 60, <Player.DARK: 1>: 14, <Player.EMPTY: 2>: 26}\n",
      "loading saved model: ./checkpoints/checkpoint_72000.pt\n"
     ]
    },
    {
     "data": {
      "application/vnd.jupyter.widget-view+json": {
       "model_id": "f7a9670e39154252859cb61a244415af",
       "version_major": 2,
       "version_minor": 0
      },
      "text/plain": [
       "HBox(children=(IntProgress(value=0), HTML(value='')))"
      ]
     },
     "metadata": {},
     "output_type": "display_data"
    },
    {
     "name": "stdout",
     "output_type": "stream",
     "text": [
      "\n",
      "Eval, Episode: 132000, Wins: {<Player.LIGHT: 0>: 56, <Player.DARK: 1>: 20, <Player.EMPTY: 2>: 24}\n",
      "loading saved model: ./checkpoints/checkpoint_72000.pt\n"
     ]
    },
    {
     "data": {
      "application/vnd.jupyter.widget-view+json": {
       "model_id": "692e9cdf734843e49d78c93f4626e85c",
       "version_major": 2,
       "version_minor": 0
      },
      "text/plain": [
       "HBox(children=(IntProgress(value=0), HTML(value='')))"
      ]
     },
     "metadata": {},
     "output_type": "display_data"
    },
    {
     "name": "stdout",
     "output_type": "stream",
     "text": [
      "\n",
      "Eval, Episode: 133000, Wins: {<Player.LIGHT: 0>: 61, <Player.DARK: 1>: 7, <Player.EMPTY: 2>: 32}\n",
      "loading saved model: ./checkpoints/checkpoint_72000.pt\n"
     ]
    },
    {
     "data": {
      "application/vnd.jupyter.widget-view+json": {
       "model_id": "054eef0a05ae4bc483c04221278fb6f9",
       "version_major": 2,
       "version_minor": 0
      },
      "text/plain": [
       "HBox(children=(IntProgress(value=0), HTML(value='')))"
      ]
     },
     "metadata": {},
     "output_type": "display_data"
    },
    {
     "name": "stdout",
     "output_type": "stream",
     "text": [
      "\n",
      "Eval, Episode: 134000, Wins: {<Player.LIGHT: 0>: 65, <Player.DARK: 1>: 17, <Player.EMPTY: 2>: 18}\n",
      "loading saved model: ./checkpoints/checkpoint_72000.pt\n"
     ]
    },
    {
     "data": {
      "application/vnd.jupyter.widget-view+json": {
       "model_id": "ec20598820824eadb361f5d30df4a670",
       "version_major": 2,
       "version_minor": 0
      },
      "text/plain": [
       "HBox(children=(IntProgress(value=0), HTML(value='')))"
      ]
     },
     "metadata": {},
     "output_type": "display_data"
    },
    {
     "name": "stdout",
     "output_type": "stream",
     "text": [
      "\n",
      "Eval, Episode: 135000, Wins: {<Player.LIGHT: 0>: 58, <Player.DARK: 1>: 12, <Player.EMPTY: 2>: 30}\n",
      "loading saved model: ./checkpoints/checkpoint_72000.pt\n"
     ]
    },
    {
     "data": {
      "application/vnd.jupyter.widget-view+json": {
       "model_id": "a632df6f8fdb4116be8237697d09ed51",
       "version_major": 2,
       "version_minor": 0
      },
      "text/plain": [
       "HBox(children=(IntProgress(value=0), HTML(value='')))"
      ]
     },
     "metadata": {},
     "output_type": "display_data"
    },
    {
     "name": "stdout",
     "output_type": "stream",
     "text": [
      "\n",
      "Eval, Episode: 136000, Wins: {<Player.LIGHT: 0>: 52, <Player.DARK: 1>: 16, <Player.EMPTY: 2>: 32}\n",
      "loading saved model: ./checkpoints/checkpoint_72000.pt\n"
     ]
    },
    {
     "data": {
      "application/vnd.jupyter.widget-view+json": {
       "model_id": "eca678893008461e80111c07e1d6c8a3",
       "version_major": 2,
       "version_minor": 0
      },
      "text/plain": [
       "HBox(children=(IntProgress(value=0), HTML(value='')))"
      ]
     },
     "metadata": {},
     "output_type": "display_data"
    },
    {
     "name": "stdout",
     "output_type": "stream",
     "text": [
      "\n",
      "Eval, Episode: 137000, Wins: {<Player.LIGHT: 0>: 65, <Player.DARK: 1>: 11, <Player.EMPTY: 2>: 24}\n",
      "loading saved model: ./checkpoints/checkpoint_72000.pt\n"
     ]
    },
    {
     "data": {
      "application/vnd.jupyter.widget-view+json": {
       "model_id": "6e76a9590c88455392cfab22e4e7d6b7",
       "version_major": 2,
       "version_minor": 0
      },
      "text/plain": [
       "HBox(children=(IntProgress(value=0), HTML(value='')))"
      ]
     },
     "metadata": {},
     "output_type": "display_data"
    },
    {
     "name": "stdout",
     "output_type": "stream",
     "text": [
      "\n",
      "Eval, Episode: 138000, Wins: {<Player.LIGHT: 0>: 61, <Player.DARK: 1>: 8, <Player.EMPTY: 2>: 31}\n",
      "loading saved model: ./checkpoints/checkpoint_72000.pt\n"
     ]
    },
    {
     "data": {
      "application/vnd.jupyter.widget-view+json": {
       "model_id": "9dd12e180e3446948892829d9f59874d",
       "version_major": 2,
       "version_minor": 0
      },
      "text/plain": [
       "HBox(children=(IntProgress(value=0), HTML(value='')))"
      ]
     },
     "metadata": {},
     "output_type": "display_data"
    },
    {
     "name": "stdout",
     "output_type": "stream",
     "text": [
      "\n",
      "Eval, Episode: 139000, Wins: {<Player.LIGHT: 0>: 70, <Player.DARK: 1>: 8, <Player.EMPTY: 2>: 22}\n",
      "loading saved model: ./checkpoints/checkpoint_72000.pt\n"
     ]
    },
    {
     "data": {
      "application/vnd.jupyter.widget-view+json": {
       "model_id": "dad7c794b13a4723a41b93d3064cf4be",
       "version_major": 2,
       "version_minor": 0
      },
      "text/plain": [
       "HBox(children=(IntProgress(value=0), HTML(value='')))"
      ]
     },
     "metadata": {},
     "output_type": "display_data"
    },
    {
     "name": "stdout",
     "output_type": "stream",
     "text": [
      "\n",
      "Eval, Episode: 140000, Wins: {<Player.LIGHT: 0>: 58, <Player.DARK: 1>: 14, <Player.EMPTY: 2>: 28}\n",
      "loading saved model: ./checkpoints/checkpoint_72000.pt\n"
     ]
    },
    {
     "data": {
      "application/vnd.jupyter.widget-view+json": {
       "model_id": "22120a65e6f3496cab5a5c4826c05e53",
       "version_major": 2,
       "version_minor": 0
      },
      "text/plain": [
       "HBox(children=(IntProgress(value=0), HTML(value='')))"
      ]
     },
     "metadata": {},
     "output_type": "display_data"
    },
    {
     "name": "stdout",
     "output_type": "stream",
     "text": [
      "\n",
      "Eval, Episode: 141000, Wins: {<Player.LIGHT: 0>: 58, <Player.DARK: 1>: 21, <Player.EMPTY: 2>: 21}\n",
      "loading saved model: ./checkpoints/checkpoint_72000.pt\n"
     ]
    },
    {
     "data": {
      "application/vnd.jupyter.widget-view+json": {
       "model_id": "f4daf83551534741b92a0231e3dd5b81",
       "version_major": 2,
       "version_minor": 0
      },
      "text/plain": [
       "HBox(children=(IntProgress(value=0), HTML(value='')))"
      ]
     },
     "metadata": {},
     "output_type": "display_data"
    },
    {
     "name": "stdout",
     "output_type": "stream",
     "text": [
      "\n",
      "Eval, Episode: 142000, Wins: {<Player.LIGHT: 0>: 54, <Player.DARK: 1>: 17, <Player.EMPTY: 2>: 29}\n",
      "loading saved model: ./checkpoints/checkpoint_72000.pt\n"
     ]
    },
    {
     "data": {
      "application/vnd.jupyter.widget-view+json": {
       "model_id": "fa5ff94e60744711892ff6bbcee25265",
       "version_major": 2,
       "version_minor": 0
      },
      "text/plain": [
       "HBox(children=(IntProgress(value=0), HTML(value='')))"
      ]
     },
     "metadata": {},
     "output_type": "display_data"
    },
    {
     "name": "stdout",
     "output_type": "stream",
     "text": [
      "\n",
      "Eval, Episode: 143000, Wins: {<Player.LIGHT: 0>: 51, <Player.DARK: 1>: 12, <Player.EMPTY: 2>: 37}\n",
      "loading saved model: ./checkpoints/checkpoint_72000.pt\n"
     ]
    },
    {
     "data": {
      "application/vnd.jupyter.widget-view+json": {
       "model_id": "0d5a93c891a34ff7bf01fee519b9bdb3",
       "version_major": 2,
       "version_minor": 0
      },
      "text/plain": [
       "HBox(children=(IntProgress(value=0), HTML(value='')))"
      ]
     },
     "metadata": {},
     "output_type": "display_data"
    },
    {
     "name": "stdout",
     "output_type": "stream",
     "text": [
      "\n",
      "Eval, Episode: 144000, Wins: {<Player.LIGHT: 0>: 67, <Player.DARK: 1>: 9, <Player.EMPTY: 2>: 24}\n",
      "loading saved model: ./checkpoints/checkpoint_72000.pt\n"
     ]
    },
    {
     "data": {
      "application/vnd.jupyter.widget-view+json": {
       "model_id": "ceed566946d04b34a6d174e39c40f893",
       "version_major": 2,
       "version_minor": 0
      },
      "text/plain": [
       "HBox(children=(IntProgress(value=0), HTML(value='')))"
      ]
     },
     "metadata": {},
     "output_type": "display_data"
    },
    {
     "name": "stdout",
     "output_type": "stream",
     "text": [
      "\n",
      "Eval, Episode: 145000, Wins: {<Player.LIGHT: 0>: 67, <Player.DARK: 1>: 5, <Player.EMPTY: 2>: 28}\n",
      "loading saved model: ./checkpoints/checkpoint_72000.pt\n"
     ]
    },
    {
     "data": {
      "application/vnd.jupyter.widget-view+json": {
       "model_id": "0659704d243f439788dc44a2af63ee1b",
       "version_major": 2,
       "version_minor": 0
      },
      "text/plain": [
       "HBox(children=(IntProgress(value=0), HTML(value='')))"
      ]
     },
     "metadata": {},
     "output_type": "display_data"
    },
    {
     "name": "stdout",
     "output_type": "stream",
     "text": [
      "\n",
      "Eval, Episode: 146000, Wins: {<Player.LIGHT: 0>: 62, <Player.DARK: 1>: 12, <Player.EMPTY: 2>: 26}\n",
      "loading saved model: ./checkpoints/checkpoint_72000.pt\n"
     ]
    },
    {
     "data": {
      "application/vnd.jupyter.widget-view+json": {
       "model_id": "32a5ed5a6e86495f94278ed3e5c381eb",
       "version_major": 2,
       "version_minor": 0
      },
      "text/plain": [
       "HBox(children=(IntProgress(value=0), HTML(value='')))"
      ]
     },
     "metadata": {},
     "output_type": "display_data"
    },
    {
     "name": "stdout",
     "output_type": "stream",
     "text": [
      "\n",
      "Eval, Episode: 147000, Wins: {<Player.LIGHT: 0>: 61, <Player.DARK: 1>: 10, <Player.EMPTY: 2>: 29}\n",
      "loading saved model: ./checkpoints/checkpoint_72000.pt\n"
     ]
    },
    {
     "data": {
      "application/vnd.jupyter.widget-view+json": {
       "model_id": "1daaf019f3ed42d3aedefe2cf464e9ed",
       "version_major": 2,
       "version_minor": 0
      },
      "text/plain": [
       "HBox(children=(IntProgress(value=0), HTML(value='')))"
      ]
     },
     "metadata": {},
     "output_type": "display_data"
    },
    {
     "name": "stdout",
     "output_type": "stream",
     "text": [
      "\n",
      "Eval, Episode: 148000, Wins: {<Player.LIGHT: 0>: 65, <Player.DARK: 1>: 10, <Player.EMPTY: 2>: 25}\n",
      "loading saved model: ./checkpoints/checkpoint_72000.pt\n"
     ]
    },
    {
     "data": {
      "application/vnd.jupyter.widget-view+json": {
       "model_id": "333a7ab3bc8847a5b3e8991b3576adcf",
       "version_major": 2,
       "version_minor": 0
      },
      "text/plain": [
       "HBox(children=(IntProgress(value=0), HTML(value='')))"
      ]
     },
     "metadata": {},
     "output_type": "display_data"
    },
    {
     "name": "stdout",
     "output_type": "stream",
     "text": [
      "\n",
      "Eval, Episode: 149000, Wins: {<Player.LIGHT: 0>: 48, <Player.DARK: 1>: 17, <Player.EMPTY: 2>: 35}\n",
      "loading saved model: ./checkpoints/checkpoint_72000.pt\n"
     ]
    },
    {
     "data": {
      "application/vnd.jupyter.widget-view+json": {
       "model_id": "d59477b2323b4bee82ff9c36f691d750",
       "version_major": 2,
       "version_minor": 0
      },
      "text/plain": [
       "HBox(children=(IntProgress(value=0), HTML(value='')))"
      ]
     },
     "metadata": {},
     "output_type": "display_data"
    },
    {
     "name": "stdout",
     "output_type": "stream",
     "text": [
      "\n",
      "Eval, Episode: 150000, Wins: {<Player.LIGHT: 0>: 61, <Player.DARK: 1>: 9, <Player.EMPTY: 2>: 30}\n",
      "loading saved model: ./checkpoints/checkpoint_72000.pt\n"
     ]
    },
    {
     "data": {
      "application/vnd.jupyter.widget-view+json": {
       "model_id": "5a039285ed814377b4143f4176a4ee17",
       "version_major": 2,
       "version_minor": 0
      },
      "text/plain": [
       "HBox(children=(IntProgress(value=0), HTML(value='')))"
      ]
     },
     "metadata": {},
     "output_type": "display_data"
    },
    {
     "name": "stdout",
     "output_type": "stream",
     "text": [
      "\n",
      "Eval, Episode: 151000, Wins: {<Player.LIGHT: 0>: 64, <Player.DARK: 1>: 14, <Player.EMPTY: 2>: 22}\n",
      "loading saved model: ./checkpoints/checkpoint_72000.pt\n"
     ]
    },
    {
     "data": {
      "application/vnd.jupyter.widget-view+json": {
       "model_id": "fd0ce858ac82426e8b3f5d0bd408019e",
       "version_major": 2,
       "version_minor": 0
      },
      "text/plain": [
       "HBox(children=(IntProgress(value=0), HTML(value='')))"
      ]
     },
     "metadata": {},
     "output_type": "display_data"
    },
    {
     "name": "stdout",
     "output_type": "stream",
     "text": [
      "\n",
      "Eval, Episode: 152000, Wins: {<Player.LIGHT: 0>: 60, <Player.DARK: 1>: 8, <Player.EMPTY: 2>: 32}\n",
      "loading saved model: ./checkpoints/checkpoint_72000.pt\n"
     ]
    },
    {
     "data": {
      "application/vnd.jupyter.widget-view+json": {
       "model_id": "4fd10f9c26b949f08ebccdcb3214c0ef",
       "version_major": 2,
       "version_minor": 0
      },
      "text/plain": [
       "HBox(children=(IntProgress(value=0), HTML(value='')))"
      ]
     },
     "metadata": {},
     "output_type": "display_data"
    },
    {
     "name": "stdout",
     "output_type": "stream",
     "text": [
      "\n",
      "Eval, Episode: 153000, Wins: {<Player.LIGHT: 0>: 58, <Player.DARK: 1>: 11, <Player.EMPTY: 2>: 31}\n",
      "loading saved model: ./checkpoints/checkpoint_72000.pt\n"
     ]
    },
    {
     "data": {
      "application/vnd.jupyter.widget-view+json": {
       "model_id": "c7390019993f4ce1995b4ef0a7ac8663",
       "version_major": 2,
       "version_minor": 0
      },
      "text/plain": [
       "HBox(children=(IntProgress(value=0), HTML(value='')))"
      ]
     },
     "metadata": {},
     "output_type": "display_data"
    },
    {
     "name": "stdout",
     "output_type": "stream",
     "text": [
      "\n",
      "Eval, Episode: 154000, Wins: {<Player.LIGHT: 0>: 61, <Player.DARK: 1>: 12, <Player.EMPTY: 2>: 27}\n",
      "loading saved model: ./checkpoints/checkpoint_72000.pt\n"
     ]
    },
    {
     "data": {
      "application/vnd.jupyter.widget-view+json": {
       "model_id": "660e05a8201e4b46b70113252b13dec5",
       "version_major": 2,
       "version_minor": 0
      },
      "text/plain": [
       "HBox(children=(IntProgress(value=0), HTML(value='')))"
      ]
     },
     "metadata": {},
     "output_type": "display_data"
    },
    {
     "name": "stdout",
     "output_type": "stream",
     "text": [
      "\n",
      "Eval, Episode: 155000, Wins: {<Player.LIGHT: 0>: 60, <Player.DARK: 1>: 14, <Player.EMPTY: 2>: 26}\n",
      "loading saved model: ./checkpoints/checkpoint_72000.pt\n"
     ]
    },
    {
     "data": {
      "application/vnd.jupyter.widget-view+json": {
       "model_id": "f3772ad0e90e4efca7bbdf4ec1eac101",
       "version_major": 2,
       "version_minor": 0
      },
      "text/plain": [
       "HBox(children=(IntProgress(value=0), HTML(value='')))"
      ]
     },
     "metadata": {},
     "output_type": "display_data"
    },
    {
     "name": "stdout",
     "output_type": "stream",
     "text": [
      "\n",
      "Eval, Episode: 156000, Wins: {<Player.LIGHT: 0>: 67, <Player.DARK: 1>: 10, <Player.EMPTY: 2>: 23}\n",
      "loading saved model: ./checkpoints/checkpoint_72000.pt\n"
     ]
    },
    {
     "data": {
      "application/vnd.jupyter.widget-view+json": {
       "model_id": "42a78683d0b14dd99f356d40b21b73f8",
       "version_major": 2,
       "version_minor": 0
      },
      "text/plain": [
       "HBox(children=(IntProgress(value=0), HTML(value='')))"
      ]
     },
     "metadata": {},
     "output_type": "display_data"
    },
    {
     "name": "stdout",
     "output_type": "stream",
     "text": [
      "\n",
      "Eval, Episode: 157000, Wins: {<Player.LIGHT: 0>: 63, <Player.DARK: 1>: 14, <Player.EMPTY: 2>: 23}\n",
      "loading saved model: ./checkpoints/checkpoint_72000.pt\n"
     ]
    },
    {
     "data": {
      "application/vnd.jupyter.widget-view+json": {
       "model_id": "a2d4bf93ffa247ccb06af91e00faa1af",
       "version_major": 2,
       "version_minor": 0
      },
      "text/plain": [
       "HBox(children=(IntProgress(value=0), HTML(value='')))"
      ]
     },
     "metadata": {},
     "output_type": "display_data"
    },
    {
     "name": "stdout",
     "output_type": "stream",
     "text": [
      "\n",
      "Eval, Episode: 158000, Wins: {<Player.LIGHT: 0>: 64, <Player.DARK: 1>: 13, <Player.EMPTY: 2>: 23}\n",
      "loading saved model: ./checkpoints/checkpoint_72000.pt\n"
     ]
    },
    {
     "data": {
      "application/vnd.jupyter.widget-view+json": {
       "model_id": "696a675fc2b143b7a1db5d8154f2919e",
       "version_major": 2,
       "version_minor": 0
      },
      "text/plain": [
       "HBox(children=(IntProgress(value=0), HTML(value='')))"
      ]
     },
     "metadata": {},
     "output_type": "display_data"
    },
    {
     "name": "stdout",
     "output_type": "stream",
     "text": [
      "\n",
      "Eval, Episode: 159000, Wins: {<Player.LIGHT: 0>: 63, <Player.DARK: 1>: 12, <Player.EMPTY: 2>: 25}\n",
      "loading saved model: ./checkpoints/checkpoint_72000.pt\n"
     ]
    },
    {
     "data": {
      "application/vnd.jupyter.widget-view+json": {
       "model_id": "045542d0c91a4afd8869df92fb6d4794",
       "version_major": 2,
       "version_minor": 0
      },
      "text/plain": [
       "HBox(children=(IntProgress(value=0), HTML(value='')))"
      ]
     },
     "metadata": {},
     "output_type": "display_data"
    },
    {
     "name": "stdout",
     "output_type": "stream",
     "text": [
      "\n",
      "Eval, Episode: 160000, Wins: {<Player.LIGHT: 0>: 52, <Player.DARK: 1>: 17, <Player.EMPTY: 2>: 31}\n",
      "loading saved model: ./checkpoints/checkpoint_72000.pt\n"
     ]
    },
    {
     "data": {
      "application/vnd.jupyter.widget-view+json": {
       "model_id": "d7f5cc87b34c42058a53243be971f72a",
       "version_major": 2,
       "version_minor": 0
      },
      "text/plain": [
       "HBox(children=(IntProgress(value=0), HTML(value='')))"
      ]
     },
     "metadata": {},
     "output_type": "display_data"
    },
    {
     "name": "stdout",
     "output_type": "stream",
     "text": [
      "\n",
      "Eval, Episode: 161000, Wins: {<Player.LIGHT: 0>: 61, <Player.DARK: 1>: 11, <Player.EMPTY: 2>: 28}\n",
      "loading saved model: ./checkpoints/checkpoint_72000.pt\n"
     ]
    },
    {
     "data": {
      "application/vnd.jupyter.widget-view+json": {
       "model_id": "b8fe45fa2dcc48a58261758ee356282f",
       "version_major": 2,
       "version_minor": 0
      },
      "text/plain": [
       "HBox(children=(IntProgress(value=0), HTML(value='')))"
      ]
     },
     "metadata": {},
     "output_type": "display_data"
    },
    {
     "name": "stdout",
     "output_type": "stream",
     "text": [
      "\n",
      "Eval, Episode: 162000, Wins: {<Player.LIGHT: 0>: 58, <Player.DARK: 1>: 16, <Player.EMPTY: 2>: 26}\n",
      "loading saved model: ./checkpoints/checkpoint_72000.pt\n"
     ]
    },
    {
     "data": {
      "application/vnd.jupyter.widget-view+json": {
       "model_id": "08245b927ddf4650bbd7f1b88ffa8357",
       "version_major": 2,
       "version_minor": 0
      },
      "text/plain": [
       "HBox(children=(IntProgress(value=0), HTML(value='')))"
      ]
     },
     "metadata": {},
     "output_type": "display_data"
    },
    {
     "name": "stdout",
     "output_type": "stream",
     "text": [
      "\n",
      "Eval, Episode: 163000, Wins: {<Player.LIGHT: 0>: 60, <Player.DARK: 1>: 13, <Player.EMPTY: 2>: 27}\n",
      "loading saved model: ./checkpoints/checkpoint_72000.pt\n"
     ]
    },
    {
     "data": {
      "application/vnd.jupyter.widget-view+json": {
       "model_id": "11cec789a5494b2185a946a10e5d9f6b",
       "version_major": 2,
       "version_minor": 0
      },
      "text/plain": [
       "HBox(children=(IntProgress(value=0), HTML(value='')))"
      ]
     },
     "metadata": {},
     "output_type": "display_data"
    },
    {
     "name": "stdout",
     "output_type": "stream",
     "text": [
      "\n",
      "Eval, Episode: 164000, Wins: {<Player.LIGHT: 0>: 64, <Player.DARK: 1>: 8, <Player.EMPTY: 2>: 28}\n",
      "loading saved model: ./checkpoints/checkpoint_72000.pt\n"
     ]
    },
    {
     "data": {
      "application/vnd.jupyter.widget-view+json": {
       "model_id": "03d9d87b5ae64b059d964295ba7cddc6",
       "version_major": 2,
       "version_minor": 0
      },
      "text/plain": [
       "HBox(children=(IntProgress(value=0), HTML(value='')))"
      ]
     },
     "metadata": {},
     "output_type": "display_data"
    },
    {
     "name": "stdout",
     "output_type": "stream",
     "text": [
      "\n",
      "Eval, Episode: 165000, Wins: {<Player.LIGHT: 0>: 60, <Player.DARK: 1>: 10, <Player.EMPTY: 2>: 30}\n",
      "loading saved model: ./checkpoints/checkpoint_72000.pt\n"
     ]
    },
    {
     "data": {
      "application/vnd.jupyter.widget-view+json": {
       "model_id": "55c1aa9730c34c81acda11a21f01cc30",
       "version_major": 2,
       "version_minor": 0
      },
      "text/plain": [
       "HBox(children=(IntProgress(value=0), HTML(value='')))"
      ]
     },
     "metadata": {},
     "output_type": "display_data"
    },
    {
     "name": "stdout",
     "output_type": "stream",
     "text": [
      "\n",
      "Eval, Episode: 166000, Wins: {<Player.LIGHT: 0>: 59, <Player.DARK: 1>: 13, <Player.EMPTY: 2>: 28}\n",
      "loading saved model: ./checkpoints/checkpoint_72000.pt\n"
     ]
    },
    {
     "data": {
      "application/vnd.jupyter.widget-view+json": {
       "model_id": "3625576ee38b4a3b81bf87315f89d836",
       "version_major": 2,
       "version_minor": 0
      },
      "text/plain": [
       "HBox(children=(IntProgress(value=0), HTML(value='')))"
      ]
     },
     "metadata": {},
     "output_type": "display_data"
    },
    {
     "name": "stdout",
     "output_type": "stream",
     "text": [
      "\n",
      "Eval, Episode: 167000, Wins: {<Player.LIGHT: 0>: 68, <Player.DARK: 1>: 12, <Player.EMPTY: 2>: 20}\n",
      "loading saved model: ./checkpoints/checkpoint_72000.pt\n"
     ]
    },
    {
     "data": {
      "application/vnd.jupyter.widget-view+json": {
       "model_id": "f8e2bbfc3c9b4332841fb8bdc58d99ac",
       "version_major": 2,
       "version_minor": 0
      },
      "text/plain": [
       "HBox(children=(IntProgress(value=0), HTML(value='')))"
      ]
     },
     "metadata": {},
     "output_type": "display_data"
    },
    {
     "name": "stdout",
     "output_type": "stream",
     "text": [
      "\n",
      "Eval, Episode: 168000, Wins: {<Player.LIGHT: 0>: 62, <Player.DARK: 1>: 13, <Player.EMPTY: 2>: 25}\n",
      "loading saved model: ./checkpoints/checkpoint_72000.pt\n"
     ]
    },
    {
     "data": {
      "application/vnd.jupyter.widget-view+json": {
       "model_id": "98681e2e24ab41bbabc82029badf658a",
       "version_major": 2,
       "version_minor": 0
      },
      "text/plain": [
       "HBox(children=(IntProgress(value=0), HTML(value='')))"
      ]
     },
     "metadata": {},
     "output_type": "display_data"
    },
    {
     "name": "stdout",
     "output_type": "stream",
     "text": [
      "\n",
      "Eval, Episode: 169000, Wins: {<Player.LIGHT: 0>: 59, <Player.DARK: 1>: 9, <Player.EMPTY: 2>: 32}\n",
      "loading saved model: ./checkpoints/checkpoint_72000.pt\n"
     ]
    },
    {
     "data": {
      "application/vnd.jupyter.widget-view+json": {
       "model_id": "4cbb66e467094aa69ee32481281e00c8",
       "version_major": 2,
       "version_minor": 0
      },
      "text/plain": [
       "HBox(children=(IntProgress(value=0), HTML(value='')))"
      ]
     },
     "metadata": {},
     "output_type": "display_data"
    },
    {
     "name": "stdout",
     "output_type": "stream",
     "text": [
      "\n",
      "Eval, Episode: 170000, Wins: {<Player.LIGHT: 0>: 56, <Player.DARK: 1>: 14, <Player.EMPTY: 2>: 30}\n",
      "loading saved model: ./checkpoints/checkpoint_72000.pt\n"
     ]
    },
    {
     "data": {
      "application/vnd.jupyter.widget-view+json": {
       "model_id": "2e04f0af107240e0acbbb975b07c4752",
       "version_major": 2,
       "version_minor": 0
      },
      "text/plain": [
       "HBox(children=(IntProgress(value=0), HTML(value='')))"
      ]
     },
     "metadata": {},
     "output_type": "display_data"
    },
    {
     "name": "stdout",
     "output_type": "stream",
     "text": [
      "\n",
      "Eval, Episode: 171000, Wins: {<Player.LIGHT: 0>: 60, <Player.DARK: 1>: 16, <Player.EMPTY: 2>: 24}\n",
      "loading saved model: ./checkpoints/checkpoint_72000.pt\n"
     ]
    },
    {
     "data": {
      "application/vnd.jupyter.widget-view+json": {
       "model_id": "4d9a374926454025b01ad6e920139e22",
       "version_major": 2,
       "version_minor": 0
      },
      "text/plain": [
       "HBox(children=(IntProgress(value=0), HTML(value='')))"
      ]
     },
     "metadata": {},
     "output_type": "display_data"
    },
    {
     "name": "stdout",
     "output_type": "stream",
     "text": [
      "\n",
      "Eval, Episode: 172000, Wins: {<Player.LIGHT: 0>: 62, <Player.DARK: 1>: 13, <Player.EMPTY: 2>: 25}\n",
      "loading saved model: ./checkpoints/checkpoint_72000.pt\n"
     ]
    },
    {
     "data": {
      "application/vnd.jupyter.widget-view+json": {
       "model_id": "a4ece6f0cb0e4d838ffbb9c6bc93f0b8",
       "version_major": 2,
       "version_minor": 0
      },
      "text/plain": [
       "HBox(children=(IntProgress(value=0), HTML(value='')))"
      ]
     },
     "metadata": {},
     "output_type": "display_data"
    },
    {
     "name": "stdout",
     "output_type": "stream",
     "text": [
      "\n",
      "Eval, Episode: 173000, Wins: {<Player.LIGHT: 0>: 60, <Player.DARK: 1>: 11, <Player.EMPTY: 2>: 29}\n",
      "loading saved model: ./checkpoints/checkpoint_72000.pt\n"
     ]
    },
    {
     "data": {
      "application/vnd.jupyter.widget-view+json": {
       "model_id": "dd1727b702164fbfbec88f5cf94b4191",
       "version_major": 2,
       "version_minor": 0
      },
      "text/plain": [
       "HBox(children=(IntProgress(value=0), HTML(value='')))"
      ]
     },
     "metadata": {},
     "output_type": "display_data"
    },
    {
     "name": "stdout",
     "output_type": "stream",
     "text": [
      "\n",
      "Eval, Episode: 174000, Wins: {<Player.LIGHT: 0>: 67, <Player.DARK: 1>: 9, <Player.EMPTY: 2>: 24}\n",
      "loading saved model: ./checkpoints/checkpoint_72000.pt\n"
     ]
    },
    {
     "data": {
      "application/vnd.jupyter.widget-view+json": {
       "model_id": "b824a1ddbe40460ca5778efc76b1ed70",
       "version_major": 2,
       "version_minor": 0
      },
      "text/plain": [
       "HBox(children=(IntProgress(value=0), HTML(value='')))"
      ]
     },
     "metadata": {},
     "output_type": "display_data"
    },
    {
     "name": "stdout",
     "output_type": "stream",
     "text": [
      "\n",
      "Eval, Episode: 175000, Wins: {<Player.LIGHT: 0>: 61, <Player.DARK: 1>: 11, <Player.EMPTY: 2>: 28}\n",
      "loading saved model: ./checkpoints/checkpoint_72000.pt\n"
     ]
    },
    {
     "data": {
      "application/vnd.jupyter.widget-view+json": {
       "model_id": "c24fe13472564f6fb3c83086e5de4802",
       "version_major": 2,
       "version_minor": 0
      },
      "text/plain": [
       "HBox(children=(IntProgress(value=0), HTML(value='')))"
      ]
     },
     "metadata": {},
     "output_type": "display_data"
    },
    {
     "name": "stdout",
     "output_type": "stream",
     "text": [
      "\n",
      "Eval, Episode: 176000, Wins: {<Player.LIGHT: 0>: 65, <Player.DARK: 1>: 15, <Player.EMPTY: 2>: 20}\n",
      "loading saved model: ./checkpoints/checkpoint_72000.pt\n"
     ]
    },
    {
     "data": {
      "application/vnd.jupyter.widget-view+json": {
       "model_id": "19fb64e53e8f4c86b1029cda5c611899",
       "version_major": 2,
       "version_minor": 0
      },
      "text/plain": [
       "HBox(children=(IntProgress(value=0), HTML(value='')))"
      ]
     },
     "metadata": {},
     "output_type": "display_data"
    },
    {
     "name": "stdout",
     "output_type": "stream",
     "text": [
      "\n",
      "Eval, Episode: 177000, Wins: {<Player.LIGHT: 0>: 58, <Player.DARK: 1>: 15, <Player.EMPTY: 2>: 27}\n",
      "loading saved model: ./checkpoints/checkpoint_72000.pt\n"
     ]
    },
    {
     "data": {
      "application/vnd.jupyter.widget-view+json": {
       "model_id": "5a6ad0d0d4374af9ac8d6c3c8af69f85",
       "version_major": 2,
       "version_minor": 0
      },
      "text/plain": [
       "HBox(children=(IntProgress(value=0), HTML(value='')))"
      ]
     },
     "metadata": {},
     "output_type": "display_data"
    },
    {
     "name": "stdout",
     "output_type": "stream",
     "text": [
      "\n",
      "Eval, Episode: 178000, Wins: {<Player.LIGHT: 0>: 63, <Player.DARK: 1>: 13, <Player.EMPTY: 2>: 24}\n",
      "loading saved model: ./checkpoints/checkpoint_72000.pt\n"
     ]
    },
    {
     "data": {
      "application/vnd.jupyter.widget-view+json": {
       "model_id": "b00a9b8e5a704d9ba99347b29b882e9d",
       "version_major": 2,
       "version_minor": 0
      },
      "text/plain": [
       "HBox(children=(IntProgress(value=0), HTML(value='')))"
      ]
     },
     "metadata": {},
     "output_type": "display_data"
    },
    {
     "name": "stdout",
     "output_type": "stream",
     "text": [
      "\n",
      "Eval, Episode: 179000, Wins: {<Player.LIGHT: 0>: 70, <Player.DARK: 1>: 14, <Player.EMPTY: 2>: 16}\n",
      "loading saved model: ./checkpoints/checkpoint_72000.pt\n"
     ]
    },
    {
     "data": {
      "application/vnd.jupyter.widget-view+json": {
       "model_id": "26496a40a8da441b953cd3481e43411e",
       "version_major": 2,
       "version_minor": 0
      },
      "text/plain": [
       "HBox(children=(IntProgress(value=0), HTML(value='')))"
      ]
     },
     "metadata": {},
     "output_type": "display_data"
    },
    {
     "name": "stdout",
     "output_type": "stream",
     "text": [
      "\n",
      "Eval, Episode: 180000, Wins: {<Player.LIGHT: 0>: 57, <Player.DARK: 1>: 15, <Player.EMPTY: 2>: 28}\n",
      "loading saved model: ./checkpoints/checkpoint_72000.pt\n"
     ]
    },
    {
     "data": {
      "application/vnd.jupyter.widget-view+json": {
       "model_id": "7b354877a21441bea8b0681eb296fc2b",
       "version_major": 2,
       "version_minor": 0
      },
      "text/plain": [
       "HBox(children=(IntProgress(value=0), HTML(value='')))"
      ]
     },
     "metadata": {},
     "output_type": "display_data"
    },
    {
     "name": "stdout",
     "output_type": "stream",
     "text": [
      "\n",
      "Eval, Episode: 181000, Wins: {<Player.LIGHT: 0>: 58, <Player.DARK: 1>: 17, <Player.EMPTY: 2>: 25}\n"
     ]
    },
    {
     "ename": "KeyboardInterrupt",
     "evalue": "",
     "output_type": "error",
     "traceback": [
      "\u001b[0;31m---------------------------------------------------------------------------\u001b[0m",
      "\u001b[0;31mKeyboardInterrupt\u001b[0m                         Traceback (most recent call last)",
      "\u001b[0;32m<ipython-input-3-3d70235c2ac6>\u001b[0m in \u001b[0;36m<module>\u001b[0;34m\u001b[0m\n\u001b[0;32m----> 1\u001b[0;31m \u001b[0mmodel\u001b[0m\u001b[0;34m.\u001b[0m\u001b[0mtrain\u001b[0m\u001b[0;34m(\u001b[0m\u001b[0;36m72001\u001b[0m\u001b[0;34m,\u001b[0m\u001b[0;36m300000\u001b[0m\u001b[0;34m)\u001b[0m\u001b[0;34m\u001b[0m\u001b[0;34m\u001b[0m\u001b[0m\n\u001b[0m",
      "\u001b[0;32m~/ChessEngine/Backgammon/BackgammonModel.py\u001b[0m in \u001b[0;36mtrain\u001b[0;34m(self, start_episode, num_episodes)\u001b[0m\n\u001b[1;32m     53\u001b[0m                                 \u001b[0mp_t\u001b[0m \u001b[0;34m=\u001b[0m \u001b[0mself\u001b[0m\u001b[0;34m(\u001b[0m\u001b[0mtorch\u001b[0m\u001b[0;34m.\u001b[0m\u001b[0mFloatTensor\u001b[0m\u001b[0;34m(\u001b[0m\u001b[0mobs\u001b[0m\u001b[0;34m)\u001b[0m\u001b[0;34m)\u001b[0m\u001b[0;34m\u001b[0m\u001b[0;34m\u001b[0m\u001b[0m\n\u001b[1;32m     54\u001b[0m                                 \u001b[0mlegal_actions\u001b[0m \u001b[0;34m=\u001b[0m \u001b[0mself\u001b[0m\u001b[0;34m.\u001b[0m\u001b[0menv\u001b[0m\u001b[0;34m.\u001b[0m\u001b[0mget_legal_actions\u001b[0m\u001b[0;34m(\u001b[0m\u001b[0;34m)\u001b[0m\u001b[0;34m\u001b[0m\u001b[0;34m\u001b[0m\u001b[0m\n\u001b[0;32m---> 55\u001b[0;31m                                 \u001b[0ma\u001b[0m \u001b[0;34m=\u001b[0m \u001b[0mself\u001b[0m\u001b[0;34m.\u001b[0m\u001b[0magent\u001b[0m\u001b[0;34m.\u001b[0m\u001b[0mchoose_best_action\u001b[0m\u001b[0;34m(\u001b[0m\u001b[0mlegal_actions\u001b[0m\u001b[0;34m)\u001b[0m\u001b[0;34m\u001b[0m\u001b[0;34m\u001b[0m\u001b[0m\n\u001b[0m\u001b[1;32m     56\u001b[0m                                 \u001b[0mcur_player\u001b[0m\u001b[0;34m,\u001b[0m \u001b[0mwinner\u001b[0m\u001b[0;34m,\u001b[0m \u001b[0mobs\u001b[0m\u001b[0;34m,\u001b[0m \u001b[0mreward\u001b[0m\u001b[0;34m,\u001b[0m \u001b[0mdone\u001b[0m \u001b[0;34m=\u001b[0m \u001b[0mself\u001b[0m\u001b[0;34m.\u001b[0m\u001b[0menv\u001b[0m\u001b[0;34m.\u001b[0m\u001b[0mstep\u001b[0m\u001b[0;34m(\u001b[0m\u001b[0ma\u001b[0m\u001b[0;34m)\u001b[0m\u001b[0;34m\u001b[0m\u001b[0;34m\u001b[0m\u001b[0m\n\u001b[1;32m     57\u001b[0m                                 \u001b[0mp_t1\u001b[0m \u001b[0;34m=\u001b[0m \u001b[0mself\u001b[0m\u001b[0;34m(\u001b[0m\u001b[0mtorch\u001b[0m\u001b[0;34m.\u001b[0m\u001b[0mFloatTensor\u001b[0m\u001b[0;34m(\u001b[0m\u001b[0mobs\u001b[0m\u001b[0;34m)\u001b[0m\u001b[0;34m)\u001b[0m\u001b[0;34m\u001b[0m\u001b[0;34m\u001b[0m\u001b[0m\n",
      "\u001b[0;32m~/ChessEngine/Backgammon/BackgammonRLEnv.py\u001b[0m in \u001b[0;36mchoose_best_action\u001b[0;34m(self, actions)\u001b[0m\n\u001b[1;32m     59\u001b[0m                 \u001b[0mobs_\u001b[0m \u001b[0;34m=\u001b[0m \u001b[0;34m[\u001b[0m\u001b[0;34m]\u001b[0m\u001b[0;34m\u001b[0m\u001b[0;34m\u001b[0m\u001b[0m\n\u001b[1;32m     60\u001b[0m                 \u001b[0;32mfor\u001b[0m \u001b[0ma\u001b[0m \u001b[0;32min\u001b[0m \u001b[0mactions\u001b[0m\u001b[0;34m:\u001b[0m\u001b[0;34m\u001b[0m\u001b[0;34m\u001b[0m\u001b[0m\n\u001b[0;32m---> 61\u001b[0;31m                         \u001b[0m_\u001b[0m\u001b[0;34m,\u001b[0m \u001b[0m_\u001b[0m\u001b[0;34m,\u001b[0m \u001b[0mobs\u001b[0m\u001b[0;34m,\u001b[0m \u001b[0m_\u001b[0m\u001b[0;34m,\u001b[0m \u001b[0m_\u001b[0m \u001b[0;34m=\u001b[0m \u001b[0mself\u001b[0m\u001b[0;34m.\u001b[0m\u001b[0menv\u001b[0m\u001b[0;34m.\u001b[0m\u001b[0mstep\u001b[0m\u001b[0;34m(\u001b[0m\u001b[0ma\u001b[0m\u001b[0;34m)\u001b[0m\u001b[0;34m\u001b[0m\u001b[0;34m\u001b[0m\u001b[0m\n\u001b[0m\u001b[1;32m     62\u001b[0m                         \u001b[0m_\u001b[0m \u001b[0;34m=\u001b[0m \u001b[0mself\u001b[0m\u001b[0;34m.\u001b[0m\u001b[0menv\u001b[0m\u001b[0;34m.\u001b[0m\u001b[0mstep_back\u001b[0m\u001b[0;34m(\u001b[0m\u001b[0ma\u001b[0m\u001b[0;34m)\u001b[0m\u001b[0;34m\u001b[0m\u001b[0;34m\u001b[0m\u001b[0m\n\u001b[1;32m     63\u001b[0m                         \u001b[0mobs_\u001b[0m\u001b[0;34m.\u001b[0m\u001b[0mappend\u001b[0m\u001b[0;34m(\u001b[0m\u001b[0mobs\u001b[0m\u001b[0;34m)\u001b[0m\u001b[0;34m\u001b[0m\u001b[0;34m\u001b[0m\u001b[0m\n",
      "\u001b[0;32m~/ChessEngine/Backgammon/BackgammonRLEnv.py\u001b[0m in \u001b[0;36mstep\u001b[0;34m(self, action)\u001b[0m\n\u001b[1;32m     23\u001b[0m         \u001b[0;32mdef\u001b[0m \u001b[0mstep\u001b[0m\u001b[0;34m(\u001b[0m\u001b[0mself\u001b[0m\u001b[0;34m,\u001b[0m \u001b[0maction\u001b[0m\u001b[0;34m)\u001b[0m\u001b[0;34m:\u001b[0m\u001b[0;34m\u001b[0m\u001b[0;34m\u001b[0m\u001b[0m\n\u001b[1;32m     24\u001b[0m                 \u001b[0;31m# player, obs, legal_actions, reward, done\u001b[0m\u001b[0;34m\u001b[0m\u001b[0;34m\u001b[0m\u001b[0;34m\u001b[0m\u001b[0m\n\u001b[0;32m---> 25\u001b[0;31m                 \u001b[0;32mreturn\u001b[0m \u001b[0mself\u001b[0m\u001b[0;34m.\u001b[0m\u001b[0mgame\u001b[0m\u001b[0;34m.\u001b[0m\u001b[0mstep\u001b[0m\u001b[0;34m(\u001b[0m\u001b[0maction\u001b[0m\u001b[0;34m)\u001b[0m\u001b[0;34m\u001b[0m\u001b[0;34m\u001b[0m\u001b[0m\n\u001b[0m\u001b[1;32m     26\u001b[0m \u001b[0;34m\u001b[0m\u001b[0m\n\u001b[1;32m     27\u001b[0m         \u001b[0;32mdef\u001b[0m \u001b[0mstep_back\u001b[0m\u001b[0;34m(\u001b[0m\u001b[0mself\u001b[0m\u001b[0;34m,\u001b[0m \u001b[0maction\u001b[0m\u001b[0;34m)\u001b[0m\u001b[0;34m:\u001b[0m\u001b[0;34m\u001b[0m\u001b[0;34m\u001b[0m\u001b[0m\n",
      "\u001b[0;32m~/ChessEngine/Backgammon/Backgammon.py\u001b[0m in \u001b[0;36mstep\u001b[0;34m(self, action)\u001b[0m\n\u001b[1;32m    683\u001b[0m                         \u001b[0mself\u001b[0m\u001b[0;34m.\u001b[0m\u001b[0mcur_player\u001b[0m \u001b[0;34m=\u001b[0m \u001b[0mself\u001b[0m\u001b[0;34m.\u001b[0m\u001b[0mcur_player\u001b[0m\u001b[0;34m.\u001b[0m\u001b[0mopponent\u001b[0m\u001b[0;34m(\u001b[0m\u001b[0;34m)\u001b[0m\u001b[0;34m\u001b[0m\u001b[0;34m\u001b[0m\u001b[0m\n\u001b[1;32m    684\u001b[0m                         \u001b[0mself\u001b[0m\u001b[0;34m.\u001b[0m\u001b[0mturn_num\u001b[0m \u001b[0;34m+=\u001b[0m \u001b[0;36m1\u001b[0m\u001b[0;34m\u001b[0m\u001b[0;34m\u001b[0m\u001b[0m\n\u001b[0;32m--> 685\u001b[0;31m                         \u001b[0mself\u001b[0m\u001b[0;34m.\u001b[0m\u001b[0mroll_dice\u001b[0m\u001b[0;34m(\u001b[0m\u001b[0;34m)\u001b[0m\u001b[0;34m\u001b[0m\u001b[0;34m\u001b[0m\u001b[0m\n\u001b[0m\u001b[1;32m    686\u001b[0m \u001b[0;34m\u001b[0m\u001b[0m\n\u001b[1;32m    687\u001b[0m                 \u001b[0mself\u001b[0m\u001b[0;34m.\u001b[0m\u001b[0mdouble_turn\u001b[0m \u001b[0;34m=\u001b[0m \u001b[0mdouble_move\u001b[0m \u001b[0;32mand\u001b[0m \u001b[0;32mnot\u001b[0m \u001b[0mself\u001b[0m\u001b[0;34m.\u001b[0m\u001b[0mdouble_turn\u001b[0m\u001b[0;34m\u001b[0m\u001b[0;34m\u001b[0m\u001b[0m\n",
      "\u001b[0;32m~/ChessEngine/Backgammon/Backgammon.py\u001b[0m in \u001b[0;36mroll_dice\u001b[0;34m(self)\u001b[0m\n\u001b[1;32m    193\u001b[0m \u001b[0;34m\u001b[0m\u001b[0m\n\u001b[1;32m    194\u001b[0m         \u001b[0;32mdef\u001b[0m \u001b[0mroll_dice\u001b[0m\u001b[0;34m(\u001b[0m\u001b[0mself\u001b[0m\u001b[0;34m)\u001b[0m\u001b[0;34m:\u001b[0m\u001b[0;34m\u001b[0m\u001b[0;34m\u001b[0m\u001b[0m\n\u001b[0;32m--> 195\u001b[0;31m                 \u001b[0mroll1\u001b[0m\u001b[0;34m,\u001b[0m \u001b[0mroll2\u001b[0m \u001b[0;34m=\u001b[0m \u001b[0mself\u001b[0m\u001b[0;34m.\u001b[0m\u001b[0mroll_die\u001b[0m\u001b[0;34m(\u001b[0m\u001b[0;34m)\u001b[0m\u001b[0;34m,\u001b[0m \u001b[0mself\u001b[0m\u001b[0;34m.\u001b[0m\u001b[0mroll_die\u001b[0m\u001b[0;34m(\u001b[0m\u001b[0;34m)\u001b[0m\u001b[0;34m\u001b[0m\u001b[0;34m\u001b[0m\u001b[0m\n\u001b[0m\u001b[1;32m    196\u001b[0m                 \u001b[0;31m# put the higher die first for simplicity (need to use higher die if possible)\u001b[0m\u001b[0;34m\u001b[0m\u001b[0;34m\u001b[0m\u001b[0;34m\u001b[0m\u001b[0m\n\u001b[1;32m    197\u001b[0m                 \u001b[0mself\u001b[0m\u001b[0;34m.\u001b[0m\u001b[0mdice\u001b[0m \u001b[0;34m=\u001b[0m \u001b[0mmax\u001b[0m\u001b[0;34m(\u001b[0m\u001b[0mroll1\u001b[0m\u001b[0;34m,\u001b[0m \u001b[0mroll2\u001b[0m\u001b[0;34m)\u001b[0m\u001b[0;34m,\u001b[0m \u001b[0mmin\u001b[0m\u001b[0;34m(\u001b[0m\u001b[0mroll1\u001b[0m\u001b[0;34m,\u001b[0m \u001b[0mroll2\u001b[0m\u001b[0;34m)\u001b[0m\u001b[0;34m\u001b[0m\u001b[0;34m\u001b[0m\u001b[0m\n",
      "\u001b[0;32m~/ChessEngine/Backgammon/Backgammon.py\u001b[0m in \u001b[0;36mroll_die\u001b[0;34m(self)\u001b[0m\n\u001b[1;32m    190\u001b[0m \u001b[0;34m\u001b[0m\u001b[0m\n\u001b[1;32m    191\u001b[0m         \u001b[0;32mdef\u001b[0m \u001b[0mroll_die\u001b[0m\u001b[0;34m(\u001b[0m\u001b[0mself\u001b[0m\u001b[0;34m)\u001b[0m\u001b[0;34m:\u001b[0m\u001b[0;34m\u001b[0m\u001b[0;34m\u001b[0m\u001b[0m\n\u001b[0;32m--> 192\u001b[0;31m                 \u001b[0;32mreturn\u001b[0m \u001b[0mrandom\u001b[0m\u001b[0;34m.\u001b[0m\u001b[0mrandint\u001b[0m\u001b[0;34m(\u001b[0m\u001b[0;36m1\u001b[0m\u001b[0;34m,\u001b[0m \u001b[0;36m6\u001b[0m\u001b[0;34m)\u001b[0m\u001b[0;34m\u001b[0m\u001b[0;34m\u001b[0m\u001b[0m\n\u001b[0m\u001b[1;32m    193\u001b[0m \u001b[0;34m\u001b[0m\u001b[0m\n\u001b[1;32m    194\u001b[0m         \u001b[0;32mdef\u001b[0m \u001b[0mroll_dice\u001b[0m\u001b[0;34m(\u001b[0m\u001b[0mself\u001b[0m\u001b[0;34m)\u001b[0m\u001b[0;34m:\u001b[0m\u001b[0;34m\u001b[0m\u001b[0;34m\u001b[0m\u001b[0m\n",
      "\u001b[0;32m~/anaconda3/lib/python3.7/random.py\u001b[0m in \u001b[0;36mrandint\u001b[0;34m(self, a, b)\u001b[0m\n\u001b[1;32m    220\u001b[0m         \"\"\"\n\u001b[1;32m    221\u001b[0m \u001b[0;34m\u001b[0m\u001b[0m\n\u001b[0;32m--> 222\u001b[0;31m         \u001b[0;32mreturn\u001b[0m \u001b[0mself\u001b[0m\u001b[0;34m.\u001b[0m\u001b[0mrandrange\u001b[0m\u001b[0;34m(\u001b[0m\u001b[0ma\u001b[0m\u001b[0;34m,\u001b[0m \u001b[0mb\u001b[0m\u001b[0;34m+\u001b[0m\u001b[0;36m1\u001b[0m\u001b[0;34m)\u001b[0m\u001b[0;34m\u001b[0m\u001b[0;34m\u001b[0m\u001b[0m\n\u001b[0m\u001b[1;32m    223\u001b[0m \u001b[0;34m\u001b[0m\u001b[0m\n\u001b[1;32m    224\u001b[0m     def _randbelow(self, n, int=int, maxsize=1<<BPF, type=type,\n",
      "\u001b[0;31mKeyboardInterrupt\u001b[0m: "
     ]
    }
   ],
   "source": [
    "model.train(72001,300000)"
   ]
  },
  {
   "cell_type": "code",
   "execution_count": null,
   "metadata": {},
   "outputs": [],
   "source": []
  }
 ],
 "metadata": {
  "kernelspec": {
   "display_name": "Python 3",
   "language": "python",
   "name": "python3"
  },
  "language_info": {
   "codemirror_mode": {
    "name": "ipython",
    "version": 3
   },
   "file_extension": ".py",
   "mimetype": "text/x-python",
   "name": "python",
   "nbconvert_exporter": "python",
   "pygments_lexer": "ipython3",
   "version": "3.7.4"
  }
 },
 "nbformat": 4,
 "nbformat_minor": 2
}

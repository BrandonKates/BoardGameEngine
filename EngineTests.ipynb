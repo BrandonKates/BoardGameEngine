{
 "cells": [
  {
   "cell_type": "code",
   "execution_count": 7,
   "metadata": {},
   "outputs": [
    {
     "name": "stdout",
     "output_type": "stream",
     "text": [
      "The autoreload extension is already loaded. To reload it, use:\n",
      "  %reload_ext autoreload\n"
     ]
    }
   ],
   "source": [
    "%load_ext autoreload\n",
    "%autoreload 2"
   ]
  },
  {
   "cell_type": "code",
   "execution_count": 8,
   "metadata": {},
   "outputs": [],
   "source": [
    "from Engine import *"
   ]
  },
  {
   "cell_type": "code",
   "execution_count": 9,
   "metadata": {},
   "outputs": [
    {
     "data": {
      "text/plain": [
       "{'x': 7, 'y': 1}"
      ]
     },
     "execution_count": 9,
     "metadata": {},
     "output_type": "execute_result"
    }
   ],
   "source": [
    "pa = Pawn('b1', 'white')\n",
    "pa.pos"
   ]
  },
  {
   "cell_type": "code",
   "execution_count": 10,
   "metadata": {},
   "outputs": [],
   "source": [
    "class State:\n",
    "    def __init__(self):\n",
    "        self.board = []\n",
    "        self.turn = 'white'\n",
    "state = State()"
   ]
  },
  {
   "cell_type": "code",
   "execution_count": 11,
   "metadata": {
    "scrolled": true
   },
   "outputs": [],
   "source": [
    "P = Pawn('b2', 'white')\n",
    "R = Rook('a1', 'black')\n",
    "N = Knight('b1', 'white')\n",
    "B = Bishop('c1', 'white')\n",
    "Q = Queen('d1', 'white')\n",
    "K = King('e1', 'white')"
   ]
  },
  {
   "cell_type": "code",
   "execution_count": 16,
   "metadata": {},
   "outputs": [
    {
     "name": "stdout",
     "output_type": "stream",
     "text": [
      "♜\n"
     ]
    }
   ],
   "source": [
    "print(R.unicode)"
   ]
  },
  {
   "cell_type": "code",
   "execution_count": 12,
   "metadata": {},
   "outputs": [
    {
     "name": "stdout",
     "output_type": "stream",
     "text": [
      "['b3', 'b4', 'c3', 'a3']\n"
     ]
    }
   ],
   "source": [
    "print(P.get_legal_moves(state))"
   ]
  },
  {
   "cell_type": "code",
   "execution_count": 13,
   "metadata": {},
   "outputs": [
    {
     "name": "stdout",
     "output_type": "stream",
     "text": [
      "['a2', 'a3', 'a4', 'a5', 'a6', 'a7', 'a8', 'b1', 'c1', 'd1', 'e1', 'f1', 'g1', 'h1']\n"
     ]
    }
   ],
   "source": [
    "print(R.get_legal_moves(state))"
   ]
  },
  {
   "cell_type": "code",
   "execution_count": 14,
   "metadata": {
    "scrolled": true
   },
   "outputs": [
    {
     "name": "stdout",
     "output_type": "stream",
     "text": [
      "['a3', 'c3', 'd2']\n"
     ]
    }
   ],
   "source": [
    "print(N.get_legal_moves(state))"
   ]
  },
  {
   "cell_type": "code",
   "execution_count": 21,
   "metadata": {},
   "outputs": [
    {
     "name": "stdout",
     "output_type": "stream",
     "text": [
      "['d2', 'e3', 'f4', 'g5', 'h6', 'b2', 'a3']\n"
     ]
    }
   ],
   "source": [
    "print(B.get_legal_moves(state))"
   ]
  },
  {
   "cell_type": "code",
   "execution_count": 22,
   "metadata": {},
   "outputs": [
    {
     "name": "stdout",
     "output_type": "stream",
     "text": [
      "['d2', 'd3', 'd4', 'd5', 'd6', 'd7', 'd8', 'c1', 'b1', 'a1', 'e1', 'f1', 'g1', 'h1', 'e2', 'f3', 'g4', 'h5', 'c2', 'b3', 'a4']\n"
     ]
    }
   ],
   "source": [
    "print(Q.get_legal_moves(state))"
   ]
  },
  {
   "cell_type": "code",
   "execution_count": 23,
   "metadata": {},
   "outputs": [
    {
     "name": "stdout",
     "output_type": "stream",
     "text": [
      "['d1', 'f1', 'e2', 'd2', 'f2']\n"
     ]
    }
   ],
   "source": [
    "print(K.get_legal_moves(state))"
   ]
  },
  {
   "cell_type": "code",
   "execution_count": 11,
   "metadata": {},
   "outputs": [
    {
     "name": "stdout",
     "output_type": "stream",
     "text": [
      "'a8': (0,0),'b8': (0,1),'c8': (0,2),'d8': (0,3),'e8': (0,4),'f8': (0,5),'g8': (0,6),'h8': (0,7),\n",
      "'a7': (1,0),'b7': (1,1),'c7': (1,2),'d7': (1,3),'e7': (1,4),'f7': (1,5),'g7': (1,6),'h7': (1,7),\n",
      "'a6': (2,0),'b6': (2,1),'c6': (2,2),'d6': (2,3),'e6': (2,4),'f6': (2,5),'g6': (2,6),'h6': (2,7),\n",
      "'a5': (3,0),'b5': (3,1),'c5': (3,2),'d5': (3,3),'e5': (3,4),'f5': (3,5),'g5': (3,6),'h5': (3,7),\n",
      "'a4': (4,0),'b4': (4,1),'c4': (4,2),'d4': (4,3),'e4': (4,4),'f4': (4,5),'g4': (4,6),'h4': (4,7),\n",
      "'a3': (5,0),'b3': (5,1),'c3': (5,2),'d3': (5,3),'e3': (5,4),'f3': (5,5),'g3': (5,6),'h3': (5,7),\n",
      "'a2': (6,0),'b2': (6,1),'c2': (6,2),'d2': (6,3),'e2': (6,4),'f2': (6,5),'g2': (6,6),'h2': (6,7),\n",
      "'a1': (7,0),'b1': (7,1),'c1': (7,2),'d1': (7,3),'e1': (7,4),'f1': (7,5),'g1': (7,6),'h1': (7,7),\n"
     ]
    }
   ],
   "source": [
    "alph = 'abcdefgh'\n",
    "nums = '87654321'\n",
    "string = '{'\n",
    "row_offset = 0\n",
    "for i in range(0,8):\n",
    "    row = ''\n",
    "    for j in range(0,8):\n",
    "        #print(i + str(j+1))\n",
    "        st = alph[j]+nums[i]\n",
    "        row += \"'%s': (%i,%i),\" % (st, i, j)\n",
    "    row_offset -= 1\n",
    "    print(row)"
   ]
  },
  {
   "cell_type": "code",
   "execution_count": 12,
   "metadata": {},
   "outputs": [
    {
     "name": "stdout",
     "output_type": "stream",
     "text": [
      "['a8', 'b8', 'c8', 'd8', 'e8', 'f8', 'g8', 'h8', ],\n",
      "['a7', 'b7', 'c7', 'd7', 'e7', 'f7', 'g7', 'h7', ],\n",
      "['a6', 'b6', 'c6', 'd6', 'e6', 'f6', 'g6', 'h6', ],\n",
      "['a5', 'b5', 'c5', 'd5', 'e5', 'f5', 'g5', 'h5', ],\n",
      "['a4', 'b4', 'c4', 'd4', 'e4', 'f4', 'g4', 'h4', ],\n",
      "['a3', 'b3', 'c3', 'd3', 'e3', 'f3', 'g3', 'h3', ],\n",
      "['a2', 'b2', 'c2', 'd2', 'e2', 'f2', 'g2', 'h2', ],\n",
      "['a1', 'b1', 'c1', 'd1', 'e1', 'f1', 'g1', 'h1', ],\n"
     ]
    }
   ],
   "source": [
    "alph = 'abcdefgh'\n",
    "nums = '87654321'\n",
    "string = '{'\n",
    "for i in range(0,8):\n",
    "    row = '['\n",
    "    for j in range(0,8):\n",
    "        #print(i + str(j+1))\n",
    "        st = alph[j]+nums[i]\n",
    "        row += \"'%s', \" % st\n",
    "    row += '],'\n",
    "    print(row)"
   ]
  },
  {
   "cell_type": "code",
   "execution_count": null,
   "metadata": {},
   "outputs": [],
   "source": []
  },
  {
   "cell_type": "code",
   "execution_count": null,
   "metadata": {},
   "outputs": [],
   "source": []
  }
 ],
 "metadata": {
  "kernelspec": {
   "display_name": "Python 3",
   "language": "python",
   "name": "python3"
  },
  "language_info": {
   "codemirror_mode": {
    "name": "ipython",
    "version": 3
   },
   "file_extension": ".py",
   "mimetype": "text/x-python",
   "name": "python",
   "nbconvert_exporter": "python",
   "pygments_lexer": "ipython3",
   "version": "3.7.4"
  }
 },
 "nbformat": 4,
 "nbformat_minor": 2
}

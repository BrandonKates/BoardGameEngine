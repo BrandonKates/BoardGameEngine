{
 "cells": [
  {
   "cell_type": "code",
   "execution_count": 13,
   "metadata": {},
   "outputs": [
    {
     "name": "stdout",
     "output_type": "stream",
     "text": [
      "The autoreload extension is already loaded. To reload it, use:\n",
      "  %reload_ext autoreload\n"
     ]
    }
   ],
   "source": [
    "%load_ext autoreload\n",
    "%autoreload 2"
   ]
  },
  {
   "cell_type": "code",
   "execution_count": 14,
   "metadata": {},
   "outputs": [],
   "source": [
    "from Engine import *"
   ]
  },
  {
   "cell_type": "code",
   "execution_count": 15,
   "metadata": {},
   "outputs": [],
   "source": [
    "class State:\n",
    "    def __init__(self):\n",
    "        self.board = ChessBoard()\n",
    "        self.turn = 'white'\n",
    "state = State()"
   ]
  },
  {
   "cell_type": "code",
   "execution_count": 16,
   "metadata": {
    "scrolled": true
   },
   "outputs": [],
   "source": [
    "P = Pawn('b2', 'white')\n",
    "R = Rook('a1', 'black')\n",
    "N = Knight('b1', 'white')\n",
    "B = Bishop('c1', 'white')\n",
    "Q = Queen('d1', 'white')\n",
    "K = King('e1', 'white')"
   ]
  },
  {
   "cell_type": "code",
   "execution_count": 17,
   "metadata": {},
   "outputs": [
    {
     "name": "stdout",
     "output_type": "stream",
     "text": [
      "♜\n"
     ]
    }
   ],
   "source": [
    "print(R.unicode)"
   ]
  },
  {
   "cell_type": "code",
   "execution_count": 29,
   "metadata": {},
   "outputs": [
    {
     "name": "stdout",
     "output_type": "stream",
     "text": [
      "♜♞♝♛♚♝♞♜\n",
      "♟︎♟︎♟︎♟︎♟︎♟︎♟︎♟︎\n",
      "x x x x x x x x\n",
      "x x x x x x x x\n",
      "x x x x x x x x\n",
      "x x x x x x x x\n",
      "♙♙♙♙♙♙♙♙\n",
      "♖♘♗♕♔♗♘♖\n",
      "\n"
     ]
    }
   ],
   "source": [
    "print(state.board)"
   ]
  },
  {
   "cell_type": "code",
   "execution_count": 30,
   "metadata": {},
   "outputs": [
    {
     "data": {
      "text/plain": [
       "'♜♞♝♛♚♝♞♜\\n♟︎♟︎♟︎♟︎♟︎♟︎♟︎♟︎\\nx x x x x x x x\\nx x x x x x x x\\nx x x x x x x x\\nx x x x x x x x\\n♙♙♙♙♙♙♙♙\\n♖♘♗♕♔♗♘♖\\n'"
      ]
     },
     "execution_count": 30,
     "metadata": {},
     "output_type": "execute_result"
    }
   ],
   "source": [
    "state.board.__str__()"
   ]
  },
  {
   "cell_type": "code",
   "execution_count": 19,
   "metadata": {},
   "outputs": [
    {
     "name": "stdout",
     "output_type": "stream",
     "text": [
      "['b3', 'b4', 'c3', 'a3']\n"
     ]
    }
   ],
   "source": [
    "print(P.get_legal_moves(state))"
   ]
  },
  {
   "cell_type": "code",
   "execution_count": 20,
   "metadata": {},
   "outputs": [
    {
     "name": "stdout",
     "output_type": "stream",
     "text": [
      "['a2', 'b1']\n"
     ]
    }
   ],
   "source": [
    "print(R.get_legal_moves(state))"
   ]
  },
  {
   "cell_type": "code",
   "execution_count": 21,
   "metadata": {
    "scrolled": true
   },
   "outputs": [
    {
     "name": "stdout",
     "output_type": "stream",
     "text": [
      "['a3', 'c3']\n"
     ]
    }
   ],
   "source": [
    "print(N.get_legal_moves(state))"
   ]
  },
  {
   "cell_type": "code",
   "execution_count": 22,
   "metadata": {},
   "outputs": [
    {
     "name": "stdout",
     "output_type": "stream",
     "text": [
      "[]\n"
     ]
    }
   ],
   "source": [
    "print(B.get_legal_moves(state))"
   ]
  },
  {
   "cell_type": "code",
   "execution_count": 23,
   "metadata": {},
   "outputs": [
    {
     "name": "stdout",
     "output_type": "stream",
     "text": [
      "[]\n"
     ]
    }
   ],
   "source": [
    "print(Q.get_legal_moves(state))"
   ]
  },
  {
   "cell_type": "code",
   "execution_count": 12,
   "metadata": {},
   "outputs": [
    {
     "name": "stdout",
     "output_type": "stream",
     "text": [
      "[]\n"
     ]
    }
   ],
   "source": [
    "print(K.get_legal_moves(state))"
   ]
  },
  {
   "cell_type": "code",
   "execution_count": null,
   "metadata": {},
   "outputs": [],
   "source": [
    "alph = 'abcdefgh'\n",
    "nums = '87654321'\n",
    "string = '{'\n",
    "row_offset = 0\n",
    "for i in range(0,8):\n",
    "    row = ''\n",
    "    for j in range(0,8):\n",
    "        #print(i + str(j+1))\n",
    "        st = alph[j]+nums[i]\n",
    "        row += \"'%s': (%i,%i),\" % (st, i, j)\n",
    "    row_offset -= 1\n",
    "    print(row)"
   ]
  },
  {
   "cell_type": "code",
   "execution_count": null,
   "metadata": {},
   "outputs": [],
   "source": [
    "alph = 'abcdefgh'\n",
    "nums = '87654321'\n",
    "string = '{'\n",
    "for i in range(0,8):\n",
    "    row = '['\n",
    "    for j in range(0,8):\n",
    "        #print(i + str(j+1))\n",
    "        st = alph[j]+nums[i]\n",
    "        row += \"'%s', \" % st\n",
    "    row += '],'\n",
    "    print(row)"
   ]
  },
  {
   "cell_type": "code",
   "execution_count": null,
   "metadata": {},
   "outputs": [],
   "source": []
  },
  {
   "cell_type": "code",
   "execution_count": null,
   "metadata": {},
   "outputs": [],
   "source": []
  }
 ],
 "metadata": {
  "kernelspec": {
   "display_name": "Python 3",
   "language": "python",
   "name": "python3"
  },
  "language_info": {
   "codemirror_mode": {
    "name": "ipython",
    "version": 3
   },
   "file_extension": ".py",
   "mimetype": "text/x-python",
   "name": "python",
   "nbconvert_exporter": "python",
   "pygments_lexer": "ipython3",
   "version": "3.7.4"
  }
 },
 "nbformat": 4,
 "nbformat_minor": 2
}

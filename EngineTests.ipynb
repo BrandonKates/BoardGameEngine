{
 "cells": [
  {
   "cell_type": "code",
   "execution_count": 1,
   "metadata": {},
   "outputs": [],
   "source": [
    "%load_ext autoreload\n",
    "%autoreload 2"
   ]
  },
  {
   "cell_type": "code",
   "execution_count": null,
   "metadata": {},
   "outputs": [],
   "source": [
    "from Engine import *"
   ]
  },
  {
   "cell_type": "code",
   "execution_count": null,
   "metadata": {},
   "outputs": [],
   "source": [
    "r = Piece(PieceType.ROOK, Color.WHITE)\n",
    "r.toUnicode()"
   ]
  },
  {
   "cell_type": "code",
   "execution_count": null,
   "metadata": {},
   "outputs": [],
   "source": [
    "board = ChessBoard()\n",
    "print(board.toUnicode())"
   ]
  },
  {
   "cell_type": "code",
   "execution_count": null,
   "metadata": {},
   "outputs": [],
   "source": [
    "board.generate_bishop_moves('a1', Color.WHITE)"
   ]
  },
  {
   "cell_type": "code",
   "execution_count": null,
   "metadata": {},
   "outputs": [],
   "source": [
    "board.generate_rook_moves('a7', Color.WHITE)"
   ]
  },
  {
   "cell_type": "code",
   "execution_count": null,
   "metadata": {},
   "outputs": [],
   "source": [
    "board.generate_knight_moves('b1', Color.WHITE)"
   ]
  },
  {
   "cell_type": "code",
   "execution_count": null,
   "metadata": {},
   "outputs": [],
   "source": [
    "board.generate_queen_moves('d1', Color.BLACK)"
   ]
  },
  {
   "cell_type": "code",
   "execution_count": null,
   "metadata": {},
   "outputs": [],
   "source": [
    "board.generate_king_moves('e1', Color.BLACK)"
   ]
  },
  {
   "cell_type": "code",
   "execution_count": null,
   "metadata": {},
   "outputs": [],
   "source": [
    "board.generate_pawn_moves('d2', Color.WHITE)"
   ]
  },
  {
   "cell_type": "code",
   "execution_count": null,
   "metadata": {},
   "outputs": [],
   "source": [
    "alph = 'abcdefgh'\n",
    "nums = '87654321'\n",
    "string = '{'\n",
    "row_offset = 0\n",
    "for i in range(0,8):\n",
    "    row = ''\n",
    "    for j in range(0,8):\n",
    "        #print(i + str(j+1))\n",
    "        st = alph[j]+nums[i]\n",
    "        row += \"'%s': (%i,%i),\" % (st, i, j)\n",
    "    row_offset -= 1\n",
    "    print(row)"
   ]
  },
  {
   "cell_type": "code",
   "execution_count": null,
   "metadata": {},
   "outputs": [],
   "source": [
    "alph = 'abcdefgh'\n",
    "nums = '87654321'\n",
    "string = '{'\n",
    "for i in range(0,8):\n",
    "    row = '['\n",
    "    for j in range(0,8):\n",
    "        #print(i + str(j+1))\n",
    "        st = alph[j]+nums[i]\n",
    "        row += \"'%s', \" % st\n",
    "    row += '],'\n",
    "    print(row)"
   ]
  },
  {
   "cell_type": "code",
   "execution_count": null,
   "metadata": {},
   "outputs": [],
   "source": []
  },
  {
   "cell_type": "code",
   "execution_count": null,
   "metadata": {},
   "outputs": [],
   "source": [
    "import random\n",
    "nums = []\n",
    "for _ in range(1000000):\n",
    "    nums.append(random.randint(1,6))"
   ]
  },
  {
   "cell_type": "code",
   "execution_count": null,
   "metadata": {},
   "outputs": [],
   "source": [
    "ind = 5\n",
    "0 < ind < 10"
   ]
  },
  {
   "cell_type": "code",
   "execution_count": 2,
   "metadata": {},
   "outputs": [],
   "source": [
    "from Backgammon.Backgammon import *"
   ]
  },
  {
   "cell_type": "code",
   "execution_count": 3,
   "metadata": {},
   "outputs": [
    {
     "name": "stdout",
     "output_type": "stream",
     "text": [
      "Player 1 (white) rolled: 1\n",
      "Player 2 (black) rolled: 2\n",
      "Player 2 (black) goes first.\n"
     ]
    }
   ],
   "source": [
    "b = Backgammon()"
   ]
  },
  {
   "cell_type": "code",
   "execution_count": null,
   "metadata": {},
   "outputs": [],
   "source": [
    "move = Move(Player.DARK, 100, 5, True)\n",
    "move2 = Move(Player.DARK, 24-6, 4, False)\n",
    "move3 = Move(Player.DARK, 14, 3, True)\n",
    "move4 = Move(Player.DARK, None, 2, False)"
   ]
  },
  {
   "cell_type": "code",
   "execution_count": null,
   "metadata": {},
   "outputs": [],
   "source": [
    "moves = b.moves_to_dicts([move,move2, move3, move4])\n",
    "print(moves)"
   ]
  },
  {
   "cell_type": "code",
   "execution_count": null,
   "metadata": {},
   "outputs": [],
   "source": [
    "move4 = b.check_shared(moves[0], moves[1])\n",
    "print(move4)"
   ]
  },
  {
   "cell_type": "code",
   "execution_count": null,
   "metadata": {},
   "outputs": [],
   "source": [
    "d1 = Move(Player.DARK, 100,  2, False)\n",
    "d2 = Move(Player.DARK, 10  -1, 2, False)\n",
    "d3 = Move(Player.DARK, 10  -1, 11, False)\n",
    "d4 = Move(Player.DARK, 10  -1, 11, False)\n",
    "moves_doubles = [d1,d2,d3,d4]\n",
    "b.moves_to_BAN(moves_doubles, [2,2])"
   ]
  },
  {
   "cell_type": "code",
   "execution_count": null,
   "metadata": {},
   "outputs": [],
   "source": [
    "d1 = Move(Player.DARK, 8  -1, 2, False)\n",
    "d2 = Move(Player.DARK, 8  -1, 2, False)\n",
    "bef = str(b)\n",
    "b.apply_move(d1)\n",
    "b.apply_move(d2)\n",
    "aft = str(b)\n",
    "\n",
    "b.undo_move(d2)\n",
    "b.undo_move(d1)\n",
    "print(b.to_unicode())\n",
    "assert str(b) == bef != aft"
   ]
  },
  {
   "cell_type": "code",
   "execution_count": null,
   "metadata": {},
   "outputs": [],
   "source": [
    "d2 = Move(Player.DARK, 8  -1,  2,  False)\n",
    "d3 = Move(Player.DARK, 13 -1,  8,  False)\n",
    "d4 = Move(Player.DARK, 24 -1, 20, False)\n",
    "for _ in range(3):\n",
    "    b.apply_move(d2)\n",
    "for _ in range(5):\n",
    "    b.apply_move(d3)\n",
    "for _ in range(2):\n",
    "    b.apply_move(d4)\n",
    "\n",
    "print(b.to_unicode())\n",
    "b.able_to_bear(Player.DARK)"
   ]
  },
  {
   "cell_type": "code",
   "execution_count": 2,
   "metadata": {},
   "outputs": [],
   "source": [
    "from Backgammon.Backgammon import *"
   ]
  },
  {
   "cell_type": "code",
   "execution_count": 7,
   "metadata": {
    "scrolled": true
   },
   "outputs": [
    {
     "name": "stdout",
     "output_type": "stream",
     "text": [
      "Avg turns:  100\n",
      "White: 48, Black: 52\n",
      "CPU times: user 6.82 s, sys: 0 ns, total: 6.82 s\n",
      "Wall time: 6.83 s\n"
     ]
    }
   ],
   "source": [
    "%%time\n",
    "black_wins = 0\n",
    "white_wins = 0\n",
    "turns = 0\n",
    "for i in range(100):\n",
    "    winner, t = Backgammon(verbose = False).play_game()\n",
    "    if winner == 0:\n",
    "        white_wins += 1\n",
    "    elif winner == 1:\n",
    "        black_wins += 1\n",
    "    turns += t\n",
    "print(\"Avg turns: \", turns // 100)\n",
    "print(\"White: %s, Black: %s\" % (white_wins, black_wins))"
   ]
  },
  {
   "cell_type": "code",
   "execution_count": 9,
   "metadata": {},
   "outputs": [
    {
     "data": {
      "text/plain": [
       "1351"
      ]
     },
     "execution_count": 9,
     "metadata": {},
     "output_type": "execute_result"
    }
   ],
   "source": [
    "b.encode_checker_move([Move(0, 1001, -1, False), Move(0, 1001, -1, False)])"
   ]
  },
  {
   "cell_type": "code",
   "execution_count": 3,
   "metadata": {
    "scrolled": true
   },
   "outputs": [],
   "source": [
    "from Backgammon.Backgammon import *\n",
    "b = Backgammon(verbose = False)"
   ]
  },
  {
   "cell_type": "code",
   "execution_count": 4,
   "metadata": {},
   "outputs": [
    {
     "name": "stdout",
     "output_type": "stream",
     "text": [
      "Turn 1\n",
      "         LIGHT│DARK\n",
      "Bar:       0  │  0\n",
      "Beared:    0  │  0\n",
      "\n",
      "│13 14 15 16 17 18 19 20 21 22 23 24│\n",
      "│┯  ┯  ┯  ┯  ┯  ┯   ┯  ┯  ┯  ┯  ┯  ┯│\n",
      "│●           ○    ║ ○              ●│\n",
      "│●           ○    ║ ○              ●│\n",
      "│●           ○    ║ ○               │\n",
      "│●                ║ ○               │\n",
      "│●                ║ ○               │\n",
      "│═════════════════╬═════════════════│\n",
      "│○                ║ ●               │\n",
      "│○                ║ ●               │\n",
      "│○           ●    ║ ●               │\n",
      "│○           ●    ║ ●              ○│\n",
      "│○           ●    ║ ●              ○│\n",
      "│┷  ┷  ┷  ┷  ┷  ┷   ┷  ┷  ┷  ┷  ┷  ┷│\n",
      "│12 11 10 9  8  7   6  5  4  3  2  1│\n",
      "Rolled: ⚄ ⚀\n",
      " \n"
     ]
    }
   ],
   "source": [
    "print(b)"
   ]
  },
  {
   "cell_type": "code",
   "execution_count": 5,
   "metadata": {},
   "outputs": [],
   "source": [
    "%load_ext line_profiler\n",
    "%lprun -f b.play_game b.play_game()\n"
   ]
  },
  {
   "cell_type": "code",
   "execution_count": null,
   "metadata": {},
   "outputs": [],
   "source": []
  },
  {
   "cell_type": "code",
   "execution_count": null,
   "metadata": {},
   "outputs": [],
   "source": [
    "board = [\n",
    "\t\t\tBoardSquare(Player.LIGHT, 2), BoardSquare(Player.EMPTY, 0), BoardSquare(Player.EMPTY, 0), BoardSquare(\n",
    "\t\t\t\tPlayer.EMPTY, 0), BoardSquare(Player.EMPTY, 0), BoardSquare(Player.DARK,  5),\n",
    "\t\t\tBoardSquare(Player.EMPTY, 0), BoardSquare(Player.DARK,  3), BoardSquare(Player.EMPTY, 0), BoardSquare(\n",
    "\t\t\t\tPlayer.EMPTY, 0), BoardSquare(Player.EMPTY, 0), BoardSquare(Player.LIGHT, 5),\n",
    "\t\t\tBoardSquare(Player.DARK,  5), BoardSquare(Player.EMPTY, 0), BoardSquare(Player.EMPTY, 0), BoardSquare(\n",
    "\t\t\t\tPlayer.EMPTY, 0), BoardSquare(Player.LIGHT, 3), BoardSquare(Player.EMPTY, 0),\n",
    "\t\t\tBoardSquare(Player.LIGHT, 5), BoardSquare(Player.EMPTY, 0), BoardSquare(Player.EMPTY, 0), BoardSquare(\n",
    "\t\t\t\tPlayer.EMPTY, 0), BoardSquare(Player.EMPTY, 0), BoardSquare(Player.DARK,  2)\n",
    "\t\t]"
   ]
  },
  {
   "cell_type": "code",
   "execution_count": null,
   "metadata": {},
   "outputs": [],
   "source": [
    "%%timeit\n",
    "board[3].player"
   ]
  },
  {
   "cell_type": "code",
   "execution_count": null,
   "metadata": {},
   "outputs": [],
   "source": [
    "board = [ \n",
    "\t\t[2,0,0,0,0,0,\n",
    "\t\t 0,0,0,0,0,5,\n",
    "\t\t 0,0,0,0,3,0,\n",
    "\t\t 5,0,0,0,0,0],\n",
    "\t    [0,0,0,0,0,5,\n",
    "\t\t 0,3,0,0,0,0,\n",
    "\t\t 5,0,0,0,0,0,\n",
    "\t\t 0,0,0,0,0,2]]"
   ]
  },
  {
   "cell_type": "code",
   "execution_count": null,
   "metadata": {},
   "outputs": [],
   "source": [
    "%%timeit\n",
    "board[Player.LIGHT.value][3]"
   ]
  },
  {
   "cell_type": "code",
   "execution_count": null,
   "metadata": {},
   "outputs": [],
   "source": [
    "player = Player.LIGHT"
   ]
  },
  {
   "cell_type": "code",
   "execution_count": null,
   "metadata": {},
   "outputs": [],
   "source": [
    "%%timeit\n",
    "if player == Player.LIGHT:\n",
    "    board[0][3]\n",
    "elif player == Player.DARK:\n",
    "    board[1][3]"
   ]
  },
  {
   "cell_type": "code",
   "execution_count": null,
   "metadata": {},
   "outputs": [],
   "source": [
    "d = {Player.LIGHT : 0, Player.DARK: 1}"
   ]
  },
  {
   "cell_type": "code",
   "execution_count": null,
   "metadata": {},
   "outputs": [],
   "source": [
    "%%timeit\n",
    "board[d[player]][3]"
   ]
  },
  {
   "cell_type": "code",
   "execution_count": null,
   "metadata": {},
   "outputs": [],
   "source": [
    "%%timeit\n",
    "board[0][3]"
   ]
  },
  {
   "cell_type": "code",
   "execution_count": null,
   "metadata": {},
   "outputs": [],
   "source": [
    "board = {Player.LIGHT:\n",
    "\t\t[2,0,0,0,0,0,\n",
    "\t\t 0,0,0,0,0,5,\n",
    "\t\t 0,0,0,0,3,0,\n",
    "\t\t 5,0,0,0,0,0],\n",
    "\t    Player.DARK: [0,0,0,0,0,5,\n",
    "\t\t 0,3,0,0,0,0,\n",
    "\t\t 5,0,0,0,0,0,\n",
    "\t\t 0,0,0,0,0,2]}"
   ]
  },
  {
   "cell_type": "code",
   "execution_count": null,
   "metadata": {},
   "outputs": [],
   "source": [
    "%%timeit\n",
    "board[Player.LIGHT][3]"
   ]
  },
  {
   "cell_type": "code",
   "execution_count": null,
   "metadata": {},
   "outputs": [],
   "source": []
  }
 ],
 "metadata": {
  "kernelspec": {
   "display_name": "Python 3",
   "language": "python",
   "name": "python3"
  },
  "language_info": {
   "codemirror_mode": {
    "name": "ipython",
    "version": 3
   },
   "file_extension": ".py",
   "mimetype": "text/x-python",
   "name": "python",
   "nbconvert_exporter": "python",
   "pygments_lexer": "ipython3",
   "version": "3.7.4"
  }
 },
 "nbformat": 4,
 "nbformat_minor": 2
}

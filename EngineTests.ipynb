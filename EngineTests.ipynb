{
 "cells": [
  {
   "cell_type": "code",
   "execution_count": null,
   "metadata": {},
   "outputs": [],
   "source": [
    "%load_ext autoreload\n",
    "%autoreload 2"
   ]
  },
  {
   "cell_type": "code",
   "execution_count": null,
   "metadata": {},
   "outputs": [],
   "source": [
    "from Engine import *"
   ]
  },
  {
   "cell_type": "code",
   "execution_count": null,
   "metadata": {},
   "outputs": [],
   "source": [
    "r = Piece(PieceType.ROOK, Color.WHITE)\n",
    "r.toUnicode()"
   ]
  },
  {
   "cell_type": "code",
   "execution_count": null,
   "metadata": {},
   "outputs": [],
   "source": [
    "board = ChessBoard()\n",
    "print(board.toUnicode())"
   ]
  },
  {
   "cell_type": "code",
   "execution_count": null,
   "metadata": {},
   "outputs": [],
   "source": [
    "board.generate_bishop_moves('a1', Color.WHITE)"
   ]
  },
  {
   "cell_type": "code",
   "execution_count": null,
   "metadata": {},
   "outputs": [],
   "source": [
    "board.generate_rook_moves('a7', Color.WHITE)"
   ]
  },
  {
   "cell_type": "code",
   "execution_count": null,
   "metadata": {},
   "outputs": [],
   "source": [
    "board.generate_knight_moves('b1', Color.WHITE)"
   ]
  },
  {
   "cell_type": "code",
   "execution_count": null,
   "metadata": {},
   "outputs": [],
   "source": [
    "board.generate_queen_moves('d1', Color.BLACK)"
   ]
  },
  {
   "cell_type": "code",
   "execution_count": null,
   "metadata": {},
   "outputs": [],
   "source": [
    "board.generate_king_moves('e1', Color.BLACK)"
   ]
  },
  {
   "cell_type": "code",
   "execution_count": null,
   "metadata": {},
   "outputs": [],
   "source": [
    "board.generate_pawn_moves('d2', Color.WHITE)"
   ]
  },
  {
   "cell_type": "code",
   "execution_count": null,
   "metadata": {},
   "outputs": [],
   "source": [
    "alph = 'abcdefgh'\n",
    "nums = '87654321'\n",
    "string = '{'\n",
    "row_offset = 0\n",
    "for i in range(0,8):\n",
    "    row = ''\n",
    "    for j in range(0,8):\n",
    "        #print(i + str(j+1))\n",
    "        st = alph[j]+nums[i]\n",
    "        row += \"'%s': (%i,%i),\" % (st, i, j)\n",
    "    row_offset -= 1\n",
    "    print(row)"
   ]
  },
  {
   "cell_type": "code",
   "execution_count": null,
   "metadata": {},
   "outputs": [],
   "source": [
    "alph = 'abcdefgh'\n",
    "nums = '87654321'\n",
    "string = '{'\n",
    "for i in range(0,8):\n",
    "    row = '['\n",
    "    for j in range(0,8):\n",
    "        #print(i + str(j+1))\n",
    "        st = alph[j]+nums[i]\n",
    "        row += \"'%s', \" % st\n",
    "    row += '],'\n",
    "    print(row)"
   ]
  },
  {
   "cell_type": "code",
   "execution_count": null,
   "metadata": {},
   "outputs": [],
   "source": []
  },
  {
   "cell_type": "code",
   "execution_count": null,
   "metadata": {},
   "outputs": [],
   "source": [
    "import random\n",
    "nums = []\n",
    "for _ in range(1000000):\n",
    "    nums.append(random.randint(1,6))"
   ]
  },
  {
   "cell_type": "code",
   "execution_count": null,
   "metadata": {},
   "outputs": [],
   "source": [
    "ind = 5\n",
    "0 < ind < 10"
   ]
  },
  {
   "cell_type": "code",
   "execution_count": 1,
   "metadata": {},
   "outputs": [],
   "source": [
    "from Backgammon.Backgammon import *"
   ]
  },
  {
   "cell_type": "code",
   "execution_count": 2,
   "metadata": {},
   "outputs": [
    {
     "name": "stdout",
     "output_type": "stream",
     "text": [
      "Players Rolled Same Numbers, rolling again...\n"
     ]
    }
   ],
   "source": [
    "b = Backgammon()"
   ]
  },
  {
   "cell_type": "code",
   "execution_count": 3,
   "metadata": {},
   "outputs": [],
   "source": [
    "move = Move(Color.DARK, 100, 5, True)\n",
    "move2 = Move(Color.DARK, 24-6, 4, False)\n",
    "move3 = Move(Color.DARK, 14, 3, True)\n",
    "move4 = Move(Color.DARK, None, 2, False)"
   ]
  },
  {
   "cell_type": "code",
   "execution_count": 4,
   "metadata": {},
   "outputs": [
    {
     "name": "stdout",
     "output_type": "stream",
     "text": [
      "[{'pos': [100, 19], 'hit': [False, True]}, {'pos': [18, 14], 'hit': [False, False]}, {'pos': [14, 11], 'hit': [False, True]}]\n"
     ]
    }
   ],
   "source": [
    "moves = b.moves_to_dicts([move,move2, move3, move4])\n",
    "print(moves)"
   ]
  },
  {
   "cell_type": "code",
   "execution_count": 5,
   "metadata": {},
   "outputs": [
    {
     "name": "stdout",
     "output_type": "stream",
     "text": [
      "False\n"
     ]
    }
   ],
   "source": [
    "move4 = b.check_shared(moves[0], moves[1])\n",
    "print(move4)"
   ]
  },
  {
   "cell_type": "code",
   "execution_count": 6,
   "metadata": {},
   "outputs": [
    {
     "data": {
      "text/plain": [
       "'2-2: 10/off(2) bar/23 10/8'"
      ]
     },
     "execution_count": 6,
     "metadata": {},
     "output_type": "execute_result"
    }
   ],
   "source": [
    "d1 = Move(Color.DARK, 100, 2, False)\n",
    "d2 = Move(Color.DARK, 9, 2, False)\n",
    "d3 = Move(Color.DARK, 9, 11, False)\n",
    "d4 = Move(Color.DARK, 9, 11, False)\n",
    "moves_doubles = [d1,d2,d3,d4]\n",
    "b.moves_to_BAN(moves_doubles)"
   ]
  },
  {
   "cell_type": "code",
   "execution_count": 10,
   "metadata": {},
   "outputs": [
    {
     "name": "stdout",
     "output_type": "stream",
     "text": [
      "○○\t●●\n",
      "\t\n",
      "\t\n",
      "●\t\n",
      "\t\n",
      "●●●●\t○○○○○\n",
      "\t\n",
      "●●●\t○○○\n",
      "\t\n",
      "\t\n",
      "\t\n",
      "○○○○○\t●●●●●\n",
      "\n"
     ]
    }
   ],
   "source": [
    "d1 = Move(Color.DARK, 5, 2, False)\n",
    "bef = str(b)\n",
    "b.apply_move(d1)\n",
    "print(b)\n",
    "aft = str(b)\n",
    "b.undo_move(d1)\n",
    "assert str(b) == bef != aft"
   ]
  },
  {
   "cell_type": "code",
   "execution_count": 9,
   "metadata": {},
   "outputs": [
    {
     "data": {
      "text/plain": [
       "[BoardSquare(color=<Color.LIGHT: 0>, num=2),\n",
       " BoardSquare(color=<Color.EMPTY: 2>, num=0),\n",
       " BoardSquare(color=<Color.EMPTY: 2>, num=0),\n",
       " BoardSquare(color=<Color.EMPTY: 2>, num=0),\n",
       " BoardSquare(color=<Color.EMPTY: 2>, num=0),\n",
       " BoardSquare(color=<Color.DARK: 1>, num=5),\n",
       " BoardSquare(color=<Color.EMPTY: 2>, num=0),\n",
       " BoardSquare(color=<Color.DARK: 1>, num=3),\n",
       " BoardSquare(color=<Color.EMPTY: 2>, num=0),\n",
       " BoardSquare(color=<Color.EMPTY: 2>, num=0),\n",
       " BoardSquare(color=<Color.EMPTY: 2>, num=0),\n",
       " BoardSquare(color=<Color.LIGHT: 0>, num=5),\n",
       " BoardSquare(color=<Color.DARK: 1>, num=5),\n",
       " BoardSquare(color=<Color.EMPTY: 2>, num=0),\n",
       " BoardSquare(color=<Color.EMPTY: 2>, num=0),\n",
       " BoardSquare(color=<Color.EMPTY: 2>, num=0),\n",
       " BoardSquare(color=<Color.LIGHT: 0>, num=3),\n",
       " BoardSquare(color=<Color.EMPTY: 2>, num=0),\n",
       " BoardSquare(color=<Color.LIGHT: 0>, num=5),\n",
       " BoardSquare(color=<Color.EMPTY: 2>, num=0),\n",
       " BoardSquare(color=<Color.EMPTY: 2>, num=0),\n",
       " BoardSquare(color=<Color.EMPTY: 2>, num=0),\n",
       " BoardSquare(color=<Color.EMPTY: 2>, num=0),\n",
       " BoardSquare(color=<Color.DARK: 1>, num=2)]"
      ]
     },
     "execution_count": 9,
     "metadata": {},
     "output_type": "execute_result"
    }
   ],
   "source": [
    "b.board"
   ]
  },
  {
   "cell_type": "code",
   "execution_count": null,
   "metadata": {},
   "outputs": [],
   "source": []
  }
 ],
 "metadata": {
  "kernelspec": {
   "display_name": "Python 3",
   "language": "python",
   "name": "python3"
  },
  "language_info": {
   "codemirror_mode": {
    "name": "ipython",
    "version": 3
   },
   "file_extension": ".py",
   "mimetype": "text/x-python",
   "name": "python",
   "nbconvert_exporter": "python",
   "pygments_lexer": "ipython3",
   "version": "3.6.7"
  }
 },
 "nbformat": 4,
 "nbformat_minor": 2
}

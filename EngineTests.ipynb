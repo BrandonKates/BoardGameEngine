{
 "cells": [
  {
   "cell_type": "code",
   "execution_count": 1,
   "metadata": {},
   "outputs": [],
   "source": [
    "%load_ext autoreload\n",
    "%autoreload 2"
   ]
  },
  {
   "cell_type": "code",
   "execution_count": 2,
   "metadata": {},
   "outputs": [],
   "source": [
    "from Engine import *"
   ]
  },
  {
   "cell_type": "code",
   "execution_count": 3,
   "metadata": {},
   "outputs": [
    {
     "data": {
      "text/plain": [
       "'♖'"
      ]
     },
     "execution_count": 3,
     "metadata": {},
     "output_type": "execute_result"
    }
   ],
   "source": [
    "r = Piece(PieceType.ROOK, Color.WHITE)\n",
    "r.toUnicode()"
   ]
  },
  {
   "cell_type": "code",
   "execution_count": 4,
   "metadata": {},
   "outputs": [
    {
     "name": "stdout",
     "output_type": "stream",
     "text": [
      "♜♞♝♛♚♝♞♜\n",
      "♟♟♟♟♟♟♟♟\n",
      "........\n",
      "........\n",
      "........\n",
      "........\n",
      "♙♙♙♙♙♙♙♙\n",
      "♖♘♗♕♔♗♘♖\n",
      "\n"
     ]
    }
   ],
   "source": [
    "board = ChessBoard()\n",
    "print(board.toUnicode())"
   ]
  },
  {
   "cell_type": "code",
   "execution_count": 5,
   "metadata": {},
   "outputs": [
    {
     "data": {
      "text/plain": [
       "[]"
      ]
     },
     "execution_count": 5,
     "metadata": {},
     "output_type": "execute_result"
    }
   ],
   "source": [
    "board.generate_bishop_moves('a1', Color.WHITE)"
   ]
  },
  {
   "cell_type": "code",
   "execution_count": 6,
   "metadata": {},
   "outputs": [
    {
     "data": {
      "text/plain": [
       "['a8', 'a6', 'a5', 'a4', 'a3', 'b7']"
      ]
     },
     "execution_count": 6,
     "metadata": {},
     "output_type": "execute_result"
    }
   ],
   "source": [
    "board.generate_rook_moves('a7', Color.WHITE)"
   ]
  },
  {
   "cell_type": "code",
   "execution_count": 7,
   "metadata": {},
   "outputs": [
    {
     "data": {
      "text/plain": [
       "['a3', 'c3']"
      ]
     },
     "execution_count": 7,
     "metadata": {},
     "output_type": "execute_result"
    }
   ],
   "source": [
    "board.generate_knight_moves('b1', Color.WHITE)"
   ]
  },
  {
   "cell_type": "code",
   "execution_count": 8,
   "metadata": {},
   "outputs": [
    {
     "data": {
      "text/plain": [
       "['d2', 'c1', 'e1', 'c2', 'e2']"
      ]
     },
     "execution_count": 8,
     "metadata": {},
     "output_type": "execute_result"
    }
   ],
   "source": [
    "board.generate_queen_moves('d1', Color.BLACK)"
   ]
  },
  {
   "cell_type": "code",
   "execution_count": 9,
   "metadata": {},
   "outputs": [
    {
     "data": {
      "text/plain": [
       "['e2', 'd1', 'f1', 'd2', 'f2']"
      ]
     },
     "execution_count": 9,
     "metadata": {},
     "output_type": "execute_result"
    }
   ],
   "source": [
    "board.generate_king_moves('e1', Color.BLACK)"
   ]
  },
  {
   "cell_type": "code",
   "execution_count": 10,
   "metadata": {},
   "outputs": [
    {
     "data": {
      "text/plain": [
       "['d3', 'd4']"
      ]
     },
     "execution_count": 10,
     "metadata": {},
     "output_type": "execute_result"
    }
   ],
   "source": [
    "board.generate_pawn_moves('d2', Color.WHITE)"
   ]
  },
  {
   "cell_type": "code",
   "execution_count": 11,
   "metadata": {},
   "outputs": [
    {
     "name": "stdout",
     "output_type": "stream",
     "text": [
      "'a8': (0,0),'b8': (0,1),'c8': (0,2),'d8': (0,3),'e8': (0,4),'f8': (0,5),'g8': (0,6),'h8': (0,7),\n",
      "'a7': (1,0),'b7': (1,1),'c7': (1,2),'d7': (1,3),'e7': (1,4),'f7': (1,5),'g7': (1,6),'h7': (1,7),\n",
      "'a6': (2,0),'b6': (2,1),'c6': (2,2),'d6': (2,3),'e6': (2,4),'f6': (2,5),'g6': (2,6),'h6': (2,7),\n",
      "'a5': (3,0),'b5': (3,1),'c5': (3,2),'d5': (3,3),'e5': (3,4),'f5': (3,5),'g5': (3,6),'h5': (3,7),\n",
      "'a4': (4,0),'b4': (4,1),'c4': (4,2),'d4': (4,3),'e4': (4,4),'f4': (4,5),'g4': (4,6),'h4': (4,7),\n",
      "'a3': (5,0),'b3': (5,1),'c3': (5,2),'d3': (5,3),'e3': (5,4),'f3': (5,5),'g3': (5,6),'h3': (5,7),\n",
      "'a2': (6,0),'b2': (6,1),'c2': (6,2),'d2': (6,3),'e2': (6,4),'f2': (6,5),'g2': (6,6),'h2': (6,7),\n",
      "'a1': (7,0),'b1': (7,1),'c1': (7,2),'d1': (7,3),'e1': (7,4),'f1': (7,5),'g1': (7,6),'h1': (7,7),\n"
     ]
    }
   ],
   "source": [
    "alph = 'abcdefgh'\n",
    "nums = '87654321'\n",
    "string = '{'\n",
    "row_offset = 0\n",
    "for i in range(0,8):\n",
    "    row = ''\n",
    "    for j in range(0,8):\n",
    "        #print(i + str(j+1))\n",
    "        st = alph[j]+nums[i]\n",
    "        row += \"'%s': (%i,%i),\" % (st, i, j)\n",
    "    row_offset -= 1\n",
    "    print(row)"
   ]
  },
  {
   "cell_type": "code",
   "execution_count": 12,
   "metadata": {},
   "outputs": [
    {
     "name": "stdout",
     "output_type": "stream",
     "text": [
      "['a8', 'b8', 'c8', 'd8', 'e8', 'f8', 'g8', 'h8', ],\n",
      "['a7', 'b7', 'c7', 'd7', 'e7', 'f7', 'g7', 'h7', ],\n",
      "['a6', 'b6', 'c6', 'd6', 'e6', 'f6', 'g6', 'h6', ],\n",
      "['a5', 'b5', 'c5', 'd5', 'e5', 'f5', 'g5', 'h5', ],\n",
      "['a4', 'b4', 'c4', 'd4', 'e4', 'f4', 'g4', 'h4', ],\n",
      "['a3', 'b3', 'c3', 'd3', 'e3', 'f3', 'g3', 'h3', ],\n",
      "['a2', 'b2', 'c2', 'd2', 'e2', 'f2', 'g2', 'h2', ],\n",
      "['a1', 'b1', 'c1', 'd1', 'e1', 'f1', 'g1', 'h1', ],\n"
     ]
    }
   ],
   "source": [
    "alph = 'abcdefgh'\n",
    "nums = '87654321'\n",
    "string = '{'\n",
    "for i in range(0,8):\n",
    "    row = '['\n",
    "    for j in range(0,8):\n",
    "        #print(i + str(j+1))\n",
    "        st = alph[j]+nums[i]\n",
    "        row += \"'%s', \" % st\n",
    "    row += '],'\n",
    "    print(row)"
   ]
  },
  {
   "cell_type": "code",
   "execution_count": null,
   "metadata": {},
   "outputs": [],
   "source": []
  },
  {
   "cell_type": "code",
   "execution_count": 13,
   "metadata": {},
   "outputs": [],
   "source": [
    "import random\n",
    "nums = []\n",
    "for _ in range(1000000):\n",
    "    nums.append(random.randint(1,6))"
   ]
  },
  {
   "cell_type": "code",
   "execution_count": 14,
   "metadata": {},
   "outputs": [
    {
     "data": {
      "text/plain": [
       "True"
      ]
     },
     "execution_count": 14,
     "metadata": {},
     "output_type": "execute_result"
    }
   ],
   "source": [
    "ind = 5\n",
    "0 < ind < 10"
   ]
  },
  {
   "cell_type": "code",
   "execution_count": 15,
   "metadata": {},
   "outputs": [],
   "source": [
    "from Backgammon.Backgammon import *"
   ]
  },
  {
   "cell_type": "code",
   "execution_count": 16,
   "metadata": {},
   "outputs": [],
   "source": [
    "b = Backgammon()"
   ]
  },
  {
   "cell_type": "code",
   "execution_count": 17,
   "metadata": {},
   "outputs": [],
   "source": [
    "move = Move(Color.DARK, 100, 5, True)\n",
    "move2 = Move(Color.DARK, 24-6, 4, False)\n",
    "move3 = Move(Color.DARK, 14, 3, True)\n",
    "move4 = Move(Color.DARK, None, 2, False)"
   ]
  },
  {
   "cell_type": "code",
   "execution_count": 18,
   "metadata": {},
   "outputs": [
    {
     "name": "stdout",
     "output_type": "stream",
     "text": [
      "[{'pos': [100, 19], 'hit': [False, True]}, {'pos': [18, 14], 'hit': [False, False]}, {'pos': [14, 11], 'hit': [False, True]}]\n"
     ]
    }
   ],
   "source": [
    "moves = b.moves_to_dicts([move,move2, move3, move4])\n",
    "print(moves)"
   ]
  },
  {
   "cell_type": "code",
   "execution_count": 19,
   "metadata": {},
   "outputs": [
    {
     "name": "stdout",
     "output_type": "stream",
     "text": [
      "False\n"
     ]
    }
   ],
   "source": [
    "move4 = b.check_shared(moves[0], moves[1])\n",
    "print(move4)"
   ]
  },
  {
   "cell_type": "code",
   "execution_count": 20,
   "metadata": {},
   "outputs": [
    {
     "data": {
      "text/plain": [
       "'2-2: 10/off(2) bar/23 10/8'"
      ]
     },
     "execution_count": 20,
     "metadata": {},
     "output_type": "execute_result"
    }
   ],
   "source": [
    "d1 = Move(Color.DARK, 100,  2, False)\n",
    "d2 = Move(Color.DARK, 10  -1, 2, False)\n",
    "d3 = Move(Color.DARK, 10  -1, 11, False)\n",
    "d4 = Move(Color.DARK, 10  -1, 11, False)\n",
    "moves_doubles = [d1,d2,d3,d4]\n",
    "b.moves_to_BAN(moves_doubles)"
   ]
  },
  {
   "cell_type": "code",
   "execution_count": 21,
   "metadata": {},
   "outputs": [
    {
     "name": "stdout",
     "output_type": "stream",
     "text": [
      " 13 14 15 16 17 18 19 20 21 22 23 24\n",
      "│┯  ┯  ┯  ┯  ┯  ┯   ┯  ┯  ┯  ┯  ┯  ┯│\n",
      "│●           ○    ║ ○              ●│\n",
      "│●           ○    ║ ○              ●│\n",
      "│●           ○    ║ ○               │\n",
      "│●                ║ ○               │\n",
      "│●                ║ ○               │\n",
      "│═════════════════╬═════════════════│\n",
      "│○                ║ ●               │\n",
      "│○                ║ ●               │\n",
      "│○           ●    ║ ●               │\n",
      "│○           ●    ║ ●              ○│\n",
      "│○           ●    ║ ●              ○│\n",
      "│┷  ┷  ┷  ┷  ┷  ┷   ┷  ┷  ┷  ┷  ┷  ┷│\n",
      " 12 11 10 9  8  7   6  5  4  3  2  1\n",
      "\n"
     ]
    }
   ],
   "source": [
    "d1 = Move(Color.DARK, 8  -1, 2, False)\n",
    "d2 = Move(Color.DARK, 8  -1, 2, False)\n",
    "bef = str(b)\n",
    "b.apply_move(d1)\n",
    "b.apply_move(d2)\n",
    "aft = str(b)\n",
    "\n",
    "b.undo_move(d2)\n",
    "b.undo_move(d1)\n",
    "print(b.toUnicode())\n",
    "assert str(b) == bef != aft"
   ]
  },
  {
   "cell_type": "code",
   "execution_count": 22,
   "metadata": {},
   "outputs": [
    {
     "name": "stdout",
     "output_type": "stream",
     "text": [
      " 13 14 15 16 17 18 19 20 21 22 23 24\n",
      "│┯  ┯  ┯  ┯  ┯  ┯   ┯  ┯  ┯  ┯  ┯  ┯│\n",
      "│            ○    ║ ○               │\n",
      "│            ○    ║ ○               │\n",
      "│            ○    ║ ○               │\n",
      "│                 ║ ○               │\n",
      "│                 ║ ○               │\n",
      "│═════════════════╬═════════════════│\n",
      "│○                ║ ●  ●            │\n",
      "│○                ║ ●  ●            │\n",
      "│○                ║ ●  ●            │\n",
      "│○                ║ ●  ●  ●        ○│\n",
      "│○                ║ ●  ●  ●        ○│\n",
      "│┷  ┷  ┷  ┷  ┷  ┷   ┷  ┷  ┷  ┷  ┷  ┷│\n",
      " 12 11 10 9  8  7   6  5  4  3  2  1\n",
      "\n"
     ]
    },
    {
     "data": {
      "text/plain": [
       "True"
      ]
     },
     "execution_count": 22,
     "metadata": {},
     "output_type": "execute_result"
    }
   ],
   "source": [
    "d2 = Move(Color.DARK, 8  -1,  2,  False)\n",
    "d3 = Move(Color.DARK, 13 -1,  8,  False)\n",
    "d4 = Move(Color.DARK, 24 -1, 20, False)\n",
    "for _ in range(3):\n",
    "    b.apply_move(d2)\n",
    "for _ in range(5):\n",
    "    b.apply_move(d3)\n",
    "for _ in range(2):\n",
    "    b.apply_move(d4)\n",
    "\n",
    "print(b.toUnicode())\n",
    "b.able_to_bear(Color.DARK)"
   ]
  },
  {
   "cell_type": "code",
   "execution_count": 23,
   "metadata": {},
   "outputs": [
    {
     "name": "stdout",
     "output_type": "stream",
     "text": [
      " 13 14 15 16 17 18 19 20 21 22 23 24\n",
      "│┯  ┯  ┯  ┯  ┯  ┯   ┯  ┯  ┯  ┯  ┯  ┯│\n",
      "│            ○    ║ ○               │\n",
      "│            ○    ║ ○               │\n",
      "│            ○    ║ ○               │\n",
      "│                 ║ ○               │\n",
      "│                 ║ ○               │\n",
      "│═════════════════╬═════════════════│\n",
      "│○                ║ ●               │\n",
      "│○                ║ ●  ●            │\n",
      "│○                ║ ●  ●            │\n",
      "│○                ║ ●  ●  ●        ○│\n",
      "│○                ║ ●  ●  ●        ○│\n",
      "│┷  ┷  ┷  ┷  ┷  ┷   ┷  ┷  ┷  ┷  ┷  ┷│\n",
      " 12 11 10 9  8  7   6  5  4  3  2  1\n",
      "\n"
     ]
    }
   ],
   "source": [
    "b.apply_move(Move(Color.DARK, 5  -1, 6, False))\n",
    "print(b.toUnicode())"
   ]
  },
  {
   "cell_type": "code",
   "execution_count": 24,
   "metadata": {},
   "outputs": [],
   "source": [
    "b.undo_move(Move(Color.DARK, 5  -1, 6, False))"
   ]
  },
  {
   "cell_type": "code",
   "execution_count": 25,
   "metadata": {},
   "outputs": [
    {
     "data": {
      "text/plain": [
       "[[' ', ' ', ' ', ' ', '○', ' ', '○', ' ', ' ', ' ', ' ', ' '],\n",
       " [' ', ' ', ' ', ' ', '○', ' ', '○', ' ', ' ', ' ', ' ', ' '],\n",
       " [' ', ' ', ' ', ' ', '○', ' ', '○', ' ', ' ', ' ', ' ', ' '],\n",
       " [' ', ' ', ' ', ' ', ' ', ' ', '○', ' ', ' ', ' ', ' ', ' '],\n",
       " [' ', ' ', ' ', ' ', ' ', ' ', '○', ' ', ' ', ' ', ' ', ' '],\n",
       " ['○', ' ', ' ', ' ', ' ', ' ', '●', '●', ' ', ' ', ' ', ' '],\n",
       " ['○', ' ', ' ', ' ', ' ', ' ', '●', '●', ' ', ' ', ' ', ' '],\n",
       " ['○', ' ', ' ', ' ', ' ', ' ', '●', '●', ' ', ' ', ' ', ' '],\n",
       " ['○', ' ', ' ', ' ', ' ', ' ', '●', '●', '●', ' ', ' ', '○'],\n",
       " ['○', ' ', ' ', ' ', ' ', ' ', '●', '●', '●', ' ', ' ', '○']]"
      ]
     },
     "execution_count": 25,
     "metadata": {},
     "output_type": "execute_result"
    }
   ],
   "source": [
    "matrix = b.board_as_unicode_matrix()\n",
    "matrix"
   ]
  },
  {
   "cell_type": "code",
   "execution_count": 26,
   "metadata": {},
   "outputs": [
    {
     "name": "stdout",
     "output_type": "stream",
     "text": [
      " 13 14 15 16 17 18 19 20 21 22 23 24\n",
      "│┯  ┯  ┯  ┯  ┯  ┯   ┯  ┯  ┯  ┯  ┯  ┯│\n",
      "│            ○    ║ ○               │\n",
      "│            ○    ║ ○               │\n",
      "│            ○    ║ ○               │\n",
      "│                 ║ ○               │\n",
      "│                 ║ ○               │\n",
      "│═════════════════╬═════════════════│\n",
      "│○                ║ ●  ●            │\n",
      "│○                ║ ●  ●            │\n",
      "│○                ║ ●  ●            │\n",
      "│○                ║ ●  ●  ●        ○│\n",
      "│○                ║ ●  ●  ●        ○│\n",
      "│┷  ┷  ┷  ┷  ┷  ┷   ┷  ┷  ┷  ┷  ┷  ┷│\n",
      " 12 11 10 9  8  7   6  5  4  3  2  1\n",
      "\n"
     ]
    },
    {
     "data": {
      "text/plain": [
       "[Move(color=<Color.DARK: 1>, pos=5, num=3, hit=False),\n",
       " Move(color=<Color.DARK: 1>, pos=5, num=6, hit=False),\n",
       " Move(color=<Color.DARK: 1>, pos=4, num=3, hit=False)]"
      ]
     },
     "execution_count": 26,
     "metadata": {},
     "output_type": "execute_result"
    }
   ],
   "source": [
    "print(b.toUnicode())\n",
    "b.legal_checker_moves(Color.DARK, [3,6])"
   ]
  },
  {
   "cell_type": "code",
   "execution_count": 27,
   "metadata": {},
   "outputs": [
    {
     "name": "stdout",
     "output_type": "stream",
     "text": [
      " 13 14 15 16 17 18 19 20 21 22 23 24\n",
      "│┯  ┯  ┯  ┯  ┯  ┯   ┯  ┯  ┯  ┯  ┯  ┯│\n",
      "│●           ○    ║ ○              ●│\n",
      "│●           ○    ║ ○              ●│\n",
      "│●           ○    ║ ○               │\n",
      "│●                ║ ○               │\n",
      "│●                ║ ○               │\n",
      "│═════════════════╬═════════════════│\n",
      "│○                ║ ●               │\n",
      "│○                ║ ●               │\n",
      "│○           ●    ║ ●               │\n",
      "│○           ●    ║ ●              ○│\n",
      "│○           ●    ║ ●              ○│\n",
      "│┷  ┷  ┷  ┷  ┷  ┷   ┷  ┷  ┷  ┷  ┷  ┷│\n",
      " 12 11 10 9  8  7   6  5  4  3  2  1\n",
      "\n"
     ]
    }
   ],
   "source": [
    "b1 = Backgammon()\n",
    "print(b1.toUnicode())\n",
    "b1.generate_legal_moves(Color.LIGHT, [6,2])"
   ]
  },
  {
   "cell_type": "code",
   "execution_count": 28,
   "metadata": {},
   "outputs": [
    {
     "name": "stdout",
     "output_type": "stream",
     "text": [
      " 13 14 15 16 17 18 19 20 21 22 23 24\n",
      "│┯  ┯  ┯  ┯  ┯  ┯   ┯  ┯  ┯  ┯  ┯  ┯│\n",
      "│●           ○    ║ ○              ●│\n",
      "│●           ○    ║ ○              ●│\n",
      "│●           ○    ║ ○               │\n",
      "│●                ║ ○               │\n",
      "│●                ║ ○               │\n",
      "│═════════════════╬═════════════════│\n",
      "│○                ║ ●               │\n",
      "│○                ║ ●               │\n",
      "│○           ●    ║ ●               │\n",
      "│○           ●    ║ ●               │\n",
      "│○           ●  ○ ║ ●        ○      │\n",
      "│┷  ┷  ┷  ┷  ┷  ┷   ┷  ┷  ┷  ┷  ┷  ┷│\n",
      " 12 11 10 9  8  7   6  5  4  3  2  1\n",
      "\n"
     ]
    }
   ],
   "source": [
    "b1.apply_move(b1.moves_list[0][0])\n",
    "b1.apply_move(b1.moves_list[0][1])\n",
    "\n",
    "print(b1.toUnicode())"
   ]
  },
  {
   "cell_type": "code",
   "execution_count": 29,
   "metadata": {},
   "outputs": [
    {
     "data": {
      "text/plain": [
       "28"
      ]
     },
     "execution_count": 29,
     "metadata": {},
     "output_type": "execute_result"
    }
   ],
   "source": [
    "len(b1.moves_list)"
   ]
  },
  {
   "cell_type": "code",
   "execution_count": 30,
   "metadata": {},
   "outputs": [
    {
     "name": "stdout",
     "output_type": "stream",
     "text": [
      "Player 1 (white) rolled: 3\n",
      "Player 2 (black) rolled: 1\n",
      "Player 1 (white) goes first.\n",
      "Turn 1         LIGHT│DARK\n",
      "Bar:       0  │  0\n",
      "Beared:    0  │  0\n",
      "\n",
      " 13 14 15 16 17 18 19 20 21 22 23 24\n",
      "│┯  ┯  ┯  ┯  ┯  ┯   ┯  ┯  ┯  ┯  ┯  ┯│\n",
      "│●           ○    ║ ○              ●│\n",
      "│●           ○    ║ ○              ●│\n",
      "│●           ○    ║ ○               │\n",
      "│●                ║ ○               │\n",
      "│●                ║ ○               │\n",
      "│═════════════════╬═════════════════│\n",
      "│○                ║ ●               │\n",
      "│○                ║ ●               │\n",
      "│○           ●    ║ ●               │\n",
      "│○           ●    ║ ●              ○│\n",
      "│○           ●    ║ ●              ○│\n",
      "│┷  ┷  ┷  ┷  ┷  ┷   ┷  ┷  ┷  ┷  ┷  ┷│\n",
      " 12 11 10 9  8  7   6  5  4  3  2  1\n",
      "\n"
     ]
    },
    {
     "ename": "TypeError",
     "evalue": "'NoneType' object is not subscriptable",
     "output_type": "error",
     "traceback": [
      "\u001b[1;31m---------------------------------------------------------------------------\u001b[0m",
      "\u001b[1;31mTypeError\u001b[0m                                 Traceback (most recent call last)",
      "\u001b[1;32m<ipython-input-30-b85f8b039e18>\u001b[0m in \u001b[0;36m<module>\u001b[1;34m\u001b[0m\n\u001b[0;32m      1\u001b[0m \u001b[0mb2\u001b[0m \u001b[1;33m=\u001b[0m \u001b[0mBackgammon\u001b[0m\u001b[1;33m(\u001b[0m\u001b[1;33m)\u001b[0m\u001b[1;33m\u001b[0m\u001b[1;33m\u001b[0m\u001b[0m\n\u001b[1;32m----> 2\u001b[1;33m \u001b[0mb2\u001b[0m\u001b[1;33m.\u001b[0m\u001b[0mplay_game\u001b[0m\u001b[1;33m(\u001b[0m\u001b[1;33m)\u001b[0m\u001b[1;33m\u001b[0m\u001b[1;33m\u001b[0m\u001b[0m\n\u001b[0m",
      "\u001b[1;32m~\\ChessEngine\\Backgammon\\Backgammon.py\u001b[0m in \u001b[0;36mplay_game\u001b[1;34m(self)\u001b[0m\n\u001b[0;32m    563\u001b[0m                         \u001b[1;32mif\u001b[0m \u001b[0mself\u001b[0m\u001b[1;33m.\u001b[0m\u001b[0mverbose\u001b[0m\u001b[1;33m:\u001b[0m\u001b[1;33m\u001b[0m\u001b[1;33m\u001b[0m\u001b[0m\n\u001b[0;32m    564\u001b[0m                                 \u001b[0mprint\u001b[0m\u001b[1;33m(\u001b[0m\u001b[0mself\u001b[0m\u001b[1;33m)\u001b[0m\u001b[1;33m\u001b[0m\u001b[1;33m\u001b[0m\u001b[0m\n\u001b[1;32m--> 565\u001b[1;33m                                 \u001b[0mprint\u001b[0m\u001b[1;33m(\u001b[0m\u001b[1;34m\"\\nRolled: \"\u001b[0m\u001b[1;33m,\u001b[0m \u001b[0mself\u001b[0m\u001b[1;33m.\u001b[0m\u001b[0mdice_to_unicode\u001b[0m\u001b[1;33m(\u001b[0m\u001b[0mdice\u001b[0m\u001b[1;33m)\u001b[0m\u001b[1;33m)\u001b[0m\u001b[1;33m\u001b[0m\u001b[1;33m\u001b[0m\u001b[0m\n\u001b[0m\u001b[0;32m    566\u001b[0m                         \u001b[0mdice\u001b[0m \u001b[1;33m=\u001b[0m \u001b[0mself\u001b[0m\u001b[1;33m.\u001b[0m\u001b[0mplay_one_turn\u001b[0m\u001b[1;33m(\u001b[0m\u001b[0mself\u001b[0m\u001b[1;33m.\u001b[0m\u001b[0mrandom_policy\u001b[0m\u001b[1;33m)\u001b[0m\u001b[1;33m\u001b[0m\u001b[1;33m\u001b[0m\u001b[0m\n\u001b[0;32m    567\u001b[0m                         \u001b[0mself\u001b[0m\u001b[1;33m.\u001b[0m\u001b[0mturn_num\u001b[0m \u001b[1;33m+=\u001b[0m \u001b[1;36m1\u001b[0m\u001b[1;33m\u001b[0m\u001b[1;33m\u001b[0m\u001b[0m\n",
      "\u001b[1;32m~\\ChessEngine\\Backgammon\\Backgammon.py\u001b[0m in \u001b[0;36mdice_to_unicode\u001b[1;34m(self, dice)\u001b[0m\n\u001b[0;32m    170\u001b[0m \u001b[1;33m\u001b[0m\u001b[0m\n\u001b[0;32m    171\u001b[0m         \u001b[1;32mdef\u001b[0m \u001b[0mdice_to_unicode\u001b[0m\u001b[1;33m(\u001b[0m\u001b[0mself\u001b[0m\u001b[1;33m,\u001b[0m \u001b[0mdice\u001b[0m\u001b[1;33m)\u001b[0m\u001b[1;33m:\u001b[0m\u001b[1;33m\u001b[0m\u001b[1;33m\u001b[0m\u001b[0m\n\u001b[1;32m--> 172\u001b[1;33m                 \u001b[1;32mreturn\u001b[0m \u001b[0mself\u001b[0m\u001b[1;33m.\u001b[0m\u001b[0mroll_to_die_unicode\u001b[0m\u001b[1;33m(\u001b[0m\u001b[0mdice\u001b[0m\u001b[1;33m[\u001b[0m\u001b[1;36m0\u001b[0m\u001b[1;33m]\u001b[0m\u001b[1;33m)\u001b[0m \u001b[1;33m+\u001b[0m \u001b[0mself\u001b[0m\u001b[1;33m.\u001b[0m\u001b[0mroll_to_die_unicode\u001b[0m\u001b[1;33m(\u001b[0m\u001b[0mdice\u001b[0m\u001b[1;33m[\u001b[0m\u001b[1;36m1\u001b[0m\u001b[1;33m]\u001b[0m\u001b[1;33m)\u001b[0m\u001b[1;33m\u001b[0m\u001b[1;33m\u001b[0m\u001b[0m\n\u001b[0m\u001b[0;32m    173\u001b[0m \u001b[1;33m\u001b[0m\u001b[0m\n\u001b[0;32m    174\u001b[0m         \u001b[1;32mdef\u001b[0m \u001b[0mat\u001b[0m\u001b[1;33m(\u001b[0m\u001b[0mself\u001b[0m\u001b[1;33m,\u001b[0m \u001b[0mpoint\u001b[0m\u001b[1;33m)\u001b[0m\u001b[1;33m:\u001b[0m\u001b[1;33m\u001b[0m\u001b[1;33m\u001b[0m\u001b[0m\n",
      "\u001b[1;31mTypeError\u001b[0m: 'NoneType' object is not subscriptable"
     ]
    }
   ],
   "source": [
    "b2 = Backgammon()\n",
    "b2.play_game()"
   ]
  },
  {
   "cell_type": "code",
   "execution_count": null,
   "metadata": {},
   "outputs": [],
   "source": [
    "print(b)"
   ]
  },
  {
   "cell_type": "code",
   "execution_count": null,
   "metadata": {},
   "outputs": [],
   "source": []
  },
  {
   "cell_type": "code",
   "execution_count": null,
   "metadata": {
    "scrolled": true
   },
   "outputs": [],
   "source": [
    "black_wins = 0\n",
    "white_wins = 0\n",
    "for i in range(100):\n",
    "    winner = Backgammon(verbose = False).play_game()\n",
    "    if winner == Color.LIGHT:\n",
    "        white_wins += 1\n",
    "    else:\n",
    "        black_wins += 1"
   ]
  },
  {
   "cell_type": "code",
   "execution_count": null,
   "metadata": {},
   "outputs": [],
   "source": [
    "black_wins"
   ]
  },
  {
   "cell_type": "code",
   "execution_count": null,
   "metadata": {},
   "outputs": [],
   "source": [
    "s = '┕' + '┷' * 37 + '┙'\n",
    "print(s)"
   ]
  },
  {
   "cell_type": "code",
   "execution_count": null,
   "metadata": {},
   "outputs": [],
   "source": [
    "s = '‾'\n",
    "print(s)"
   ]
  },
  {
   "cell_type": "code",
   "execution_count": null,
   "metadata": {},
   "outputs": [],
   "source": [
    "s = '┕'\n",
    "for i in range(37):\n",
    "    if i % 3 == 0:\n",
    "        s += '┷'\n",
    "    else:\n",
    "        s += ' '\n",
    "s += '┙'\n",
    "print(s)"
   ]
  },
  {
   "cell_type": "code",
   "execution_count": null,
   "metadata": {},
   "outputs": [],
   "source": []
  }
 ],
 "metadata": {
  "kernelspec": {
   "display_name": "Python 3",
   "language": "python",
   "name": "python3"
  },
  "language_info": {
   "codemirror_mode": {
    "name": "ipython",
    "version": 3
   },
   "file_extension": ".py",
   "mimetype": "text/x-python",
   "name": "python",
   "nbconvert_exporter": "python",
   "pygments_lexer": "ipython3",
   "version": "3.7.4"
  }
 },
 "nbformat": 4,
 "nbformat_minor": 2
}
